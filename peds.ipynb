{
 "cells": [
  {
   "cell_type": "code",
   "execution_count": 3,
   "id": "4abdcbb6",
   "metadata": {},
   "outputs": [],
   "source": [
    "horse_ids = pd.read_pickle(\"horseid.pickle\")"
   ]
  },
  {
   "cell_type": "code",
   "execution_count": 2,
   "id": "a5fb1b6c",
   "metadata": {},
   "outputs": [],
   "source": [
    "import pandas as pd\n",
    "import time\n",
    "from tqdm.notebook import tqdm\n",
    "\n",
    "def scrape_peds(horse_id_list, pre_peds={}):\n",
    "    peds = pre_peds\n",
    "    for horse_id in tqdm(horse_id_list):\n",
    "        if horse_id in peds.keys():\n",
    "            continue\n",
    "        try:\n",
    "            url = \"https://db.netkeiba.com/horse/ped/\" + horse_id\n",
    "            df = pd.read_html(url)[0]\n",
    "            \n",
    "            generations = {}\n",
    "            for i in reversed(range(5)):\n",
    "                generations[i] = df[i]\n",
    "                df.drop([i], axis=1, inplace=True)\n",
    "                df = df.drop_duplicates()\n",
    "            \n",
    "            ped = pd.concat([generations[i] for i in range(5)]).rename(horse_id)\n",
    "            peds[horse_id] = ped.reset_index(drop=True)\n",
    "            time.sleep(1)\n",
    "        except IndexError:\n",
    "            continue\n",
    "        except:\n",
    "            break\n",
    "    return peds"
   ]
  },
  {
   "cell_type": "code",
   "execution_count": 3,
   "id": "89afa51f",
   "metadata": {},
   "outputs": [
    {
     "data": {
      "application/vnd.jupyter.widget-view+json": {
       "model_id": "212e3c51351f4f3d8f56407d1f24e43a",
       "version_major": 2,
       "version_minor": 0
      },
      "text/plain": [
       "  0%|          | 0/52 [00:00<?, ?it/s]"
      ]
     },
     "metadata": {},
     "output_type": "display_data"
    }
   ],
   "source": [
    "horses = pd.read_csv('./csv_new2/horse_id.csv')\n",
    "targets = horses['horse_id'].astype(str)\n",
    "peds = scrape_peds(targets)"
   ]
  },
  {
   "cell_type": "code",
   "execution_count": 4,
   "id": "767bc7a0",
   "metadata": {},
   "outputs": [],
   "source": [
    "peds = pd.concat([peds[horse_id] for horse_id in peds], axis=1).T\n",
    "peds = peds.add_prefix('peds_')\n",
    "peds.to_pickle('peds4.pickle')\n",
    "p = pd.read_pickle('peds4.pickle')\n",
    "p.to_csv('peds_1.csv')"
   ]
  }
 ],
 "metadata": {
  "kernelspec": {
   "display_name": "vir_env",
   "language": "python",
   "name": "vir_env"
  },
  "language_info": {
   "codemirror_mode": {
    "name": "ipython",
    "version": 3
   },
   "file_extension": ".py",
   "mimetype": "text/x-python",
   "name": "python",
   "nbconvert_exporter": "python",
   "pygments_lexer": "ipython3",
   "version": "3.9.13"
  }
 },
 "nbformat": 4,
 "nbformat_minor": 5
}
