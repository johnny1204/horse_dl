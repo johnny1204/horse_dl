{
 "cells": [
  {
   "cell_type": "code",
   "execution_count": 1,
   "id": "bf115621",
   "metadata": {},
   "outputs": [],
   "source": [
    "%config IPCompleter.greedy=True\n",
    "import pandas as pd\n",
    "import pickle\n",
    "import datetime\n",
    "import re\n",
    "from imblearn.under_sampling import RandomUnderSampler\n",
    "from sklearn.linear_model import LogisticRegression\n",
    "from sklearn.model_selection import train_test_split\n",
    "from sklearn.ensemble import RandomForestClassifier\n",
    "from sklearn.metrics import roc_curve, roc_auc_score\n",
    "import matplotlib.pyplot as pit\n",
    "from jupyterthemes import jtplot\n",
    "from sklearn.preprocessing import LabelEncoder\n",
    "from tqdm import tqdm\n",
    "import numpy as np\n",
    "\n",
    "def preprocessing(results, kako=5):\n",
    "    df = results.copy()\n",
    "    df = df[-(df['前走レースID(新)'].astype(str).str.contains(\"\\D\"))]\n",
    "    \n",
    "    df['斤量'] = df['斤量'].map(lambda x: re.sub('▲|☆|△|◇|★', '', str(x)))\n",
    "    df['斤量'] = df['斤量'].astype(float)\n",
    "    df['rank'] = df['rank'].map(lambda x: 1 if x < 4 else 0)\n",
    "#     df['time'] = df['走破タイム'].map(lambda x: ((int(x[0])*60*10) + (((int(x[2]) *10) + int(x[3]))* 10) + int(x[5])))\n",
    "#     df['difference'] = [-(df['着差'] == '----')]['着差'].astype(np.float64)\n",
    "    df['馬体重増減'] = df['馬体重増減'].astype(float)\n",
    "    \n",
    "    df['コース'] = df['距離'].map(lambda x: x[:1])\n",
    "    df['距離'] = df['距離'].map(lambda x: re.split('芝|ダ', x)[1]).astype(int)\n",
    "    df['date'] = df['レースID(新)'].astype(str).map(lambda x: datetime.datetime.strptime(x[:8], '%Y%m%d'))\n",
    "    \n",
    "    df.drop(['レースID(新)', '前走レースID(新)','クラス名', '出走頭数', '馬体重', '馬名', '着順',\n",
    "#              '単勝オッズ',\n",
    "             '人気', 'スピード指数', 'コンピ指数', 'コンピ順位',\n",
    "                   '多頭出し', '所属', '騎手', '調教師','種牡馬', '母父馬','馬連', '３連単', '走破タイム', '着差', \n",
    "                   '1角', '2角', '3角', '4角',\n",
    "             '上り3F', '上り3F順', '賞金', '付加賞金'], axis=1, inplace=True)\n",
    "    \n",
    "#     for num in range(1, kako + 1):\n",
    "#         str_num = str(num) + '走前'\n",
    "#         df.drop([\n",
    "#             str_num + '人気',\n",
    "#             str_num + '単勝オッズ',\n",
    "#         ], axis=1, inplace=True)\n",
    "#     for num in range(kako + 1, 10):\n",
    "#         str_num = str(num) + '走前'\n",
    "#         df.drop([\n",
    "#             str_num + '斤量',\n",
    "#             str_num + '騎手コード',\n",
    "#             str_num + '馬番',\n",
    "#             str_num + '人気',\n",
    "#             str_num + '馬体重増減',\n",
    "#             str_num + '単勝オッズ',\n",
    "# #             str_num + '上り3F',\n",
    "# #             str_num + '上り3F順',\n",
    "# #             str_num + '賞金',\n",
    "# #             str_num + '付加賞金'\n",
    "#             str_num + 'スピード指数',\n",
    "#             str_num + 'コンピ指数',\n",
    "# #             str_num + 'コンピ順位',\n",
    "#         ], axis=1, inplace=True)\n",
    "\n",
    "    return df\n",
    "\n",
    "def split_data(df, test_size=0.3):\n",
    "    sorted_ids = df.sort_values('date').index.unique()[:50000]\n",
    "    train_ids = sorted_ids[:round(len(sorted_ids) * (1-test_size))]\n",
    "    test_ids = sorted_ids[round(len(sorted_ids) * (1-test_size)):]\n",
    "    \n",
    "    train = df.loc[train_ids]\n",
    "    test = df.loc[test_ids]\n",
    "    \n",
    "    return train, test\n",
    "\n",
    "def process_categorical(df, target_columns):\n",
    "    df2 = df.copy()\n",
    "    for column in target_columns:\n",
    "        df2[column] = LabelEncoder().fit_transform(df2[column].fillna('Na'))\n",
    "    df2 = pd.get_dummies(df2)\n",
    "    for column in target_columns:\n",
    "        df2[column] = df2[column].astype('category')\n",
    "        \n",
    "    return df2\n",
    "\n",
    "def format_kako_race(df, kako=5):\n",
    "    df_copy = df.copy()\n",
    "    df_copy = df_copy.reset_index()\n",
    "    df_copy = df_copy[-(df_copy['着順'].astype(str).str.contains(\"\\D\"))]\n",
    "    df_copy['着順'] = df_copy['着順'].astype(int)\n",
    "    df_copy['rank'] = df_copy['着順'].map(lambda x: x if x < 4 else 4)\n",
    "\n",
    "    for num in range(1, kako + 1):\n",
    "        str_num = str(num)\n",
    "        df_copy = df_copy[-(df_copy[str_num + '走前着順'].astype(str).str.contains(\"\\D\"))]\n",
    "        df_copy[str(num) + '走前rank_' + str_num] = df_copy[str_num + '走前着順'].astype(int).map(lambda x: x if x < 4 else 4)\n",
    "        # 3着以内かどうか\n",
    "        df_copy[str(num) + '走前rank_' + str_num] = df_copy[str(num) + '走前rank_' + str(num)].map(lambda x: 1 if x < 4 else 0)\n",
    "        df_copy[str(num) + '走前jockey_'+ str_num] = df_copy[str_num + '走前騎手コード']\n",
    "        df_copy[str(num) + '走前time_' + str_num] = df_copy[df_copy[str_num +'走前走破タイム'].notna()][str_num +'走前走破タイム'].map(lambda x: ((int(x[0])*60*10) + (((int(x[2]) *10) + int(x[3]))* 10) + int(x[5])))\n",
    "        df_copy[str(num) + '走前difference_' + str_num] = df_copy[-(df_copy[str_num +'走前着差'] == '----')][str_num +'走前着差'].astype(np.float64)\n",
    "        df_copy[str(num) + '走前斤量'] = df_copy[str(num) + '走前斤量'].map(lambda x: re.sub('▲|☆|△|◇|★', '', str(x)))\n",
    "        df_copy[str(num) + '走前斤量'] = df_copy[str(num) + '走前斤量'].astype(float)\n",
    "        for c in range(1,5): \n",
    "            df_copy[str(num) + '走前corner_' + str(c)]=  df_copy[df_copy[str(num) + '走前' + str(c) + '角'].notna()][str(num) + '走前' + str(c) + '角'].astype(int)\n",
    "        \n",
    "    for num in range(1, 10):\n",
    "        str_num = str(num)\n",
    "        df_copy.drop([\n",
    "            str_num + '走前馬連',\n",
    "            str_num + '走前３連単',\n",
    "            str_num + '走前クラス名',\n",
    "            str_num + '走前着順',\n",
    "            str_num + '走前騎手',\n",
    "#             str_num + '走前人気',\n",
    "#             str_num + '走前馬番',\n",
    "            str_num + '走前走破タイム',\n",
    "            str_num + '走前着差',\n",
    "            str_num + '走前場所',\n",
    "            str_num + '走前距離',\n",
    "            str_num + '走前馬体重',\n",
    "#             str_num + '走前馬体重増減',\n",
    "#             str_num + '走前単勝オッズ',\n",
    "            str_num + '走前枠番',\n",
    "            str_num + '走前馬連',\n",
    "            str_num + '走前３連単',\n",
    "            str_num + '走前1角',\n",
    "            str_num + '走前2角',\n",
    "            str_num + '走前3角',\n",
    "            str_num + '走前4角',\n",
    "#             str_num + '走前上り3F',\n",
    "            str_num + '走前上り3F順',\n",
    "#             str_num + '走前賞金',\n",
    "            str_num + '走前付加賞金'\n",
    "        ], axis=1, inplace=True)\n",
    "\n",
    "    df_copy = df_copy.set_index('レースID(新/馬番無)')\n",
    "    return df_copy\n",
    "\n",
    "class ModelEvaluator:\n",
    "    def __init__(self, model, haitou_table, std = True):\n",
    "        self.model = model\n",
    "        self.haitou = haitou_table\n",
    "        self.std = std\n",
    "        \n",
    "    def predict_proba(self, X):\n",
    "        proba = pd.Series(self.model.predict_proba(X.drop(['単勝オッズ'], axis=1))[:, 1], index=X.index)\n",
    "        if self.std:\n",
    "            standard_scaler = lambda x: (x - x.mean()) / x.std()\n",
    "            proba = proba.groupby(level=0).transform(standard_scaler)\n",
    "            proba = (proba - proba.min()) / (proba.max() - proba.min())\n",
    "        return proba\n",
    "    \n",
    "    def prefict(self, X, threshold=0.5):\n",
    "        y_pred = self.predict_proba(X)\n",
    "        return [0 if p < threshold else 1 for p in y_pred]\n",
    "    \n",
    "    def score(self, y_true, X):\n",
    "        return roc_auc_score(y_true, self.predict_proba(X))\n",
    "    \n",
    "    def feature_importance(self, X, n_display=20):\n",
    "        importances = pd.DataFrame({'features': X.columns, 'importance': self.model.feature_importances_})\n",
    "        return importances.sort_values('importance', ascending=False)[:n_display]\n",
    "    \n",
    "    def pred_table(self, X, threshold=0.5, bet_only=True):\n",
    "        pred_table = X.copy()[['馬番', '単勝オッズ']]\n",
    "        pred_table['pred'] = self.prefict(X, threshold)\n",
    "        if bet_only:\n",
    "            pred_table = pred_table[pred_table['pred'] == 1][['馬番', '単勝オッズ']]\n",
    "            return pred_table\n",
    "        else:\n",
    "            return pred_table\n",
    "        \n",
    "    def fukusho_return(self, X, threshold=0.5):\n",
    "        pred_table = self.pred_table(X, threshold)\n",
    "        n_bets = len(pred_table)\n",
    "        money = -100 * n_bets\n",
    "        haitou = self.haitou.copy()\n",
    "        df = haitou.merge(pred_table, left_index=True, right_index=True, how='right')\n",
    "        for i in range(1, 5):\n",
    "            money += df[df['馬番_' + str(i)] == df['馬番']]['複勝_' + str(i)].sum()\n",
    "        return_rate =  (n_bets*100 + money) / (n_bets * 100)\n",
    "        return n_bets, return_rate\n",
    "    \n",
    "    def tansho_return(self, X, threshold=0.5):\n",
    "        pred_table = self.pred_table(X, threshold)\n",
    "        n_bets = len(pred_table)\n",
    "        \n",
    "        n_races = pred_table.index.nunique()\n",
    "        \n",
    "        money = -100 * n_bets\n",
    "        df = self.haitou.copy()\n",
    "        df = haitou.merge(pred_table, left_index=True, right_index=True, how='right')\n",
    "        df['単勝配当'] = df['単勝配当'].astype(int)\n",
    "        \n",
    "        std = ((df['馬番_1'] ==  df['馬番']) * df['単勝配当'])\\\n",
    "        .groupby(level=0).sum().std() * np.sqrt(n_races) / (100 * n_bets)\n",
    "        \n",
    "        n_hits = len(df[df['馬番_1'] == df['馬番']])\n",
    "        \n",
    "        money += df[df['馬番_1'] == df['馬番']]['単勝配当'].sum()\n",
    "        return_rate =  (n_bets*100 + money) / (n_bets * 100)\n",
    "        return n_bets, return_rate, n_hits, std\n",
    "    \n",
    "    def tansho_return_proper(self, X, threshold=0.5):\n",
    "        pred_table = self.pred_table(X, threshold)\n",
    "        n_bets = len(pred_table)\n",
    "        n_races = pred_table.index.nunique()\n",
    "        df = self.haitou.copy()\n",
    "        df = df.merge(pred_table, left_index=True, right_index=True, how='right')\n",
    "        \n",
    "        bet_money = (1/pred_table['単勝オッズ']).sum()\n",
    "        std = ((df['馬番_1'] == df['馬番']).astype(int)).groupby(level=0).sum().std() * np.sqrt(n_races) / bet_money\n",
    "        \n",
    "        n_hits = len(df.query('馬番_1 == 馬番'))\n",
    "        return_rate = n_hits/bet_money\n",
    "        return n_bets, return_rate, n_hits,std\n",
    "    \n",
    "def gain(return_func, X, n_samples=100, lower=50, min_threshold=0.5):\n",
    "    gain = {}\n",
    "    for i in tqdm(range(n_samples)):\n",
    "        threshold = 1 * i /n_samples + min_threshold * (1 - i/n_samples)\n",
    "        n_bets, return_rate, n_hits, std = return_func(X, threshold)\n",
    "        if n_bets == 0:\n",
    "            break;\n",
    "        if n_bets > lower:\n",
    "            gain[n_bets] = { 'return_rate': return_rate, 'n_hits': n_hits, 'std': std }\n",
    "    return pd.DataFrame(gain).T"
   ]
  },
  {
   "cell_type": "code",
   "execution_count": 2,
   "id": "8fbd7546",
   "metadata": {},
   "outputs": [],
   "source": [
    "allrace_peds_raceid = pd.read_pickle('allrace_peds_raceid2.pickle')\n",
    "results = format_kako_race(allrace_peds_raceid, 5)"
   ]
  },
  {
   "cell_type": "code",
   "execution_count": 3,
   "id": "e2fdcf53",
   "metadata": {},
   "outputs": [
    {
     "data": {
      "text/html": [
       "<div>\n",
       "<style scoped>\n",
       "    .dataframe tbody tr th:only-of-type {\n",
       "        vertical-align: middle;\n",
       "    }\n",
       "\n",
       "    .dataframe tbody tr th {\n",
       "        vertical-align: top;\n",
       "    }\n",
       "\n",
       "    .dataframe thead th {\n",
       "        text-align: right;\n",
       "    }\n",
       "</style>\n",
       "<table border=\"1\" class=\"dataframe\">\n",
       "  <thead>\n",
       "    <tr style=\"text-align: right;\">\n",
       "      <th></th>\n",
       "      <th>レースID(新)</th>\n",
       "      <th>前走レースID(新)</th>\n",
       "      <th>場所</th>\n",
       "      <th>距離</th>\n",
       "      <th>クラス名</th>\n",
       "      <th>出走頭数</th>\n",
       "      <th>着順</th>\n",
       "      <th>騎手</th>\n",
       "      <th>多頭出し</th>\n",
       "      <th>所属</th>\n",
       "      <th>...</th>\n",
       "      <th>peds_53</th>\n",
       "      <th>peds_54</th>\n",
       "      <th>peds_55</th>\n",
       "      <th>peds_56</th>\n",
       "      <th>peds_57</th>\n",
       "      <th>peds_58</th>\n",
       "      <th>peds_59</th>\n",
       "      <th>peds_60</th>\n",
       "      <th>peds_61</th>\n",
       "      <th>horse_id</th>\n",
       "    </tr>\n",
       "    <tr>\n",
       "      <th>レースID(新/馬番無)</th>\n",
       "      <th></th>\n",
       "      <th></th>\n",
       "      <th></th>\n",
       "      <th></th>\n",
       "      <th></th>\n",
       "      <th></th>\n",
       "      <th></th>\n",
       "      <th></th>\n",
       "      <th></th>\n",
       "      <th></th>\n",
       "      <th></th>\n",
       "      <th></th>\n",
       "      <th></th>\n",
       "      <th></th>\n",
       "      <th></th>\n",
       "      <th></th>\n",
       "      <th></th>\n",
       "      <th></th>\n",
       "      <th></th>\n",
       "      <th></th>\n",
       "      <th></th>\n",
       "    </tr>\n",
       "  </thead>\n",
       "  <tbody>\n",
       "    <tr>\n",
       "      <th>2022051505020812</th>\n",
       "      <td>202205150502081205</td>\n",
       "      <td>202204030902040710</td>\n",
       "      <td>東京</td>\n",
       "      <td>ダ1400</td>\n",
       "      <td>3勝</td>\n",
       "      <td>16</td>\n",
       "      <td>１</td>\n",
       "      <td>川田将雅</td>\n",
       "      <td>NaN</td>\n",
       "      <td>(栗)</td>\n",
       "      <td>...</td>\n",
       "      <td>ケープルビー</td>\n",
       "      <td>Storm Bird</td>\n",
       "      <td>Terlingua</td>\n",
       "      <td>フォーティナイナー</td>\n",
       "      <td>Leap Lively</td>\n",
       "      <td>Mr. Prospector</td>\n",
       "      <td>Secrettame</td>\n",
       "      <td>Riverman</td>\n",
       "      <td>Teacher's Joy</td>\n",
       "      <td>2018105954</td>\n",
       "    </tr>\n",
       "    <tr>\n",
       "      <th>2022051505020812</th>\n",
       "      <td>202205150502081212</td>\n",
       "      <td>202204170902081212</td>\n",
       "      <td>東京</td>\n",
       "      <td>ダ1400</td>\n",
       "      <td>3勝</td>\n",
       "      <td>16</td>\n",
       "      <td>２</td>\n",
       "      <td>坂井瑠星</td>\n",
       "      <td>NaN</td>\n",
       "      <td>(栗)</td>\n",
       "      <td>...</td>\n",
       "      <td>Attache Case</td>\n",
       "      <td>Storm Bird</td>\n",
       "      <td>Terlingua</td>\n",
       "      <td>Alydar</td>\n",
       "      <td>Track Robbery</td>\n",
       "      <td>Naskra</td>\n",
       "      <td>Candle Star</td>\n",
       "      <td>Whitesburg</td>\n",
       "      <td>Light Verse</td>\n",
       "      <td>2018105470</td>\n",
       "    </tr>\n",
       "    <tr>\n",
       "      <th>2022051505020812</th>\n",
       "      <td>202205150502081207</td>\n",
       "      <td>202204160902071011</td>\n",
       "      <td>東京</td>\n",
       "      <td>ダ1400</td>\n",
       "      <td>3勝</td>\n",
       "      <td>16</td>\n",
       "      <td>３</td>\n",
       "      <td>福永祐一</td>\n",
       "      <td>NaN</td>\n",
       "      <td>(栗)</td>\n",
       "      <td>...</td>\n",
       "      <td>Incantation</td>\n",
       "      <td>Northern Dancer</td>\n",
       "      <td>Sex Appeal</td>\n",
       "      <td>Mill Reef</td>\n",
       "      <td>Irish Lass</td>\n",
       "      <td>ゼダーン</td>\n",
       "      <td>Khairunissa</td>\n",
       "      <td>Sheshoon</td>\n",
       "      <td>Manush</td>\n",
       "      <td>2017106572</td>\n",
       "    </tr>\n",
       "    <tr>\n",
       "      <th>2022051505020812</th>\n",
       "      <td>202205150502081215</td>\n",
       "      <td>202204160902071006</td>\n",
       "      <td>東京</td>\n",
       "      <td>ダ1400</td>\n",
       "      <td>3勝</td>\n",
       "      <td>16</td>\n",
       "      <td>４</td>\n",
       "      <td>武豊</td>\n",
       "      <td>NaN</td>\n",
       "      <td>(栗)</td>\n",
       "      <td>...</td>\n",
       "      <td>The Dancer</td>\n",
       "      <td>Hail to Reason</td>\n",
       "      <td>Cosmah</td>\n",
       "      <td>Understanding</td>\n",
       "      <td>Mountain Flower</td>\n",
       "      <td>Bold Ruler</td>\n",
       "      <td>Somethingroyal</td>\n",
       "      <td>Nijinsky</td>\n",
       "      <td>Prodana Neviesta</td>\n",
       "      <td>2016104952</td>\n",
       "    </tr>\n",
       "    <tr>\n",
       "      <th>2022051505020812</th>\n",
       "      <td>202205150502081206</td>\n",
       "      <td>202203120702011115</td>\n",
       "      <td>東京</td>\n",
       "      <td>ダ1400</td>\n",
       "      <td>3勝</td>\n",
       "      <td>16</td>\n",
       "      <td>５</td>\n",
       "      <td>ルメール</td>\n",
       "      <td>NaN</td>\n",
       "      <td>(美)</td>\n",
       "      <td>...</td>\n",
       "      <td>Nenana Road</td>\n",
       "      <td>Hail to Reason</td>\n",
       "      <td>Cosmah</td>\n",
       "      <td>Understanding</td>\n",
       "      <td>Mountain Flower</td>\n",
       "      <td>テスコボーイ</td>\n",
       "      <td>ソシアルバターフライ</td>\n",
       "      <td>パーソロン</td>\n",
       "      <td>スイートルナ</td>\n",
       "      <td>2018105334</td>\n",
       "    </tr>\n",
       "  </tbody>\n",
       "</table>\n",
       "<p>5 rows × 365 columns</p>\n",
       "</div>"
      ],
      "text/plain": [
       "                            レースID(新)          前走レースID(新)  場所     距離 クラス名  \\\n",
       "レースID(新/馬番無)                                                               \n",
       "2022051505020812  202205150502081205  202204030902040710  東京  ダ1400   3勝   \n",
       "2022051505020812  202205150502081212  202204170902081212  東京  ダ1400   3勝   \n",
       "2022051505020812  202205150502081207  202204160902071011  東京  ダ1400   3勝   \n",
       "2022051505020812  202205150502081215  202204160902071006  東京  ダ1400   3勝   \n",
       "2022051505020812  202205150502081206  202203120702011115  東京  ダ1400   3勝   \n",
       "\n",
       "                  出走頭数 着順    騎手 多頭出し   所属  ...       peds_53          peds_54  \\\n",
       "レースID(新/馬番無)                               ...                                  \n",
       "2022051505020812    16  １  川田将雅  NaN  (栗)  ...        ケープルビー       Storm Bird   \n",
       "2022051505020812    16  ２  坂井瑠星  NaN  (栗)  ...  Attache Case       Storm Bird   \n",
       "2022051505020812    16  ３  福永祐一  NaN  (栗)  ...   Incantation  Northern Dancer   \n",
       "2022051505020812    16  ４    武豊  NaN  (栗)  ...    The Dancer   Hail to Reason   \n",
       "2022051505020812    16  ５  ルメール  NaN  (美)  ...   Nenana Road   Hail to Reason   \n",
       "\n",
       "                     peds_55        peds_56          peds_57         peds_58  \\\n",
       "レースID(新/馬番無)                                                                   \n",
       "2022051505020812   Terlingua      フォーティナイナー      Leap Lively  Mr. Prospector   \n",
       "2022051505020812   Terlingua         Alydar    Track Robbery          Naskra   \n",
       "2022051505020812  Sex Appeal      Mill Reef       Irish Lass            ゼダーン   \n",
       "2022051505020812      Cosmah  Understanding  Mountain Flower      Bold Ruler   \n",
       "2022051505020812      Cosmah  Understanding  Mountain Flower          テスコボーイ   \n",
       "\n",
       "                         peds_59     peds_60           peds_61    horse_id  \n",
       "レースID(新/馬番無)                                                                \n",
       "2022051505020812      Secrettame    Riverman     Teacher's Joy  2018105954  \n",
       "2022051505020812     Candle Star  Whitesburg       Light Verse  2018105470  \n",
       "2022051505020812     Khairunissa    Sheshoon            Manush  2017106572  \n",
       "2022051505020812  Somethingroyal    Nijinsky  Prodana Neviesta  2016104952  \n",
       "2022051505020812      ソシアルバターフライ       パーソロン            スイートルナ  2018105334  \n",
       "\n",
       "[5 rows x 365 columns]"
      ]
     },
     "execution_count": 3,
     "metadata": {},
     "output_type": "execute_result"
    }
   ],
   "source": [
    "allrace_peds_raceid.head()"
   ]
  },
  {
   "cell_type": "code",
   "execution_count": 263,
   "id": "64cbd337",
   "metadata": {},
   "outputs": [],
   "source": [
    "preprocessing_result = preprocessing(results, 5)"
   ]
  },
  {
   "cell_type": "code",
   "execution_count": 264,
   "id": "c6a837d2",
   "metadata": {},
   "outputs": [],
   "source": [
    "peds = pd.read_pickle(\"all_peds.pickle\")\n",
    "categorical_column = ['horse_id'] + list(peds.columns)\n",
    "test = process_categorical(preprocessing_result, categorical_column)"
   ]
  },
  {
   "cell_type": "code",
   "execution_count": 265,
   "id": "5f4e91d8",
   "metadata": {},
   "outputs": [],
   "source": [
    "train, test = split_data(test)\n",
    "# train, valid = split_data(train)"
   ]
  },
  {
   "cell_type": "code",
   "execution_count": 266,
   "id": "e6f18c76",
   "metadata": {},
   "outputs": [],
   "source": [
    "import optuna.integration.lightgbm as lgb_o\n",
    "\n",
    "X_train = train.drop(['date', 'rank', '単勝オッズ'], axis=1)\n",
    "y_train = train['rank']\n",
    "# X_valid = valid.drop(['date', 'rank'], axis=1)\n",
    "# y_valid = valid['rank']\n",
    "X_test = test.drop(['date', 'rank'], axis=1)\n",
    "y_test = test['rank']"
   ]
  },
  {
   "cell_type": "code",
   "execution_count": 16,
   "id": "dcdcc290",
   "metadata": {},
   "outputs": [
    {
     "name": "stderr",
     "output_type": "stream",
     "text": [
      "\u001b[32m[I 2022-05-29 10:27:00,704]\u001b[0m A new study created in memory with name: no-name-11e760b3-9c79-4268-8422-319a6839bc0a\u001b[0m\n",
      "\n",
      "\n",
      "  0%|        | 0/7 [00:00<?, ?it/s]\u001b[A\u001b[A\n",
      "\n",
      "feature_fraction, val_score: inf:  \u001b[A\u001b[A"
     ]
    },
    {
     "name": "stdout",
     "output_type": "stream",
     "text": [
      "[LightGBM] [Info] Number of positive: 35835, number of negative: 120571\n",
      "[LightGBM] [Warning] Auto-choosing row-wise multi-threading, the overhead of testing was 0.019177 seconds.\n",
      "You can set `force_row_wise=true` to remove the overhead.\n",
      "And if memory is not enough, you can set `force_col_wise=true`.\n",
      "[LightGBM] [Info] Total Bins 70924\n",
      "[LightGBM] [Info] Number of data points in the train set: 156406, number of used features: 185\n"
     ]
    },
    {
     "name": "stderr",
     "output_type": "stream",
     "text": [
      "/Users/shimizukeita/opt/anaconda3/lib/python3.9/site-packages/lightgbm/basic.py:1286: UserWarning: Overriding the parameters from Reference Dataset.\n",
      "  warnings.warn('Overriding the parameters from Reference Dataset.')\n",
      "/Users/shimizukeita/opt/anaconda3/lib/python3.9/site-packages/lightgbm/basic.py:1098: UserWarning: categorical_column in param dict is overridden.\n",
      "  warnings.warn('{} in param dict is overridden.'.format(cat_alias))\n",
      "/Users/shimizukeita/opt/anaconda3/lib/python3.9/site-packages/lightgbm/basic.py:1286: UserWarning: Overriding the parameters from Reference Dataset.\n",
      "  warnings.warn('Overriding the parameters from Reference Dataset.')\n",
      "/Users/shimizukeita/opt/anaconda3/lib/python3.9/site-packages/lightgbm/basic.py:1098: UserWarning: categorical_column in param dict is overridden.\n",
      "  warnings.warn('{} in param dict is overridden.'.format(cat_alias))\n"
     ]
    },
    {
     "name": "stdout",
     "output_type": "stream",
     "text": [
      "[LightGBM] [Info] [binary:BoostFromScore]: pavg=0.229115 -> initscore=-1.213314\n",
      "[LightGBM] [Info] Start training from score -1.213314\n",
      "Training until validation scores don't improve for 10 rounds\n"
     ]
    },
    {
     "name": "stderr",
     "output_type": "stream",
     "text": [
      "\n",
      "\n",
      "feature_fraction, val_score: 0.4748\u001b[A\u001b[A\n",
      "\n",
      "feature_fraction, val_score: 0.4748\u001b[A\u001b[A\u001b[32m[I 2022-05-29 10:27:05,258]\u001b[0m Trial 0 finished with value: 0.4748928686595218 and parameters: {'feature_fraction': 0.4}. Best is trial 0 with value: 0.4748928686595218.\u001b[0m\n",
      "\n",
      "\n",
      "feature_fraction, val_score: 0.4748\u001b[A\u001b[A"
     ]
    },
    {
     "name": "stdout",
     "output_type": "stream",
     "text": [
      "Early stopping, best iteration is:\n",
      "[34]\tvalid_0's binary_logloss: 0.432295\tvalid_1's binary_logloss: 0.474893\n",
      "[LightGBM] [Info] Number of positive: 35835, number of negative: 120571\n",
      "[LightGBM] [Warning] Auto-choosing row-wise multi-threading, the overhead of testing was 0.033518 seconds.\n",
      "You can set `force_row_wise=true` to remove the overhead.\n",
      "And if memory is not enough, you can set `force_col_wise=true`.\n",
      "[LightGBM] [Info] Total Bins 70924\n",
      "[LightGBM] [Info] Number of data points in the train set: 156406, number of used features: 185\n"
     ]
    },
    {
     "name": "stderr",
     "output_type": "stream",
     "text": [
      "/Users/shimizukeita/opt/anaconda3/lib/python3.9/site-packages/lightgbm/basic.py:1286: UserWarning: Overriding the parameters from Reference Dataset.\n",
      "  warnings.warn('Overriding the parameters from Reference Dataset.')\n",
      "/Users/shimizukeita/opt/anaconda3/lib/python3.9/site-packages/lightgbm/basic.py:1098: UserWarning: categorical_column in param dict is overridden.\n",
      "  warnings.warn('{} in param dict is overridden.'.format(cat_alias))\n",
      "/Users/shimizukeita/opt/anaconda3/lib/python3.9/site-packages/lightgbm/basic.py:1286: UserWarning: Overriding the parameters from Reference Dataset.\n",
      "  warnings.warn('Overriding the parameters from Reference Dataset.')\n",
      "/Users/shimizukeita/opt/anaconda3/lib/python3.9/site-packages/lightgbm/basic.py:1098: UserWarning: categorical_column in param dict is overridden.\n",
      "  warnings.warn('{} in param dict is overridden.'.format(cat_alias))\n"
     ]
    },
    {
     "name": "stdout",
     "output_type": "stream",
     "text": [
      "[LightGBM] [Info] [binary:BoostFromScore]: pavg=0.229115 -> initscore=-1.213314\n",
      "[LightGBM] [Info] Start training from score -1.213314\n",
      "Training until validation scores don't improve for 10 rounds\n"
     ]
    },
    {
     "name": "stderr",
     "output_type": "stream",
     "text": [
      "\n",
      "\n",
      "feature_fraction, val_score: 0.4741\u001b[A\u001b[A\n",
      "\n",
      "feature_fraction, val_score: 0.4741\u001b[A\u001b[A\u001b[32m[I 2022-05-29 10:27:10,580]\u001b[0m Trial 1 finished with value: 0.4741708473131091 and parameters: {'feature_fraction': 0.7}. Best is trial 1 with value: 0.4741708473131091.\u001b[0m\n",
      "\n",
      "\n",
      "feature_fraction, val_score: 0.4741\u001b[A\u001b[A"
     ]
    },
    {
     "name": "stdout",
     "output_type": "stream",
     "text": [
      "Early stopping, best iteration is:\n",
      "[32]\tvalid_0's binary_logloss: 0.432424\tvalid_1's binary_logloss: 0.474171\n",
      "[LightGBM] [Info] Number of positive: 35835, number of negative: 120571\n",
      "[LightGBM] [Warning] Auto-choosing col-wise multi-threading, the overhead of testing was 0.080424 seconds.\n",
      "You can set `force_col_wise=true` to remove the overhead.\n",
      "[LightGBM] [Info] Total Bins 70924\n",
      "[LightGBM] [Info] Number of data points in the train set: 156406, number of used features: 185\n"
     ]
    },
    {
     "name": "stderr",
     "output_type": "stream",
     "text": [
      "/Users/shimizukeita/opt/anaconda3/lib/python3.9/site-packages/lightgbm/basic.py:1286: UserWarning: Overriding the parameters from Reference Dataset.\n",
      "  warnings.warn('Overriding the parameters from Reference Dataset.')\n",
      "/Users/shimizukeita/opt/anaconda3/lib/python3.9/site-packages/lightgbm/basic.py:1098: UserWarning: categorical_column in param dict is overridden.\n",
      "  warnings.warn('{} in param dict is overridden.'.format(cat_alias))\n",
      "/Users/shimizukeita/opt/anaconda3/lib/python3.9/site-packages/lightgbm/basic.py:1286: UserWarning: Overriding the parameters from Reference Dataset.\n",
      "  warnings.warn('Overriding the parameters from Reference Dataset.')\n",
      "/Users/shimizukeita/opt/anaconda3/lib/python3.9/site-packages/lightgbm/basic.py:1098: UserWarning: categorical_column in param dict is overridden.\n",
      "  warnings.warn('{} in param dict is overridden.'.format(cat_alias))\n"
     ]
    },
    {
     "name": "stdout",
     "output_type": "stream",
     "text": [
      "[LightGBM] [Info] [binary:BoostFromScore]: pavg=0.229115 -> initscore=-1.213314\n",
      "[LightGBM] [Info] Start training from score -1.213314\n",
      "Training until validation scores don't improve for 10 rounds\n"
     ]
    },
    {
     "name": "stderr",
     "output_type": "stream",
     "text": [
      "\n",
      "\n",
      "feature_fraction, val_score: 0.4741\u001b[A\u001b[A\n",
      "\n",
      "feature_fraction, val_score: 0.4741\u001b[A\u001b[A\u001b[32m[I 2022-05-29 10:27:15,836]\u001b[0m Trial 2 finished with value: 0.474138382494326 and parameters: {'feature_fraction': 0.6}. Best is trial 2 with value: 0.474138382494326.\u001b[0m\n",
      "\n",
      "\n",
      "feature_fraction, val_score: 0.4741\u001b[A\u001b[A"
     ]
    },
    {
     "name": "stdout",
     "output_type": "stream",
     "text": [
      "Early stopping, best iteration is:\n",
      "[37]\tvalid_0's binary_logloss: 0.426235\tvalid_1's binary_logloss: 0.474138\n",
      "[LightGBM] [Info] Number of positive: 35835, number of negative: 120571\n",
      "[LightGBM] [Warning] Auto-choosing row-wise multi-threading, the overhead of testing was 0.044853 seconds.\n",
      "You can set `force_row_wise=true` to remove the overhead.\n",
      "And if memory is not enough, you can set `force_col_wise=true`.\n",
      "[LightGBM] [Info] Total Bins 70924\n",
      "[LightGBM] [Info] Number of data points in the train set: 156406, number of used features: 185\n"
     ]
    },
    {
     "name": "stderr",
     "output_type": "stream",
     "text": [
      "/Users/shimizukeita/opt/anaconda3/lib/python3.9/site-packages/lightgbm/basic.py:1286: UserWarning: Overriding the parameters from Reference Dataset.\n",
      "  warnings.warn('Overriding the parameters from Reference Dataset.')\n",
      "/Users/shimizukeita/opt/anaconda3/lib/python3.9/site-packages/lightgbm/basic.py:1098: UserWarning: categorical_column in param dict is overridden.\n",
      "  warnings.warn('{} in param dict is overridden.'.format(cat_alias))\n",
      "/Users/shimizukeita/opt/anaconda3/lib/python3.9/site-packages/lightgbm/basic.py:1286: UserWarning: Overriding the parameters from Reference Dataset.\n",
      "  warnings.warn('Overriding the parameters from Reference Dataset.')\n",
      "/Users/shimizukeita/opt/anaconda3/lib/python3.9/site-packages/lightgbm/basic.py:1098: UserWarning: categorical_column in param dict is overridden.\n",
      "  warnings.warn('{} in param dict is overridden.'.format(cat_alias))\n"
     ]
    },
    {
     "name": "stdout",
     "output_type": "stream",
     "text": [
      "[LightGBM] [Info] [binary:BoostFromScore]: pavg=0.229115 -> initscore=-1.213314\n",
      "[LightGBM] [Info] Start training from score -1.213314\n",
      "Training until validation scores don't improve for 10 rounds\n"
     ]
    },
    {
     "name": "stderr",
     "output_type": "stream",
     "text": [
      "\n",
      "\n",
      "feature_fraction, val_score: 0.4736\u001b[A\u001b[A\n",
      "\n",
      "feature_fraction, val_score: 0.4736\u001b[A\u001b[A\u001b[32m[I 2022-05-29 10:27:22,160]\u001b[0m Trial 3 finished with value: 0.4736194995607128 and parameters: {'feature_fraction': 1.0}. Best is trial 3 with value: 0.4736194995607128.\u001b[0m\n",
      "\n",
      "\n",
      "feature_fraction, val_score: 0.4736\u001b[A\u001b[A"
     ]
    },
    {
     "name": "stdout",
     "output_type": "stream",
     "text": [
      "Early stopping, best iteration is:\n",
      "[35]\tvalid_0's binary_logloss: 0.426813\tvalid_1's binary_logloss: 0.473619\n",
      "[LightGBM] [Info] Number of positive: 35835, number of negative: 120571\n",
      "[LightGBM] [Warning] Auto-choosing row-wise multi-threading, the overhead of testing was 0.025155 seconds.\n",
      "You can set `force_row_wise=true` to remove the overhead.\n",
      "And if memory is not enough, you can set `force_col_wise=true`.\n",
      "[LightGBM] [Info] Total Bins 70924\n",
      "[LightGBM] [Info] Number of data points in the train set: 156406, number of used features: 185\n"
     ]
    },
    {
     "name": "stderr",
     "output_type": "stream",
     "text": [
      "/Users/shimizukeita/opt/anaconda3/lib/python3.9/site-packages/lightgbm/basic.py:1286: UserWarning: Overriding the parameters from Reference Dataset.\n",
      "  warnings.warn('Overriding the parameters from Reference Dataset.')\n",
      "/Users/shimizukeita/opt/anaconda3/lib/python3.9/site-packages/lightgbm/basic.py:1098: UserWarning: categorical_column in param dict is overridden.\n",
      "  warnings.warn('{} in param dict is overridden.'.format(cat_alias))\n",
      "/Users/shimizukeita/opt/anaconda3/lib/python3.9/site-packages/lightgbm/basic.py:1286: UserWarning: Overriding the parameters from Reference Dataset.\n",
      "  warnings.warn('Overriding the parameters from Reference Dataset.')\n",
      "/Users/shimizukeita/opt/anaconda3/lib/python3.9/site-packages/lightgbm/basic.py:1098: UserWarning: categorical_column in param dict is overridden.\n",
      "  warnings.warn('{} in param dict is overridden.'.format(cat_alias))\n"
     ]
    },
    {
     "name": "stdout",
     "output_type": "stream",
     "text": [
      "[LightGBM] [Info] [binary:BoostFromScore]: pavg=0.229115 -> initscore=-1.213314\n",
      "[LightGBM] [Info] Start training from score -1.213314\n",
      "Training until validation scores don't improve for 10 rounds\n"
     ]
    },
    {
     "name": "stderr",
     "output_type": "stream",
     "text": [
      "\n",
      "\n",
      "feature_fraction, val_score: 0.4736\u001b[A\u001b[A\n",
      "\n",
      "feature_fraction, val_score: 0.4736\u001b[A\u001b[A\u001b[32m[I 2022-05-29 10:27:27,107]\u001b[0m Trial 4 finished with value: 0.4746301865904745 and parameters: {'feature_fraction': 0.5}. Best is trial 3 with value: 0.4736194995607128.\u001b[0m\n",
      "\n",
      "\n",
      "feature_fraction, val_score: 0.4736\u001b[A\u001b[A"
     ]
    },
    {
     "name": "stdout",
     "output_type": "stream",
     "text": [
      "Early stopping, best iteration is:\n",
      "[36]\tvalid_0's binary_logloss: 0.428538\tvalid_1's binary_logloss: 0.47463\n",
      "[LightGBM] [Info] Number of positive: 35835, number of negative: 120571\n",
      "[LightGBM] [Warning] Auto-choosing col-wise multi-threading, the overhead of testing was 0.103196 seconds.\n",
      "You can set `force_col_wise=true` to remove the overhead.\n",
      "[LightGBM] [Info] Total Bins 70924\n",
      "[LightGBM] [Info] Number of data points in the train set: 156406, number of used features: 185\n"
     ]
    },
    {
     "name": "stderr",
     "output_type": "stream",
     "text": [
      "/Users/shimizukeita/opt/anaconda3/lib/python3.9/site-packages/lightgbm/basic.py:1286: UserWarning: Overriding the parameters from Reference Dataset.\n",
      "  warnings.warn('Overriding the parameters from Reference Dataset.')\n",
      "/Users/shimizukeita/opt/anaconda3/lib/python3.9/site-packages/lightgbm/basic.py:1098: UserWarning: categorical_column in param dict is overridden.\n",
      "  warnings.warn('{} in param dict is overridden.'.format(cat_alias))\n",
      "/Users/shimizukeita/opt/anaconda3/lib/python3.9/site-packages/lightgbm/basic.py:1286: UserWarning: Overriding the parameters from Reference Dataset.\n",
      "  warnings.warn('Overriding the parameters from Reference Dataset.')\n",
      "/Users/shimizukeita/opt/anaconda3/lib/python3.9/site-packages/lightgbm/basic.py:1098: UserWarning: categorical_column in param dict is overridden.\n",
      "  warnings.warn('{} in param dict is overridden.'.format(cat_alias))\n"
     ]
    },
    {
     "name": "stdout",
     "output_type": "stream",
     "text": [
      "[LightGBM] [Info] [binary:BoostFromScore]: pavg=0.229115 -> initscore=-1.213314\n",
      "[LightGBM] [Info] Start training from score -1.213314\n",
      "Training until validation scores don't improve for 10 rounds\n"
     ]
    },
    {
     "name": "stderr",
     "output_type": "stream",
     "text": [
      "\n",
      "\n",
      "feature_fraction, val_score: 0.4735\u001b[A\u001b[A\n",
      "\n",
      "feature_fraction, val_score: 0.4735\u001b[A\u001b[A\u001b[32m[I 2022-05-29 10:27:32,976]\u001b[0m Trial 5 finished with value: 0.4735282119333434 and parameters: {'feature_fraction': 0.8999999999999999}. Best is trial 5 with value: 0.4735282119333434.\u001b[0m\n",
      "\n",
      "\n",
      "feature_fraction, val_score: 0.4735\u001b[A\u001b[A"
     ]
    },
    {
     "name": "stdout",
     "output_type": "stream",
     "text": [
      "Early stopping, best iteration is:\n",
      "[35]\tvalid_0's binary_logloss: 0.427506\tvalid_1's binary_logloss: 0.473528\n",
      "[LightGBM] [Info] Number of positive: 35835, number of negative: 120571\n",
      "[LightGBM] [Warning] Auto-choosing row-wise multi-threading, the overhead of testing was 0.035791 seconds.\n",
      "You can set `force_row_wise=true` to remove the overhead.\n",
      "And if memory is not enough, you can set `force_col_wise=true`.\n",
      "[LightGBM] [Info] Total Bins 70924\n",
      "[LightGBM] [Info] Number of data points in the train set: 156406, number of used features: 185\n"
     ]
    },
    {
     "name": "stderr",
     "output_type": "stream",
     "text": [
      "/Users/shimizukeita/opt/anaconda3/lib/python3.9/site-packages/lightgbm/basic.py:1286: UserWarning: Overriding the parameters from Reference Dataset.\n",
      "  warnings.warn('Overriding the parameters from Reference Dataset.')\n",
      "/Users/shimizukeita/opt/anaconda3/lib/python3.9/site-packages/lightgbm/basic.py:1098: UserWarning: categorical_column in param dict is overridden.\n",
      "  warnings.warn('{} in param dict is overridden.'.format(cat_alias))\n",
      "/Users/shimizukeita/opt/anaconda3/lib/python3.9/site-packages/lightgbm/basic.py:1286: UserWarning: Overriding the parameters from Reference Dataset.\n",
      "  warnings.warn('Overriding the parameters from Reference Dataset.')\n",
      "/Users/shimizukeita/opt/anaconda3/lib/python3.9/site-packages/lightgbm/basic.py:1098: UserWarning: categorical_column in param dict is overridden.\n",
      "  warnings.warn('{} in param dict is overridden.'.format(cat_alias))\n"
     ]
    },
    {
     "name": "stdout",
     "output_type": "stream",
     "text": [
      "[LightGBM] [Info] [binary:BoostFromScore]: pavg=0.229115 -> initscore=-1.213314\n",
      "[LightGBM] [Info] Start training from score -1.213314\n",
      "Training until validation scores don't improve for 10 rounds\n"
     ]
    },
    {
     "name": "stderr",
     "output_type": "stream",
     "text": [
      "\n",
      "\n",
      "feature_fraction, val_score: 0.4735\u001b[A\u001b[A\n",
      "\n",
      "feature_fraction, val_score: 0.4735\u001b[A\u001b[A\u001b[32m[I 2022-05-29 10:27:39,080]\u001b[0m Trial 6 finished with value: 0.4738059398375937 and parameters: {'feature_fraction': 0.8}. Best is trial 5 with value: 0.4735282119333434.\u001b[0m\n",
      "feature_fraction, val_score: 0.4735\n"
     ]
    },
    {
     "name": "stdout",
     "output_type": "stream",
     "text": [
      "Early stopping, best iteration is:\n",
      "[38]\tvalid_0's binary_logloss: 0.424242\tvalid_1's binary_logloss: 0.473806\n"
     ]
    },
    {
     "name": "stderr",
     "output_type": "stream",
     "text": [
      "\n",
      "\n",
      "  0%|       | 0/20 [00:00<?, ?it/s]\u001b[A\u001b[A\n",
      "\n",
      "num_leaves, val_score: 0.473528:   \u001b[A\u001b[A"
     ]
    },
    {
     "name": "stdout",
     "output_type": "stream",
     "text": [
      "[LightGBM] [Info] Number of positive: 35835, number of negative: 120571\n",
      "[LightGBM] [Warning] Auto-choosing row-wise multi-threading, the overhead of testing was 0.033193 seconds.\n",
      "You can set `force_row_wise=true` to remove the overhead.\n",
      "And if memory is not enough, you can set `force_col_wise=true`.\n",
      "[LightGBM] [Info] Total Bins 70924\n",
      "[LightGBM] [Info] Number of data points in the train set: 156406, number of used features: 185\n"
     ]
    },
    {
     "name": "stderr",
     "output_type": "stream",
     "text": [
      "/Users/shimizukeita/opt/anaconda3/lib/python3.9/site-packages/lightgbm/basic.py:1286: UserWarning: Overriding the parameters from Reference Dataset.\n",
      "  warnings.warn('Overriding the parameters from Reference Dataset.')\n",
      "/Users/shimizukeita/opt/anaconda3/lib/python3.9/site-packages/lightgbm/basic.py:1098: UserWarning: categorical_column in param dict is overridden.\n",
      "  warnings.warn('{} in param dict is overridden.'.format(cat_alias))\n",
      "/Users/shimizukeita/opt/anaconda3/lib/python3.9/site-packages/lightgbm/basic.py:1286: UserWarning: Overriding the parameters from Reference Dataset.\n",
      "  warnings.warn('Overriding the parameters from Reference Dataset.')\n",
      "/Users/shimizukeita/opt/anaconda3/lib/python3.9/site-packages/lightgbm/basic.py:1098: UserWarning: categorical_column in param dict is overridden.\n",
      "  warnings.warn('{} in param dict is overridden.'.format(cat_alias))\n"
     ]
    },
    {
     "name": "stdout",
     "output_type": "stream",
     "text": [
      "[LightGBM] [Info] [binary:BoostFromScore]: pavg=0.229115 -> initscore=-1.213314\n",
      "[LightGBM] [Info] Start training from score -1.213314\n",
      "Training until validation scores don't improve for 10 rounds\n"
     ]
    },
    {
     "name": "stderr",
     "output_type": "stream",
     "text": [
      "\n",
      "\n",
      "num_leaves, val_score: 0.473528:   \u001b[A\u001b[A\n",
      "\n",
      "num_leaves, val_score: 0.473528:   \u001b[A\u001b[A\u001b[32m[I 2022-05-29 10:27:46,426]\u001b[0m Trial 7 finished with value: 0.4806978119952619 and parameters: {'num_leaves': 199}. Best is trial 7 with value: 0.4806978119952619.\u001b[0m\n",
      "\n",
      "\n",
      "num_leaves, val_score: 0.473528:   \u001b[A\u001b[A"
     ]
    },
    {
     "name": "stdout",
     "output_type": "stream",
     "text": [
      "Early stopping, best iteration is:\n",
      "[16]\tvalid_0's binary_logloss: 0.413007\tvalid_1's binary_logloss: 0.480698\n",
      "[LightGBM] [Info] Number of positive: 35835, number of negative: 120571\n",
      "[LightGBM] [Warning] Auto-choosing row-wise multi-threading, the overhead of testing was 0.041128 seconds.\n",
      "You can set `force_row_wise=true` to remove the overhead.\n",
      "And if memory is not enough, you can set `force_col_wise=true`.\n",
      "[LightGBM] [Info] Total Bins 70924\n",
      "[LightGBM] [Info] Number of data points in the train set: 156406, number of used features: 185\n"
     ]
    },
    {
     "name": "stderr",
     "output_type": "stream",
     "text": [
      "/Users/shimizukeita/opt/anaconda3/lib/python3.9/site-packages/lightgbm/basic.py:1286: UserWarning: Overriding the parameters from Reference Dataset.\n",
      "  warnings.warn('Overriding the parameters from Reference Dataset.')\n",
      "/Users/shimizukeita/opt/anaconda3/lib/python3.9/site-packages/lightgbm/basic.py:1098: UserWarning: categorical_column in param dict is overridden.\n",
      "  warnings.warn('{} in param dict is overridden.'.format(cat_alias))\n",
      "/Users/shimizukeita/opt/anaconda3/lib/python3.9/site-packages/lightgbm/basic.py:1286: UserWarning: Overriding the parameters from Reference Dataset.\n",
      "  warnings.warn('Overriding the parameters from Reference Dataset.')\n",
      "/Users/shimizukeita/opt/anaconda3/lib/python3.9/site-packages/lightgbm/basic.py:1098: UserWarning: categorical_column in param dict is overridden.\n",
      "  warnings.warn('{} in param dict is overridden.'.format(cat_alias))\n"
     ]
    },
    {
     "name": "stdout",
     "output_type": "stream",
     "text": [
      "[LightGBM] [Info] [binary:BoostFromScore]: pavg=0.229115 -> initscore=-1.213314\n",
      "[LightGBM] [Info] Start training from score -1.213314\n",
      "Training until validation scores don't improve for 10 rounds\n"
     ]
    },
    {
     "name": "stderr",
     "output_type": "stream",
     "text": [
      "\n",
      "\n",
      "num_leaves, val_score: 0.473528:   \u001b[A\u001b[A\n",
      "\n",
      "num_leaves, val_score: 0.473528:  1\u001b[A\u001b[A\u001b[32m[I 2022-05-29 10:27:53,837]\u001b[0m Trial 8 finished with value: 0.4813548511376458 and parameters: {'num_leaves': 226}. Best is trial 7 with value: 0.4806978119952619.\u001b[0m\n",
      "\n",
      "\n",
      "num_leaves, val_score: 0.473528:  1\u001b[A\u001b[A"
     ]
    },
    {
     "name": "stdout",
     "output_type": "stream",
     "text": [
      "Early stopping, best iteration is:\n",
      "[16]\tvalid_0's binary_logloss: 0.409029\tvalid_1's binary_logloss: 0.481355\n",
      "[LightGBM] [Info] Number of positive: 35835, number of negative: 120571\n",
      "[LightGBM] [Warning] Auto-choosing row-wise multi-threading, the overhead of testing was 0.042531 seconds.\n",
      "You can set `force_row_wise=true` to remove the overhead.\n",
      "And if memory is not enough, you can set `force_col_wise=true`.\n",
      "[LightGBM] [Info] Total Bins 70924\n",
      "[LightGBM] [Info] Number of data points in the train set: 156406, number of used features: 185\n"
     ]
    },
    {
     "name": "stderr",
     "output_type": "stream",
     "text": [
      "/Users/shimizukeita/opt/anaconda3/lib/python3.9/site-packages/lightgbm/basic.py:1286: UserWarning: Overriding the parameters from Reference Dataset.\n",
      "  warnings.warn('Overriding the parameters from Reference Dataset.')\n",
      "/Users/shimizukeita/opt/anaconda3/lib/python3.9/site-packages/lightgbm/basic.py:1098: UserWarning: categorical_column in param dict is overridden.\n",
      "  warnings.warn('{} in param dict is overridden.'.format(cat_alias))\n",
      "/Users/shimizukeita/opt/anaconda3/lib/python3.9/site-packages/lightgbm/basic.py:1286: UserWarning: Overriding the parameters from Reference Dataset.\n",
      "  warnings.warn('Overriding the parameters from Reference Dataset.')\n",
      "/Users/shimizukeita/opt/anaconda3/lib/python3.9/site-packages/lightgbm/basic.py:1098: UserWarning: categorical_column in param dict is overridden.\n",
      "  warnings.warn('{} in param dict is overridden.'.format(cat_alias))\n"
     ]
    },
    {
     "name": "stdout",
     "output_type": "stream",
     "text": [
      "[LightGBM] [Info] [binary:BoostFromScore]: pavg=0.229115 -> initscore=-1.213314\n",
      "[LightGBM] [Info] Start training from score -1.213314\n",
      "Training until validation scores don't improve for 10 rounds\n"
     ]
    },
    {
     "name": "stderr",
     "output_type": "stream",
     "text": [
      "\n",
      "\n",
      "num_leaves, val_score: 0.473528:  1\u001b[A\u001b[A\n",
      "\n",
      "num_leaves, val_score: 0.473528:  1\u001b[A\u001b[A\u001b[32m[I 2022-05-29 10:28:01,570]\u001b[0m Trial 9 finished with value: 0.48049046618921737 and parameters: {'num_leaves': 193}. Best is trial 9 with value: 0.48049046618921737.\u001b[0m\n",
      "\n",
      "\n",
      "num_leaves, val_score: 0.473528:  1\u001b[A\u001b[A"
     ]
    },
    {
     "name": "stdout",
     "output_type": "stream",
     "text": [
      "Early stopping, best iteration is:\n",
      "[18]\tvalid_0's binary_logloss: 0.405149\tvalid_1's binary_logloss: 0.48049\n",
      "[LightGBM] [Info] Number of positive: 35835, number of negative: 120571\n",
      "[LightGBM] [Warning] Auto-choosing col-wise multi-threading, the overhead of testing was 0.099976 seconds.\n",
      "You can set `force_col_wise=true` to remove the overhead.\n",
      "[LightGBM] [Info] Total Bins 70924\n",
      "[LightGBM] [Info] Number of data points in the train set: 156406, number of used features: 185\n"
     ]
    },
    {
     "name": "stderr",
     "output_type": "stream",
     "text": [
      "/Users/shimizukeita/opt/anaconda3/lib/python3.9/site-packages/lightgbm/basic.py:1286: UserWarning: Overriding the parameters from Reference Dataset.\n",
      "  warnings.warn('Overriding the parameters from Reference Dataset.')\n",
      "/Users/shimizukeita/opt/anaconda3/lib/python3.9/site-packages/lightgbm/basic.py:1098: UserWarning: categorical_column in param dict is overridden.\n",
      "  warnings.warn('{} in param dict is overridden.'.format(cat_alias))\n",
      "/Users/shimizukeita/opt/anaconda3/lib/python3.9/site-packages/lightgbm/basic.py:1286: UserWarning: Overriding the parameters from Reference Dataset.\n",
      "  warnings.warn('Overriding the parameters from Reference Dataset.')\n",
      "/Users/shimizukeita/opt/anaconda3/lib/python3.9/site-packages/lightgbm/basic.py:1098: UserWarning: categorical_column in param dict is overridden.\n",
      "  warnings.warn('{} in param dict is overridden.'.format(cat_alias))\n"
     ]
    },
    {
     "name": "stdout",
     "output_type": "stream",
     "text": [
      "[LightGBM] [Info] [binary:BoostFromScore]: pavg=0.229115 -> initscore=-1.213314\n",
      "[LightGBM] [Info] Start training from score -1.213314\n",
      "Training until validation scores don't improve for 10 rounds\n"
     ]
    },
    {
     "name": "stderr",
     "output_type": "stream",
     "text": [
      "\n",
      "\n",
      "num_leaves, val_score: 0.473528:  1\u001b[A\u001b[A\n",
      "\n",
      "num_leaves, val_score: 0.473528:  2\u001b[A\u001b[A\u001b[32m[I 2022-05-29 10:28:08,819]\u001b[0m Trial 10 finished with value: 0.4772968530572813 and parameters: {'num_leaves': 70}. Best is trial 10 with value: 0.4772968530572813.\u001b[0m\n",
      "\n",
      "\n",
      "num_leaves, val_score: 0.473528:  2\u001b[A\u001b[A"
     ]
    },
    {
     "name": "stdout",
     "output_type": "stream",
     "text": [
      "Early stopping, best iteration is:\n",
      "[30]\tvalid_0's binary_logloss: 0.403225\tvalid_1's binary_logloss: 0.477297\n",
      "[LightGBM] [Info] Number of positive: 35835, number of negative: 120571\n",
      "[LightGBM] [Warning] Auto-choosing row-wise multi-threading, the overhead of testing was 0.030893 seconds.\n",
      "You can set `force_row_wise=true` to remove the overhead.\n",
      "And if memory is not enough, you can set `force_col_wise=true`.\n",
      "[LightGBM] [Info] Total Bins 70924\n",
      "[LightGBM] [Info] Number of data points in the train set: 156406, number of used features: 185\n"
     ]
    },
    {
     "name": "stderr",
     "output_type": "stream",
     "text": [
      "/Users/shimizukeita/opt/anaconda3/lib/python3.9/site-packages/lightgbm/basic.py:1286: UserWarning: Overriding the parameters from Reference Dataset.\n",
      "  warnings.warn('Overriding the parameters from Reference Dataset.')\n",
      "/Users/shimizukeita/opt/anaconda3/lib/python3.9/site-packages/lightgbm/basic.py:1098: UserWarning: categorical_column in param dict is overridden.\n",
      "  warnings.warn('{} in param dict is overridden.'.format(cat_alias))\n",
      "/Users/shimizukeita/opt/anaconda3/lib/python3.9/site-packages/lightgbm/basic.py:1286: UserWarning: Overriding the parameters from Reference Dataset.\n",
      "  warnings.warn('Overriding the parameters from Reference Dataset.')\n",
      "/Users/shimizukeita/opt/anaconda3/lib/python3.9/site-packages/lightgbm/basic.py:1098: UserWarning: categorical_column in param dict is overridden.\n",
      "  warnings.warn('{} in param dict is overridden.'.format(cat_alias))\n"
     ]
    },
    {
     "name": "stdout",
     "output_type": "stream",
     "text": [
      "[LightGBM] [Info] [binary:BoostFromScore]: pavg=0.229115 -> initscore=-1.213314\n",
      "[LightGBM] [Info] Start training from score -1.213314\n",
      "Training until validation scores don't improve for 10 rounds\n"
     ]
    },
    {
     "name": "stderr",
     "output_type": "stream",
     "text": [
      "\n",
      "\n",
      "num_leaves, val_score: 0.473528:  2\u001b[A\u001b[A\n",
      "\n",
      "num_leaves, val_score: 0.473528:  2\u001b[A\u001b[A\u001b[32m[I 2022-05-29 10:28:15,655]\u001b[0m Trial 11 finished with value: 0.48016399878329635 and parameters: {'num_leaves': 147}. Best is trial 10 with value: 0.4772968530572813.\u001b[0m\n",
      "\n",
      "\n",
      "num_leaves, val_score: 0.473528:  2\u001b[A\u001b[A"
     ]
    },
    {
     "name": "stdout",
     "output_type": "stream",
     "text": [
      "Early stopping, best iteration is:\n",
      "[19]\tvalid_0's binary_logloss: 0.409543\tvalid_1's binary_logloss: 0.480164\n",
      "[LightGBM] [Info] Number of positive: 35835, number of negative: 120571\n",
      "[LightGBM] [Warning] Auto-choosing row-wise multi-threading, the overhead of testing was 0.030656 seconds.\n",
      "You can set `force_row_wise=true` to remove the overhead.\n",
      "And if memory is not enough, you can set `force_col_wise=true`.\n",
      "[LightGBM] [Info] Total Bins 70924\n",
      "[LightGBM] [Info] Number of data points in the train set: 156406, number of used features: 185\n"
     ]
    },
    {
     "name": "stderr",
     "output_type": "stream",
     "text": [
      "/Users/shimizukeita/opt/anaconda3/lib/python3.9/site-packages/lightgbm/basic.py:1286: UserWarning: Overriding the parameters from Reference Dataset.\n",
      "  warnings.warn('Overriding the parameters from Reference Dataset.')\n",
      "/Users/shimizukeita/opt/anaconda3/lib/python3.9/site-packages/lightgbm/basic.py:1098: UserWarning: categorical_column in param dict is overridden.\n",
      "  warnings.warn('{} in param dict is overridden.'.format(cat_alias))\n",
      "/Users/shimizukeita/opt/anaconda3/lib/python3.9/site-packages/lightgbm/basic.py:1286: UserWarning: Overriding the parameters from Reference Dataset.\n",
      "  warnings.warn('Overriding the parameters from Reference Dataset.')\n",
      "/Users/shimizukeita/opt/anaconda3/lib/python3.9/site-packages/lightgbm/basic.py:1098: UserWarning: categorical_column in param dict is overridden.\n",
      "  warnings.warn('{} in param dict is overridden.'.format(cat_alias))\n"
     ]
    },
    {
     "name": "stdout",
     "output_type": "stream",
     "text": [
      "[LightGBM] [Info] [binary:BoostFromScore]: pavg=0.229115 -> initscore=-1.213314\n",
      "[LightGBM] [Info] Start training from score -1.213314\n",
      "Training until validation scores don't improve for 10 rounds\n"
     ]
    },
    {
     "name": "stderr",
     "output_type": "stream",
     "text": [
      "\n",
      "\n",
      "num_leaves, val_score: 0.473528:  2\u001b[A\u001b[A\n",
      "\n",
      "num_leaves, val_score: 0.473528:  3\u001b[A\u001b[A\u001b[32m[I 2022-05-29 10:28:23,031]\u001b[0m Trial 12 finished with value: 0.48007832555836094 and parameters: {'num_leaves': 140}. Best is trial 10 with value: 0.4772968530572813.\u001b[0m\n",
      "\n",
      "\n",
      "num_leaves, val_score: 0.473528:  3\u001b[A\u001b[A"
     ]
    },
    {
     "name": "stdout",
     "output_type": "stream",
     "text": [
      "Early stopping, best iteration is:\n",
      "[20]\tvalid_0's binary_logloss: 0.407236\tvalid_1's binary_logloss: 0.480078\n",
      "[LightGBM] [Info] Number of positive: 35835, number of negative: 120571\n",
      "[LightGBM] [Warning] Auto-choosing row-wise multi-threading, the overhead of testing was 0.032502 seconds.\n",
      "You can set `force_row_wise=true` to remove the overhead.\n",
      "And if memory is not enough, you can set `force_col_wise=true`.\n",
      "[LightGBM] [Info] Total Bins 70924\n",
      "[LightGBM] [Info] Number of data points in the train set: 156406, number of used features: 185\n"
     ]
    },
    {
     "name": "stderr",
     "output_type": "stream",
     "text": [
      "/Users/shimizukeita/opt/anaconda3/lib/python3.9/site-packages/lightgbm/basic.py:1286: UserWarning: Overriding the parameters from Reference Dataset.\n",
      "  warnings.warn('Overriding the parameters from Reference Dataset.')\n",
      "/Users/shimizukeita/opt/anaconda3/lib/python3.9/site-packages/lightgbm/basic.py:1098: UserWarning: categorical_column in param dict is overridden.\n",
      "  warnings.warn('{} in param dict is overridden.'.format(cat_alias))\n",
      "/Users/shimizukeita/opt/anaconda3/lib/python3.9/site-packages/lightgbm/basic.py:1286: UserWarning: Overriding the parameters from Reference Dataset.\n",
      "  warnings.warn('Overriding the parameters from Reference Dataset.')\n",
      "/Users/shimizukeita/opt/anaconda3/lib/python3.9/site-packages/lightgbm/basic.py:1098: UserWarning: categorical_column in param dict is overridden.\n",
      "  warnings.warn('{} in param dict is overridden.'.format(cat_alias))\n"
     ]
    },
    {
     "name": "stdout",
     "output_type": "stream",
     "text": [
      "[LightGBM] [Info] [binary:BoostFromScore]: pavg=0.229115 -> initscore=-1.213314\n",
      "[LightGBM] [Info] Start training from score -1.213314\n",
      "Training until validation scores don't improve for 10 rounds\n"
     ]
    },
    {
     "name": "stderr",
     "output_type": "stream",
     "text": [
      "\n",
      "\n",
      "num_leaves, val_score: 0.471015:  3\u001b[A\u001b[A\n",
      "\n",
      "num_leaves, val_score: 0.471015:  3\u001b[A\u001b[A\u001b[32m[I 2022-05-29 10:28:27,906]\u001b[0m Trial 13 finished with value: 0.4710146723138469 and parameters: {'num_leaves': 3}. Best is trial 13 with value: 0.4710146723138469.\u001b[0m\n",
      "\n",
      "\n",
      "num_leaves, val_score: 0.471015:  3\u001b[A\u001b[A"
     ]
    },
    {
     "name": "stdout",
     "output_type": "stream",
     "text": [
      "[100]\tvalid_0's binary_logloss: 0.46466\tvalid_1's binary_logloss: 0.47106\n",
      "Early stopping, best iteration is:\n",
      "[94]\tvalid_0's binary_logloss: 0.465252\tvalid_1's binary_logloss: 0.471015\n",
      "[LightGBM] [Info] Number of positive: 35835, number of negative: 120571\n",
      "[LightGBM] [Warning] Auto-choosing row-wise multi-threading, the overhead of testing was 0.040314 seconds.\n",
      "You can set `force_row_wise=true` to remove the overhead.\n",
      "And if memory is not enough, you can set `force_col_wise=true`.\n",
      "[LightGBM] [Info] Total Bins 70924\n",
      "[LightGBM] [Info] Number of data points in the train set: 156406, number of used features: 185\n"
     ]
    },
    {
     "name": "stderr",
     "output_type": "stream",
     "text": [
      "/Users/shimizukeita/opt/anaconda3/lib/python3.9/site-packages/lightgbm/basic.py:1286: UserWarning: Overriding the parameters from Reference Dataset.\n",
      "  warnings.warn('Overriding the parameters from Reference Dataset.')\n",
      "/Users/shimizukeita/opt/anaconda3/lib/python3.9/site-packages/lightgbm/basic.py:1098: UserWarning: categorical_column in param dict is overridden.\n",
      "  warnings.warn('{} in param dict is overridden.'.format(cat_alias))\n",
      "/Users/shimizukeita/opt/anaconda3/lib/python3.9/site-packages/lightgbm/basic.py:1286: UserWarning: Overriding the parameters from Reference Dataset.\n",
      "  warnings.warn('Overriding the parameters from Reference Dataset.')\n",
      "/Users/shimizukeita/opt/anaconda3/lib/python3.9/site-packages/lightgbm/basic.py:1098: UserWarning: categorical_column in param dict is overridden.\n",
      "  warnings.warn('{} in param dict is overridden.'.format(cat_alias))\n"
     ]
    },
    {
     "name": "stdout",
     "output_type": "stream",
     "text": [
      "[LightGBM] [Info] [binary:BoostFromScore]: pavg=0.229115 -> initscore=-1.213314\n",
      "[LightGBM] [Info] Start training from score -1.213314\n",
      "Training until validation scores don't improve for 10 rounds\n"
     ]
    },
    {
     "name": "stderr",
     "output_type": "stream",
     "text": [
      "\n",
      "\n",
      "num_leaves, val_score: 0.471015:  3\u001b[A\u001b[A\n",
      "\n",
      "num_leaves, val_score: 0.471015:  4\u001b[A\u001b[A\u001b[32m[I 2022-05-29 10:28:34,878]\u001b[0m Trial 14 finished with value: 0.47923008480002144 and parameters: {'num_leaves': 110}. Best is trial 13 with value: 0.4710146723138469.\u001b[0m\n",
      "\n",
      "\n",
      "num_leaves, val_score: 0.471015:  4\u001b[A\u001b[A"
     ]
    },
    {
     "name": "stdout",
     "output_type": "stream",
     "text": [
      "Early stopping, best iteration is:\n",
      "[21]\tvalid_0's binary_logloss: 0.411596\tvalid_1's binary_logloss: 0.47923\n",
      "[LightGBM] [Info] Number of positive: 35835, number of negative: 120571\n",
      "[LightGBM] [Warning] Auto-choosing row-wise multi-threading, the overhead of testing was 0.033541 seconds.\n",
      "You can set `force_row_wise=true` to remove the overhead.\n",
      "And if memory is not enough, you can set `force_col_wise=true`.\n",
      "[LightGBM] [Info] Total Bins 70924\n",
      "[LightGBM] [Info] Number of data points in the train set: 156406, number of used features: 185\n"
     ]
    },
    {
     "name": "stderr",
     "output_type": "stream",
     "text": [
      "/Users/shimizukeita/opt/anaconda3/lib/python3.9/site-packages/lightgbm/basic.py:1286: UserWarning: Overriding the parameters from Reference Dataset.\n",
      "  warnings.warn('Overriding the parameters from Reference Dataset.')\n",
      "/Users/shimizukeita/opt/anaconda3/lib/python3.9/site-packages/lightgbm/basic.py:1098: UserWarning: categorical_column in param dict is overridden.\n",
      "  warnings.warn('{} in param dict is overridden.'.format(cat_alias))\n",
      "/Users/shimizukeita/opt/anaconda3/lib/python3.9/site-packages/lightgbm/basic.py:1286: UserWarning: Overriding the parameters from Reference Dataset.\n",
      "  warnings.warn('Overriding the parameters from Reference Dataset.')\n",
      "/Users/shimizukeita/opt/anaconda3/lib/python3.9/site-packages/lightgbm/basic.py:1098: UserWarning: categorical_column in param dict is overridden.\n",
      "  warnings.warn('{} in param dict is overridden.'.format(cat_alias))\n"
     ]
    },
    {
     "name": "stdout",
     "output_type": "stream",
     "text": [
      "[LightGBM] [Info] [binary:BoostFromScore]: pavg=0.229115 -> initscore=-1.213314\n",
      "[LightGBM] [Info] Start training from score -1.213314\n",
      "Training until validation scores don't improve for 10 rounds\n"
     ]
    },
    {
     "name": "stderr",
     "output_type": "stream",
     "text": [
      "\n",
      "\n",
      "num_leaves, val_score: 0.471015:  4\u001b[A\u001b[A\n",
      "\n",
      "num_leaves, val_score: 0.471015:  4\u001b[A\u001b[A\u001b[32m[I 2022-05-29 10:28:41,950]\u001b[0m Trial 15 finished with value: 0.48111025612612957 and parameters: {'num_leaves': 233}. Best is trial 13 with value: 0.4710146723138469.\u001b[0m\n",
      "\n",
      "\n",
      "num_leaves, val_score: 0.471015:  4\u001b[A\u001b[A"
     ]
    },
    {
     "name": "stdout",
     "output_type": "stream",
     "text": [
      "Early stopping, best iteration is:\n",
      "[16]\tvalid_0's binary_logloss: 0.408299\tvalid_1's binary_logloss: 0.48111\n",
      "[LightGBM] [Info] Number of positive: 35835, number of negative: 120571\n",
      "[LightGBM] [Warning] Auto-choosing row-wise multi-threading, the overhead of testing was 0.035806 seconds.\n",
      "You can set `force_row_wise=true` to remove the overhead.\n",
      "And if memory is not enough, you can set `force_col_wise=true`.\n",
      "[LightGBM] [Info] Total Bins 70924\n",
      "[LightGBM] [Info] Number of data points in the train set: 156406, number of used features: 185\n"
     ]
    },
    {
     "name": "stderr",
     "output_type": "stream",
     "text": [
      "/Users/shimizukeita/opt/anaconda3/lib/python3.9/site-packages/lightgbm/basic.py:1286: UserWarning: Overriding the parameters from Reference Dataset.\n",
      "  warnings.warn('Overriding the parameters from Reference Dataset.')\n",
      "/Users/shimizukeita/opt/anaconda3/lib/python3.9/site-packages/lightgbm/basic.py:1098: UserWarning: categorical_column in param dict is overridden.\n",
      "  warnings.warn('{} in param dict is overridden.'.format(cat_alias))\n",
      "/Users/shimizukeita/opt/anaconda3/lib/python3.9/site-packages/lightgbm/basic.py:1286: UserWarning: Overriding the parameters from Reference Dataset.\n",
      "  warnings.warn('Overriding the parameters from Reference Dataset.')\n",
      "/Users/shimizukeita/opt/anaconda3/lib/python3.9/site-packages/lightgbm/basic.py:1098: UserWarning: categorical_column in param dict is overridden.\n",
      "  warnings.warn('{} in param dict is overridden.'.format(cat_alias))\n"
     ]
    },
    {
     "name": "stdout",
     "output_type": "stream",
     "text": [
      "[LightGBM] [Info] [binary:BoostFromScore]: pavg=0.229115 -> initscore=-1.213314\n",
      "[LightGBM] [Info] Start training from score -1.213314\n",
      "Training until validation scores don't improve for 10 rounds\n"
     ]
    },
    {
     "name": "stderr",
     "output_type": "stream",
     "text": [
      "\n",
      "\n",
      "num_leaves, val_score: 0.471015:  4\u001b[A\u001b[A\n",
      "\n",
      "num_leaves, val_score: 0.471015:  5\u001b[A\u001b[A\u001b[32m[I 2022-05-29 10:28:48,098]\u001b[0m Trial 16 finished with value: 0.4757155203808662 and parameters: {'num_leaves': 52}. Best is trial 13 with value: 0.4710146723138469.\u001b[0m\n",
      "\n",
      "\n",
      "num_leaves, val_score: 0.471015:  5\u001b[A\u001b[A"
     ]
    },
    {
     "name": "stdout",
     "output_type": "stream",
     "text": [
      "Early stopping, best iteration is:\n",
      "[30]\tvalid_0's binary_logloss: 0.415436\tvalid_1's binary_logloss: 0.475716\n",
      "[LightGBM] [Info] Number of positive: 35835, number of negative: 120571\n",
      "[LightGBM] [Warning] Auto-choosing row-wise multi-threading, the overhead of testing was 0.036469 seconds.\n",
      "You can set `force_row_wise=true` to remove the overhead.\n",
      "And if memory is not enough, you can set `force_col_wise=true`.\n",
      "[LightGBM] [Info] Total Bins 70924\n",
      "[LightGBM] [Info] Number of data points in the train set: 156406, number of used features: 185\n"
     ]
    },
    {
     "name": "stderr",
     "output_type": "stream",
     "text": [
      "/Users/shimizukeita/opt/anaconda3/lib/python3.9/site-packages/lightgbm/basic.py:1286: UserWarning: Overriding the parameters from Reference Dataset.\n",
      "  warnings.warn('Overriding the parameters from Reference Dataset.')\n",
      "/Users/shimizukeita/opt/anaconda3/lib/python3.9/site-packages/lightgbm/basic.py:1098: UserWarning: categorical_column in param dict is overridden.\n",
      "  warnings.warn('{} in param dict is overridden.'.format(cat_alias))\n",
      "/Users/shimizukeita/opt/anaconda3/lib/python3.9/site-packages/lightgbm/basic.py:1286: UserWarning: Overriding the parameters from Reference Dataset.\n",
      "  warnings.warn('Overriding the parameters from Reference Dataset.')\n",
      "/Users/shimizukeita/opt/anaconda3/lib/python3.9/site-packages/lightgbm/basic.py:1098: UserWarning: categorical_column in param dict is overridden.\n",
      "  warnings.warn('{} in param dict is overridden.'.format(cat_alias))\n"
     ]
    },
    {
     "name": "stdout",
     "output_type": "stream",
     "text": [
      "[LightGBM] [Info] [binary:BoostFromScore]: pavg=0.229115 -> initscore=-1.213314\n",
      "[LightGBM] [Info] Start training from score -1.213314\n",
      "Training until validation scores don't improve for 10 rounds\n"
     ]
    },
    {
     "name": "stderr",
     "output_type": "stream",
     "text": [
      "\n",
      "\n",
      "num_leaves, val_score: 0.470877:  5\u001b[A\u001b[A\n",
      "\n",
      "num_leaves, val_score: 0.470877:  5\u001b[A\u001b[A\u001b[32m[I 2022-05-29 10:28:53,073]\u001b[0m Trial 17 finished with value: 0.47087727570846244 and parameters: {'num_leaves': 8}. Best is trial 17 with value: 0.47087727570846244.\u001b[0m\n",
      "\n",
      "\n",
      "num_leaves, val_score: 0.470877:  5\u001b[A\u001b[A"
     ]
    },
    {
     "name": "stdout",
     "output_type": "stream",
     "text": [
      "Early stopping, best iteration is:\n",
      "[64]\tvalid_0's binary_logloss: 0.450692\tvalid_1's binary_logloss: 0.470877\n",
      "[LightGBM] [Info] Number of positive: 35835, number of negative: 120571\n",
      "[LightGBM] [Warning] Auto-choosing row-wise multi-threading, the overhead of testing was 0.033693 seconds.\n",
      "You can set `force_row_wise=true` to remove the overhead.\n",
      "And if memory is not enough, you can set `force_col_wise=true`.\n",
      "[LightGBM] [Info] Total Bins 70924\n",
      "[LightGBM] [Info] Number of data points in the train set: 156406, number of used features: 185\n"
     ]
    },
    {
     "name": "stderr",
     "output_type": "stream",
     "text": [
      "/Users/shimizukeita/opt/anaconda3/lib/python3.9/site-packages/lightgbm/basic.py:1286: UserWarning: Overriding the parameters from Reference Dataset.\n",
      "  warnings.warn('Overriding the parameters from Reference Dataset.')\n",
      "/Users/shimizukeita/opt/anaconda3/lib/python3.9/site-packages/lightgbm/basic.py:1098: UserWarning: categorical_column in param dict is overridden.\n",
      "  warnings.warn('{} in param dict is overridden.'.format(cat_alias))\n",
      "/Users/shimizukeita/opt/anaconda3/lib/python3.9/site-packages/lightgbm/basic.py:1286: UserWarning: Overriding the parameters from Reference Dataset.\n",
      "  warnings.warn('Overriding the parameters from Reference Dataset.')\n",
      "/Users/shimizukeita/opt/anaconda3/lib/python3.9/site-packages/lightgbm/basic.py:1098: UserWarning: categorical_column in param dict is overridden.\n",
      "  warnings.warn('{} in param dict is overridden.'.format(cat_alias))\n"
     ]
    },
    {
     "name": "stdout",
     "output_type": "stream",
     "text": [
      "[LightGBM] [Info] [binary:BoostFromScore]: pavg=0.229115 -> initscore=-1.213314\n",
      "[LightGBM] [Info] Start training from score -1.213314\n",
      "Training until validation scores don't improve for 10 rounds\n"
     ]
    },
    {
     "name": "stderr",
     "output_type": "stream",
     "text": [
      "\n",
      "\n",
      "num_leaves, val_score: 0.470877:  5\u001b[A\u001b[A\n",
      "\n",
      "num_leaves, val_score: 0.470877:  6\u001b[A\u001b[A\u001b[32m[I 2022-05-29 10:28:58,088]\u001b[0m Trial 18 finished with value: 0.47087727570846244 and parameters: {'num_leaves': 8}. Best is trial 17 with value: 0.47087727570846244.\u001b[0m\n",
      "\n",
      "\n",
      "num_leaves, val_score: 0.470877:  6\u001b[A\u001b[A"
     ]
    },
    {
     "name": "stdout",
     "output_type": "stream",
     "text": [
      "Early stopping, best iteration is:\n",
      "[64]\tvalid_0's binary_logloss: 0.450692\tvalid_1's binary_logloss: 0.470877\n",
      "[LightGBM] [Info] Number of positive: 35835, number of negative: 120571\n",
      "[LightGBM] [Warning] Auto-choosing row-wise multi-threading, the overhead of testing was 0.032820 seconds.\n",
      "You can set `force_row_wise=true` to remove the overhead.\n",
      "And if memory is not enough, you can set `force_col_wise=true`.\n",
      "[LightGBM] [Info] Total Bins 70924\n",
      "[LightGBM] [Info] Number of data points in the train set: 156406, number of used features: 185\n"
     ]
    },
    {
     "name": "stderr",
     "output_type": "stream",
     "text": [
      "/Users/shimizukeita/opt/anaconda3/lib/python3.9/site-packages/lightgbm/basic.py:1286: UserWarning: Overriding the parameters from Reference Dataset.\n",
      "  warnings.warn('Overriding the parameters from Reference Dataset.')\n",
      "/Users/shimizukeita/opt/anaconda3/lib/python3.9/site-packages/lightgbm/basic.py:1098: UserWarning: categorical_column in param dict is overridden.\n",
      "  warnings.warn('{} in param dict is overridden.'.format(cat_alias))\n",
      "/Users/shimizukeita/opt/anaconda3/lib/python3.9/site-packages/lightgbm/basic.py:1286: UserWarning: Overriding the parameters from Reference Dataset.\n",
      "  warnings.warn('Overriding the parameters from Reference Dataset.')\n",
      "/Users/shimizukeita/opt/anaconda3/lib/python3.9/site-packages/lightgbm/basic.py:1098: UserWarning: categorical_column in param dict is overridden.\n",
      "  warnings.warn('{} in param dict is overridden.'.format(cat_alias))\n"
     ]
    },
    {
     "name": "stdout",
     "output_type": "stream",
     "text": [
      "[LightGBM] [Info] [binary:BoostFromScore]: pavg=0.229115 -> initscore=-1.213314\n",
      "[LightGBM] [Info] Start training from score -1.213314\n",
      "Training until validation scores don't improve for 10 rounds\n"
     ]
    },
    {
     "name": "stderr",
     "output_type": "stream",
     "text": [
      "\n",
      "\n",
      "num_leaves, val_score: 0.470862:  6\u001b[A\u001b[A\n",
      "\n",
      "num_leaves, val_score: 0.470862:  6\u001b[A\u001b[A\u001b[32m[I 2022-05-29 10:29:02,985]\u001b[0m Trial 19 finished with value: 0.47086226687439997 and parameters: {'num_leaves': 9}. Best is trial 19 with value: 0.47086226687439997.\u001b[0m\n",
      "\n",
      "\n",
      "num_leaves, val_score: 0.470862:  6\u001b[A\u001b[A"
     ]
    },
    {
     "name": "stdout",
     "output_type": "stream",
     "text": [
      "Early stopping, best iteration is:\n",
      "[57]\tvalid_0's binary_logloss: 0.450353\tvalid_1's binary_logloss: 0.470862\n",
      "[LightGBM] [Info] Number of positive: 35835, number of negative: 120571\n",
      "[LightGBM] [Warning] Auto-choosing row-wise multi-threading, the overhead of testing was 0.033262 seconds.\n",
      "You can set `force_row_wise=true` to remove the overhead.\n",
      "And if memory is not enough, you can set `force_col_wise=true`.\n",
      "[LightGBM] [Info] Total Bins 70924\n",
      "[LightGBM] [Info] Number of data points in the train set: 156406, number of used features: 185\n"
     ]
    },
    {
     "name": "stderr",
     "output_type": "stream",
     "text": [
      "/Users/shimizukeita/opt/anaconda3/lib/python3.9/site-packages/lightgbm/basic.py:1286: UserWarning: Overriding the parameters from Reference Dataset.\n",
      "  warnings.warn('Overriding the parameters from Reference Dataset.')\n",
      "/Users/shimizukeita/opt/anaconda3/lib/python3.9/site-packages/lightgbm/basic.py:1098: UserWarning: categorical_column in param dict is overridden.\n",
      "  warnings.warn('{} in param dict is overridden.'.format(cat_alias))\n",
      "/Users/shimizukeita/opt/anaconda3/lib/python3.9/site-packages/lightgbm/basic.py:1286: UserWarning: Overriding the parameters from Reference Dataset.\n",
      "  warnings.warn('Overriding the parameters from Reference Dataset.')\n",
      "/Users/shimizukeita/opt/anaconda3/lib/python3.9/site-packages/lightgbm/basic.py:1098: UserWarning: categorical_column in param dict is overridden.\n",
      "  warnings.warn('{} in param dict is overridden.'.format(cat_alias))\n"
     ]
    },
    {
     "name": "stdout",
     "output_type": "stream",
     "text": [
      "[LightGBM] [Info] [binary:BoostFromScore]: pavg=0.229115 -> initscore=-1.213314\n",
      "[LightGBM] [Info] Start training from score -1.213314\n",
      "Training until validation scores don't improve for 10 rounds\n"
     ]
    },
    {
     "name": "stderr",
     "output_type": "stream",
     "text": [
      "\n",
      "\n",
      "num_leaves, val_score: 0.470862:  6\u001b[A\u001b[A\n",
      "\n",
      "num_leaves, val_score: 0.470862:  7\u001b[A\u001b[A\u001b[32m[I 2022-05-29 10:29:09,232]\u001b[0m Trial 20 finished with value: 0.4741512965086869 and parameters: {'num_leaves': 35}. Best is trial 19 with value: 0.47086226687439997.\u001b[0m\n",
      "\n",
      "\n",
      "num_leaves, val_score: 0.470862:  7\u001b[A\u001b[A"
     ]
    },
    {
     "name": "stdout",
     "output_type": "stream",
     "text": [
      "Early stopping, best iteration is:\n",
      "[39]\tvalid_0's binary_logloss: 0.417675\tvalid_1's binary_logloss: 0.474151\n",
      "[LightGBM] [Info] Number of positive: 35835, number of negative: 120571\n",
      "[LightGBM] [Warning] Auto-choosing row-wise multi-threading, the overhead of testing was 0.030085 seconds.\n",
      "You can set `force_row_wise=true` to remove the overhead.\n",
      "And if memory is not enough, you can set `force_col_wise=true`.\n",
      "[LightGBM] [Info] Total Bins 70924\n",
      "[LightGBM] [Info] Number of data points in the train set: 156406, number of used features: 185\n"
     ]
    },
    {
     "name": "stderr",
     "output_type": "stream",
     "text": [
      "/Users/shimizukeita/opt/anaconda3/lib/python3.9/site-packages/lightgbm/basic.py:1286: UserWarning: Overriding the parameters from Reference Dataset.\n",
      "  warnings.warn('Overriding the parameters from Reference Dataset.')\n",
      "/Users/shimizukeita/opt/anaconda3/lib/python3.9/site-packages/lightgbm/basic.py:1098: UserWarning: categorical_column in param dict is overridden.\n",
      "  warnings.warn('{} in param dict is overridden.'.format(cat_alias))\n",
      "/Users/shimizukeita/opt/anaconda3/lib/python3.9/site-packages/lightgbm/basic.py:1286: UserWarning: Overriding the parameters from Reference Dataset.\n",
      "  warnings.warn('Overriding the parameters from Reference Dataset.')\n",
      "/Users/shimizukeita/opt/anaconda3/lib/python3.9/site-packages/lightgbm/basic.py:1098: UserWarning: categorical_column in param dict is overridden.\n",
      "  warnings.warn('{} in param dict is overridden.'.format(cat_alias))\n"
     ]
    },
    {
     "name": "stdout",
     "output_type": "stream",
     "text": [
      "[LightGBM] [Info] [binary:BoostFromScore]: pavg=0.229115 -> initscore=-1.213314\n",
      "[LightGBM] [Info] Start training from score -1.213314\n",
      "Training until validation scores don't improve for 10 rounds\n"
     ]
    },
    {
     "name": "stderr",
     "output_type": "stream",
     "text": [
      "\n",
      "\n",
      "num_leaves, val_score: 0.470862:  7\u001b[A\u001b[A\n",
      "\n",
      "num_leaves, val_score: 0.470862:  7\u001b[A\u001b[A\u001b[32m[I 2022-05-29 10:29:15,282]\u001b[0m Trial 21 finished with value: 0.47832067528942107 and parameters: {'num_leaves': 90}. Best is trial 19 with value: 0.47086226687439997.\u001b[0m\n",
      "\n",
      "\n",
      "num_leaves, val_score: 0.470862:  7\u001b[A\u001b[A"
     ]
    },
    {
     "name": "stdout",
     "output_type": "stream",
     "text": [
      "Early stopping, best iteration is:\n",
      "[20]\tvalid_0's binary_logloss: 0.420867\tvalid_1's binary_logloss: 0.478321\n",
      "[LightGBM] [Info] Number of positive: 35835, number of negative: 120571\n",
      "[LightGBM] [Warning] Auto-choosing row-wise multi-threading, the overhead of testing was 0.033260 seconds.\n",
      "You can set `force_row_wise=true` to remove the overhead.\n",
      "And if memory is not enough, you can set `force_col_wise=true`.\n",
      "[LightGBM] [Info] Total Bins 70924\n",
      "[LightGBM] [Info] Number of data points in the train set: 156406, number of used features: 185\n"
     ]
    },
    {
     "name": "stderr",
     "output_type": "stream",
     "text": [
      "/Users/shimizukeita/opt/anaconda3/lib/python3.9/site-packages/lightgbm/basic.py:1286: UserWarning: Overriding the parameters from Reference Dataset.\n",
      "  warnings.warn('Overriding the parameters from Reference Dataset.')\n",
      "/Users/shimizukeita/opt/anaconda3/lib/python3.9/site-packages/lightgbm/basic.py:1098: UserWarning: categorical_column in param dict is overridden.\n",
      "  warnings.warn('{} in param dict is overridden.'.format(cat_alias))\n",
      "/Users/shimizukeita/opt/anaconda3/lib/python3.9/site-packages/lightgbm/basic.py:1286: UserWarning: Overriding the parameters from Reference Dataset.\n",
      "  warnings.warn('Overriding the parameters from Reference Dataset.')\n",
      "/Users/shimizukeita/opt/anaconda3/lib/python3.9/site-packages/lightgbm/basic.py:1098: UserWarning: categorical_column in param dict is overridden.\n",
      "  warnings.warn('{} in param dict is overridden.'.format(cat_alias))\n"
     ]
    },
    {
     "name": "stdout",
     "output_type": "stream",
     "text": [
      "[LightGBM] [Info] [binary:BoostFromScore]: pavg=0.229115 -> initscore=-1.213314\n",
      "[LightGBM] [Info] Start training from score -1.213314\n",
      "Training until validation scores don't improve for 10 rounds\n"
     ]
    },
    {
     "name": "stderr",
     "output_type": "stream",
     "text": [
      "\n",
      "\n",
      "num_leaves, val_score: 0.470862:  7\u001b[A\u001b[A\n",
      "\n",
      "num_leaves, val_score: 0.470862:  8\u001b[A\u001b[A\u001b[32m[I 2022-05-29 10:29:20,462]\u001b[0m Trial 22 finished with value: 0.47380973481739813 and parameters: {'num_leaves': 30}. Best is trial 19 with value: 0.47086226687439997.\u001b[0m\n",
      "\n",
      "\n",
      "num_leaves, val_score: 0.470862:  8\u001b[A\u001b[A"
     ]
    },
    {
     "name": "stdout",
     "output_type": "stream",
     "text": [
      "Early stopping, best iteration is:\n",
      "[30]\tvalid_0's binary_logloss: 0.435111\tvalid_1's binary_logloss: 0.47381\n",
      "[LightGBM] [Info] Number of positive: 35835, number of negative: 120571\n",
      "[LightGBM] [Warning] Auto-choosing row-wise multi-threading, the overhead of testing was 0.033004 seconds.\n",
      "You can set `force_row_wise=true` to remove the overhead.\n",
      "And if memory is not enough, you can set `force_col_wise=true`.\n",
      "[LightGBM] [Info] Total Bins 70924\n",
      "[LightGBM] [Info] Number of data points in the train set: 156406, number of used features: 185\n"
     ]
    },
    {
     "name": "stderr",
     "output_type": "stream",
     "text": [
      "/Users/shimizukeita/opt/anaconda3/lib/python3.9/site-packages/lightgbm/basic.py:1286: UserWarning: Overriding the parameters from Reference Dataset.\n",
      "  warnings.warn('Overriding the parameters from Reference Dataset.')\n",
      "/Users/shimizukeita/opt/anaconda3/lib/python3.9/site-packages/lightgbm/basic.py:1098: UserWarning: categorical_column in param dict is overridden.\n",
      "  warnings.warn('{} in param dict is overridden.'.format(cat_alias))\n",
      "/Users/shimizukeita/opt/anaconda3/lib/python3.9/site-packages/lightgbm/basic.py:1286: UserWarning: Overriding the parameters from Reference Dataset.\n",
      "  warnings.warn('Overriding the parameters from Reference Dataset.')\n",
      "/Users/shimizukeita/opt/anaconda3/lib/python3.9/site-packages/lightgbm/basic.py:1098: UserWarning: categorical_column in param dict is overridden.\n",
      "  warnings.warn('{} in param dict is overridden.'.format(cat_alias))\n"
     ]
    },
    {
     "name": "stdout",
     "output_type": "stream",
     "text": [
      "[LightGBM] [Info] [binary:BoostFromScore]: pavg=0.229115 -> initscore=-1.213314\n",
      "[LightGBM] [Info] Start training from score -1.213314\n",
      "Training until validation scores don't improve for 10 rounds\n"
     ]
    },
    {
     "name": "stderr",
     "output_type": "stream",
     "text": [
      "\n",
      "\n",
      "num_leaves, val_score: 0.470862:  8\u001b[A\u001b[A\n",
      "\n",
      "num_leaves, val_score: 0.470862:  8\u001b[A\u001b[A\u001b[32m[I 2022-05-29 10:29:27,148]\u001b[0m Trial 23 finished with value: 0.4777129611467074 and parameters: {'num_leaves': 77}. Best is trial 19 with value: 0.47086226687439997.\u001b[0m\n",
      "\n",
      "\n",
      "num_leaves, val_score: 0.470862:  8\u001b[A\u001b[A"
     ]
    },
    {
     "name": "stdout",
     "output_type": "stream",
     "text": [
      "Early stopping, best iteration is:\n",
      "[23]\tvalid_0's binary_logloss: 0.416761\tvalid_1's binary_logloss: 0.477713\n",
      "[LightGBM] [Info] Number of positive: 35835, number of negative: 120571\n",
      "[LightGBM] [Warning] Auto-choosing row-wise multi-threading, the overhead of testing was 0.044238 seconds.\n",
      "You can set `force_row_wise=true` to remove the overhead.\n",
      "And if memory is not enough, you can set `force_col_wise=true`.\n",
      "[LightGBM] [Info] Total Bins 70924\n",
      "[LightGBM] [Info] Number of data points in the train set: 156406, number of used features: 185\n"
     ]
    },
    {
     "name": "stderr",
     "output_type": "stream",
     "text": [
      "/Users/shimizukeita/opt/anaconda3/lib/python3.9/site-packages/lightgbm/basic.py:1286: UserWarning: Overriding the parameters from Reference Dataset.\n",
      "  warnings.warn('Overriding the parameters from Reference Dataset.')\n",
      "/Users/shimizukeita/opt/anaconda3/lib/python3.9/site-packages/lightgbm/basic.py:1098: UserWarning: categorical_column in param dict is overridden.\n",
      "  warnings.warn('{} in param dict is overridden.'.format(cat_alias))\n",
      "/Users/shimizukeita/opt/anaconda3/lib/python3.9/site-packages/lightgbm/basic.py:1286: UserWarning: Overriding the parameters from Reference Dataset.\n",
      "  warnings.warn('Overriding the parameters from Reference Dataset.')\n",
      "/Users/shimizukeita/opt/anaconda3/lib/python3.9/site-packages/lightgbm/basic.py:1098: UserWarning: categorical_column in param dict is overridden.\n",
      "  warnings.warn('{} in param dict is overridden.'.format(cat_alias))\n"
     ]
    },
    {
     "name": "stdout",
     "output_type": "stream",
     "text": [
      "[LightGBM] [Info] [binary:BoostFromScore]: pavg=0.229115 -> initscore=-1.213314\n",
      "[LightGBM] [Info] Start training from score -1.213314\n",
      "Training until validation scores don't improve for 10 rounds\n"
     ]
    },
    {
     "name": "stderr",
     "output_type": "stream",
     "text": [
      "\n",
      "\n",
      "num_leaves, val_score: 0.470862:  8\u001b[A\u001b[A\n",
      "\n",
      "num_leaves, val_score: 0.470862:  9\u001b[A\u001b[A\u001b[32m[I 2022-05-29 10:29:33,079]\u001b[0m Trial 24 finished with value: 0.47449300723901955 and parameters: {'num_leaves': 32}. Best is trial 19 with value: 0.47086226687439997.\u001b[0m\n",
      "\n",
      "\n",
      "num_leaves, val_score: 0.470862:  9\u001b[A\u001b[A"
     ]
    },
    {
     "name": "stdout",
     "output_type": "stream",
     "text": [
      "Early stopping, best iteration is:\n",
      "[36]\tvalid_0's binary_logloss: 0.42522\tvalid_1's binary_logloss: 0.474493\n",
      "[LightGBM] [Info] Number of positive: 35835, number of negative: 120571\n",
      "[LightGBM] [Warning] Auto-choosing row-wise multi-threading, the overhead of testing was 0.029478 seconds.\n",
      "You can set `force_row_wise=true` to remove the overhead.\n",
      "And if memory is not enough, you can set `force_col_wise=true`.\n",
      "[LightGBM] [Info] Total Bins 70924\n",
      "[LightGBM] [Info] Number of data points in the train set: 156406, number of used features: 185\n"
     ]
    },
    {
     "name": "stderr",
     "output_type": "stream",
     "text": [
      "/Users/shimizukeita/opt/anaconda3/lib/python3.9/site-packages/lightgbm/basic.py:1286: UserWarning: Overriding the parameters from Reference Dataset.\n",
      "  warnings.warn('Overriding the parameters from Reference Dataset.')\n",
      "/Users/shimizukeita/opt/anaconda3/lib/python3.9/site-packages/lightgbm/basic.py:1098: UserWarning: categorical_column in param dict is overridden.\n",
      "  warnings.warn('{} in param dict is overridden.'.format(cat_alias))\n",
      "/Users/shimizukeita/opt/anaconda3/lib/python3.9/site-packages/lightgbm/basic.py:1286: UserWarning: Overriding the parameters from Reference Dataset.\n",
      "  warnings.warn('Overriding the parameters from Reference Dataset.')\n",
      "/Users/shimizukeita/opt/anaconda3/lib/python3.9/site-packages/lightgbm/basic.py:1098: UserWarning: categorical_column in param dict is overridden.\n",
      "  warnings.warn('{} in param dict is overridden.'.format(cat_alias))\n"
     ]
    },
    {
     "name": "stdout",
     "output_type": "stream",
     "text": [
      "[LightGBM] [Info] [binary:BoostFromScore]: pavg=0.229115 -> initscore=-1.213314\n",
      "[LightGBM] [Info] Start training from score -1.213314\n",
      "Training until validation scores don't improve for 10 rounds\n"
     ]
    },
    {
     "name": "stderr",
     "output_type": "stream",
     "text": [
      "\n",
      "\n",
      "num_leaves, val_score: 0.470862:  9\u001b[A\u001b[A\n",
      "\n",
      "num_leaves, val_score: 0.470862:  9\u001b[A\u001b[A\u001b[32m[I 2022-05-29 10:29:39,506]\u001b[0m Trial 25 finished with value: 0.47949889747538615 and parameters: {'num_leaves': 108}. Best is trial 19 with value: 0.47086226687439997.\u001b[0m\n",
      "\n",
      "\n",
      "num_leaves, val_score: 0.470862:  9\u001b[A\u001b[A"
     ]
    },
    {
     "name": "stdout",
     "output_type": "stream",
     "text": [
      "Early stopping, best iteration is:\n",
      "[20]\tvalid_0's binary_logloss: 0.415822\tvalid_1's binary_logloss: 0.479499\n",
      "[LightGBM] [Info] Number of positive: 35835, number of negative: 120571\n",
      "[LightGBM] [Warning] Auto-choosing row-wise multi-threading, the overhead of testing was 0.034000 seconds.\n",
      "You can set `force_row_wise=true` to remove the overhead.\n",
      "And if memory is not enough, you can set `force_col_wise=true`.\n",
      "[LightGBM] [Info] Total Bins 70924\n",
      "[LightGBM] [Info] Number of data points in the train set: 156406, number of used features: 185\n"
     ]
    },
    {
     "name": "stderr",
     "output_type": "stream",
     "text": [
      "/Users/shimizukeita/opt/anaconda3/lib/python3.9/site-packages/lightgbm/basic.py:1286: UserWarning: Overriding the parameters from Reference Dataset.\n",
      "  warnings.warn('Overriding the parameters from Reference Dataset.')\n",
      "/Users/shimizukeita/opt/anaconda3/lib/python3.9/site-packages/lightgbm/basic.py:1098: UserWarning: categorical_column in param dict is overridden.\n",
      "  warnings.warn('{} in param dict is overridden.'.format(cat_alias))\n",
      "/Users/shimizukeita/opt/anaconda3/lib/python3.9/site-packages/lightgbm/basic.py:1286: UserWarning: Overriding the parameters from Reference Dataset.\n",
      "  warnings.warn('Overriding the parameters from Reference Dataset.')\n",
      "/Users/shimizukeita/opt/anaconda3/lib/python3.9/site-packages/lightgbm/basic.py:1098: UserWarning: categorical_column in param dict is overridden.\n",
      "  warnings.warn('{} in param dict is overridden.'.format(cat_alias))\n"
     ]
    },
    {
     "name": "stdout",
     "output_type": "stream",
     "text": [
      "[LightGBM] [Info] [binary:BoostFromScore]: pavg=0.229115 -> initscore=-1.213314\n",
      "[LightGBM] [Info] Start training from score -1.213314\n",
      "Training until validation scores don't improve for 10 rounds\n"
     ]
    },
    {
     "name": "stderr",
     "output_type": "stream",
     "text": [
      "\n",
      "\n",
      "num_leaves, val_score: 0.470693:  9\u001b[A\u001b[A\n",
      "\n",
      "num_leaves, val_score: 0.470693: 10\u001b[A\u001b[A\u001b[32m[I 2022-05-29 10:29:43,787]\u001b[0m Trial 26 finished with value: 0.4706929083946809 and parameters: {'num_leaves': 4}. Best is trial 26 with value: 0.4706929083946809.\u001b[0m\n",
      "num_leaves, val_score: 0.470693: 10\n"
     ]
    },
    {
     "name": "stdout",
     "output_type": "stream",
     "text": [
      "Early stopping, best iteration is:\n",
      "[68]\tvalid_0's binary_logloss: 0.463783\tvalid_1's binary_logloss: 0.470693\n"
     ]
    },
    {
     "name": "stderr",
     "output_type": "stream",
     "text": [
      "\n",
      "\n",
      "  0%|       | 0/10 [00:00<?, ?it/s]\u001b[A\u001b[A\n",
      "\n",
      "bagging, val_score: 0.470693:   0%|\u001b[A\u001b[A"
     ]
    },
    {
     "name": "stdout",
     "output_type": "stream",
     "text": [
      "[LightGBM] [Info] Number of positive: 35835, number of negative: 120571\n",
      "[LightGBM] [Warning] Auto-choosing row-wise multi-threading, the overhead of testing was 0.030360 seconds.\n",
      "You can set `force_row_wise=true` to remove the overhead.\n",
      "And if memory is not enough, you can set `force_col_wise=true`.\n",
      "[LightGBM] [Info] Total Bins 70924\n",
      "[LightGBM] [Info] Number of data points in the train set: 156406, number of used features: 185\n"
     ]
    },
    {
     "name": "stderr",
     "output_type": "stream",
     "text": [
      "/Users/shimizukeita/opt/anaconda3/lib/python3.9/site-packages/lightgbm/basic.py:1286: UserWarning: Overriding the parameters from Reference Dataset.\n",
      "  warnings.warn('Overriding the parameters from Reference Dataset.')\n",
      "/Users/shimizukeita/opt/anaconda3/lib/python3.9/site-packages/lightgbm/basic.py:1098: UserWarning: categorical_column in param dict is overridden.\n",
      "  warnings.warn('{} in param dict is overridden.'.format(cat_alias))\n",
      "/Users/shimizukeita/opt/anaconda3/lib/python3.9/site-packages/lightgbm/basic.py:1286: UserWarning: Overriding the parameters from Reference Dataset.\n",
      "  warnings.warn('Overriding the parameters from Reference Dataset.')\n",
      "/Users/shimizukeita/opt/anaconda3/lib/python3.9/site-packages/lightgbm/basic.py:1098: UserWarning: categorical_column in param dict is overridden.\n",
      "  warnings.warn('{} in param dict is overridden.'.format(cat_alias))\n"
     ]
    },
    {
     "name": "stdout",
     "output_type": "stream",
     "text": [
      "[LightGBM] [Info] [binary:BoostFromScore]: pavg=0.229115 -> initscore=-1.213314\n",
      "[LightGBM] [Info] Start training from score -1.213314\n",
      "Training until validation scores don't improve for 10 rounds\n"
     ]
    },
    {
     "name": "stderr",
     "output_type": "stream",
     "text": [
      "\n",
      "\n",
      "bagging, val_score: 0.470693:   0%|\u001b[A\u001b[A\n",
      "\n",
      "bagging, val_score: 0.470693:  10%|\u001b[A\u001b[A\u001b[32m[I 2022-05-29 10:29:48,138]\u001b[0m Trial 27 finished with value: 0.4709617228224705 and parameters: {'bagging_fraction': 0.9611984527061785, 'bagging_freq': 6}. Best is trial 27 with value: 0.4709617228224705.\u001b[0m\n",
      "\n",
      "\n",
      "bagging, val_score: 0.470693:  10%|\u001b[A\u001b[A"
     ]
    },
    {
     "name": "stdout",
     "output_type": "stream",
     "text": [
      "Early stopping, best iteration is:\n",
      "[74]\tvalid_0's binary_logloss: 0.462895\tvalid_1's binary_logloss: 0.470962\n",
      "[LightGBM] [Info] Number of positive: 35835, number of negative: 120571\n",
      "[LightGBM] [Warning] Auto-choosing row-wise multi-threading, the overhead of testing was 0.033949 seconds.\n",
      "You can set `force_row_wise=true` to remove the overhead.\n",
      "And if memory is not enough, you can set `force_col_wise=true`.\n",
      "[LightGBM] [Info] Total Bins 70924\n",
      "[LightGBM] [Info] Number of data points in the train set: 156406, number of used features: 185\n"
     ]
    },
    {
     "name": "stderr",
     "output_type": "stream",
     "text": [
      "/Users/shimizukeita/opt/anaconda3/lib/python3.9/site-packages/lightgbm/basic.py:1286: UserWarning: Overriding the parameters from Reference Dataset.\n",
      "  warnings.warn('Overriding the parameters from Reference Dataset.')\n",
      "/Users/shimizukeita/opt/anaconda3/lib/python3.9/site-packages/lightgbm/basic.py:1098: UserWarning: categorical_column in param dict is overridden.\n",
      "  warnings.warn('{} in param dict is overridden.'.format(cat_alias))\n",
      "/Users/shimizukeita/opt/anaconda3/lib/python3.9/site-packages/lightgbm/basic.py:1286: UserWarning: Overriding the parameters from Reference Dataset.\n",
      "  warnings.warn('Overriding the parameters from Reference Dataset.')\n",
      "/Users/shimizukeita/opt/anaconda3/lib/python3.9/site-packages/lightgbm/basic.py:1098: UserWarning: categorical_column in param dict is overridden.\n",
      "  warnings.warn('{} in param dict is overridden.'.format(cat_alias))\n"
     ]
    },
    {
     "name": "stdout",
     "output_type": "stream",
     "text": [
      "[LightGBM] [Info] [binary:BoostFromScore]: pavg=0.229115 -> initscore=-1.213314\n",
      "[LightGBM] [Info] Start training from score -1.213314\n",
      "Training until validation scores don't improve for 10 rounds\n"
     ]
    },
    {
     "name": "stderr",
     "output_type": "stream",
     "text": [
      "\n",
      "\n",
      "bagging, val_score: 0.470693:  10%|\u001b[A\u001b[A\n",
      "\n",
      "bagging, val_score: 0.470693:  20%|\u001b[A\u001b[A\u001b[32m[I 2022-05-29 10:29:52,697]\u001b[0m Trial 28 finished with value: 0.47118797153777653 and parameters: {'bagging_fraction': 0.9424931512685241, 'bagging_freq': 7}. Best is trial 27 with value: 0.4709617228224705.\u001b[0m\n",
      "\n",
      "\n",
      "bagging, val_score: 0.470693:  20%|\u001b[A\u001b[A"
     ]
    },
    {
     "name": "stdout",
     "output_type": "stream",
     "text": [
      "Early stopping, best iteration is:\n",
      "[83]\tvalid_0's binary_logloss: 0.461709\tvalid_1's binary_logloss: 0.471188\n",
      "[LightGBM] [Info] Number of positive: 35835, number of negative: 120571\n",
      "[LightGBM] [Warning] Auto-choosing row-wise multi-threading, the overhead of testing was 0.035203 seconds.\n",
      "You can set `force_row_wise=true` to remove the overhead.\n",
      "And if memory is not enough, you can set `force_col_wise=true`.\n",
      "[LightGBM] [Info] Total Bins 70924\n",
      "[LightGBM] [Info] Number of data points in the train set: 156406, number of used features: 185\n"
     ]
    },
    {
     "name": "stderr",
     "output_type": "stream",
     "text": [
      "/Users/shimizukeita/opt/anaconda3/lib/python3.9/site-packages/lightgbm/basic.py:1286: UserWarning: Overriding the parameters from Reference Dataset.\n",
      "  warnings.warn('Overriding the parameters from Reference Dataset.')\n",
      "/Users/shimizukeita/opt/anaconda3/lib/python3.9/site-packages/lightgbm/basic.py:1098: UserWarning: categorical_column in param dict is overridden.\n",
      "  warnings.warn('{} in param dict is overridden.'.format(cat_alias))\n",
      "/Users/shimizukeita/opt/anaconda3/lib/python3.9/site-packages/lightgbm/basic.py:1286: UserWarning: Overriding the parameters from Reference Dataset.\n",
      "  warnings.warn('Overriding the parameters from Reference Dataset.')\n",
      "/Users/shimizukeita/opt/anaconda3/lib/python3.9/site-packages/lightgbm/basic.py:1098: UserWarning: categorical_column in param dict is overridden.\n",
      "  warnings.warn('{} in param dict is overridden.'.format(cat_alias))\n"
     ]
    },
    {
     "name": "stdout",
     "output_type": "stream",
     "text": [
      "[LightGBM] [Info] [binary:BoostFromScore]: pavg=0.229115 -> initscore=-1.213314\n",
      "[LightGBM] [Info] Start training from score -1.213314\n",
      "Training until validation scores don't improve for 10 rounds\n"
     ]
    },
    {
     "name": "stderr",
     "output_type": "stream",
     "text": [
      "\n",
      "\n",
      "bagging, val_score: 0.470693:  20%|\u001b[A\u001b[A\n",
      "\n",
      "bagging, val_score: 0.470693:  30%|\u001b[A\u001b[A\u001b[32m[I 2022-05-29 10:29:55,707]\u001b[0m Trial 29 finished with value: 0.4739665410614978 and parameters: {'bagging_fraction': 0.40879550480838117, 'bagging_freq': 1}. Best is trial 27 with value: 0.4709617228224705.\u001b[0m\n",
      "\n",
      "\n",
      "bagging, val_score: 0.470693:  30%|\u001b[A\u001b[A"
     ]
    },
    {
     "name": "stdout",
     "output_type": "stream",
     "text": [
      "Early stopping, best iteration is:\n",
      "[43]\tvalid_0's binary_logloss: 0.469958\tvalid_1's binary_logloss: 0.473967\n",
      "[LightGBM] [Info] Number of positive: 35835, number of negative: 120571\n",
      "[LightGBM] [Warning] Auto-choosing row-wise multi-threading, the overhead of testing was 0.032659 seconds.\n",
      "You can set `force_row_wise=true` to remove the overhead.\n",
      "And if memory is not enough, you can set `force_col_wise=true`.\n",
      "[LightGBM] [Info] Total Bins 70924\n",
      "[LightGBM] [Info] Number of data points in the train set: 156406, number of used features: 185\n"
     ]
    },
    {
     "name": "stderr",
     "output_type": "stream",
     "text": [
      "/Users/shimizukeita/opt/anaconda3/lib/python3.9/site-packages/lightgbm/basic.py:1286: UserWarning: Overriding the parameters from Reference Dataset.\n",
      "  warnings.warn('Overriding the parameters from Reference Dataset.')\n",
      "/Users/shimizukeita/opt/anaconda3/lib/python3.9/site-packages/lightgbm/basic.py:1098: UserWarning: categorical_column in param dict is overridden.\n",
      "  warnings.warn('{} in param dict is overridden.'.format(cat_alias))\n",
      "/Users/shimizukeita/opt/anaconda3/lib/python3.9/site-packages/lightgbm/basic.py:1286: UserWarning: Overriding the parameters from Reference Dataset.\n",
      "  warnings.warn('Overriding the parameters from Reference Dataset.')\n",
      "/Users/shimizukeita/opt/anaconda3/lib/python3.9/site-packages/lightgbm/basic.py:1098: UserWarning: categorical_column in param dict is overridden.\n",
      "  warnings.warn('{} in param dict is overridden.'.format(cat_alias))\n"
     ]
    },
    {
     "name": "stdout",
     "output_type": "stream",
     "text": [
      "[LightGBM] [Info] [binary:BoostFromScore]: pavg=0.229115 -> initscore=-1.213314\n",
      "[LightGBM] [Info] Start training from score -1.213314\n",
      "Training until validation scores don't improve for 10 rounds\n"
     ]
    },
    {
     "name": "stderr",
     "output_type": "stream",
     "text": [
      "\n",
      "\n",
      "bagging, val_score: 0.470693:  30%|\u001b[A\u001b[A\n",
      "\n",
      "bagging, val_score: 0.470693:  40%|\u001b[A\u001b[A\u001b[32m[I 2022-05-29 10:29:59,313]\u001b[0m Trial 30 finished with value: 0.4725762143792304 and parameters: {'bagging_fraction': 0.6967631984925122, 'bagging_freq': 3}. Best is trial 27 with value: 0.4709617228224705.\u001b[0m\n",
      "\n",
      "\n",
      "bagging, val_score: 0.470693:  40%|\u001b[A\u001b[A"
     ]
    },
    {
     "name": "stdout",
     "output_type": "stream",
     "text": [
      "Early stopping, best iteration is:\n",
      "[54]\tvalid_0's binary_logloss: 0.467097\tvalid_1's binary_logloss: 0.472576\n",
      "[LightGBM] [Info] Number of positive: 35835, number of negative: 120571\n",
      "[LightGBM] [Warning] Auto-choosing row-wise multi-threading, the overhead of testing was 0.035956 seconds.\n",
      "You can set `force_row_wise=true` to remove the overhead.\n",
      "And if memory is not enough, you can set `force_col_wise=true`.\n",
      "[LightGBM] [Info] Total Bins 70924\n",
      "[LightGBM] [Info] Number of data points in the train set: 156406, number of used features: 185\n"
     ]
    },
    {
     "name": "stderr",
     "output_type": "stream",
     "text": [
      "/Users/shimizukeita/opt/anaconda3/lib/python3.9/site-packages/lightgbm/basic.py:1286: UserWarning: Overriding the parameters from Reference Dataset.\n",
      "  warnings.warn('Overriding the parameters from Reference Dataset.')\n",
      "/Users/shimizukeita/opt/anaconda3/lib/python3.9/site-packages/lightgbm/basic.py:1098: UserWarning: categorical_column in param dict is overridden.\n",
      "  warnings.warn('{} in param dict is overridden.'.format(cat_alias))\n",
      "/Users/shimizukeita/opt/anaconda3/lib/python3.9/site-packages/lightgbm/basic.py:1286: UserWarning: Overriding the parameters from Reference Dataset.\n",
      "  warnings.warn('Overriding the parameters from Reference Dataset.')\n",
      "/Users/shimizukeita/opt/anaconda3/lib/python3.9/site-packages/lightgbm/basic.py:1098: UserWarning: categorical_column in param dict is overridden.\n",
      "  warnings.warn('{} in param dict is overridden.'.format(cat_alias))\n"
     ]
    },
    {
     "name": "stdout",
     "output_type": "stream",
     "text": [
      "[LightGBM] [Info] [binary:BoostFromScore]: pavg=0.229115 -> initscore=-1.213314\n",
      "[LightGBM] [Info] Start training from score -1.213314\n",
      "Training until validation scores don't improve for 10 rounds\n"
     ]
    },
    {
     "name": "stderr",
     "output_type": "stream",
     "text": [
      "\n",
      "\n",
      "bagging, val_score: 0.470693:  40%|\u001b[A\u001b[A\n",
      "\n",
      "bagging, val_score: 0.470693:  50%|\u001b[A\u001b[A\u001b[32m[I 2022-05-29 10:30:03,219]\u001b[0m Trial 31 finished with value: 0.47168353900213467 and parameters: {'bagging_fraction': 0.8545659776982792, 'bagging_freq': 6}. Best is trial 27 with value: 0.4709617228224705.\u001b[0m\n",
      "\n",
      "\n",
      "bagging, val_score: 0.470693:  50%|\u001b[A\u001b[A"
     ]
    },
    {
     "name": "stdout",
     "output_type": "stream",
     "text": [
      "Early stopping, best iteration is:\n",
      "[58]\tvalid_0's binary_logloss: 0.465781\tvalid_1's binary_logloss: 0.471684\n",
      "[LightGBM] [Info] Number of positive: 35835, number of negative: 120571\n",
      "[LightGBM] [Warning] Auto-choosing row-wise multi-threading, the overhead of testing was 0.033269 seconds.\n",
      "You can set `force_row_wise=true` to remove the overhead.\n",
      "And if memory is not enough, you can set `force_col_wise=true`.\n",
      "[LightGBM] [Info] Total Bins 70924\n",
      "[LightGBM] [Info] Number of data points in the train set: 156406, number of used features: 185\n"
     ]
    },
    {
     "name": "stderr",
     "output_type": "stream",
     "text": [
      "/Users/shimizukeita/opt/anaconda3/lib/python3.9/site-packages/lightgbm/basic.py:1286: UserWarning: Overriding the parameters from Reference Dataset.\n",
      "  warnings.warn('Overriding the parameters from Reference Dataset.')\n",
      "/Users/shimizukeita/opt/anaconda3/lib/python3.9/site-packages/lightgbm/basic.py:1098: UserWarning: categorical_column in param dict is overridden.\n",
      "  warnings.warn('{} in param dict is overridden.'.format(cat_alias))\n",
      "/Users/shimizukeita/opt/anaconda3/lib/python3.9/site-packages/lightgbm/basic.py:1286: UserWarning: Overriding the parameters from Reference Dataset.\n",
      "  warnings.warn('Overriding the parameters from Reference Dataset.')\n",
      "/Users/shimizukeita/opt/anaconda3/lib/python3.9/site-packages/lightgbm/basic.py:1098: UserWarning: categorical_column in param dict is overridden.\n",
      "  warnings.warn('{} in param dict is overridden.'.format(cat_alias))\n"
     ]
    },
    {
     "name": "stdout",
     "output_type": "stream",
     "text": [
      "[LightGBM] [Info] [binary:BoostFromScore]: pavg=0.229115 -> initscore=-1.213314\n",
      "[LightGBM] [Info] Start training from score -1.213314\n",
      "Training until validation scores don't improve for 10 rounds\n"
     ]
    },
    {
     "name": "stderr",
     "output_type": "stream",
     "text": [
      "\n",
      "\n",
      "bagging, val_score: 0.470693:  50%|\u001b[A\u001b[A\n",
      "\n",
      "bagging, val_score: 0.470693:  60%|\u001b[A\u001b[A\u001b[32m[I 2022-05-29 10:30:06,957]\u001b[0m Trial 32 finished with value: 0.4724208730996652 and parameters: {'bagging_fraction': 0.6786337255978319, 'bagging_freq': 5}. Best is trial 27 with value: 0.4709617228224705.\u001b[0m\n",
      "\n",
      "\n",
      "bagging, val_score: 0.470693:  60%|\u001b[A\u001b[A"
     ]
    },
    {
     "name": "stdout",
     "output_type": "stream",
     "text": [
      "Early stopping, best iteration is:\n",
      "[64]\tvalid_0's binary_logloss: 0.465403\tvalid_1's binary_logloss: 0.472421\n",
      "[LightGBM] [Info] Number of positive: 35835, number of negative: 120571\n",
      "[LightGBM] [Warning] Auto-choosing row-wise multi-threading, the overhead of testing was 0.037569 seconds.\n",
      "You can set `force_row_wise=true` to remove the overhead.\n",
      "And if memory is not enough, you can set `force_col_wise=true`.\n",
      "[LightGBM] [Info] Total Bins 70924\n",
      "[LightGBM] [Info] Number of data points in the train set: 156406, number of used features: 185\n"
     ]
    },
    {
     "name": "stderr",
     "output_type": "stream",
     "text": [
      "/Users/shimizukeita/opt/anaconda3/lib/python3.9/site-packages/lightgbm/basic.py:1286: UserWarning: Overriding the parameters from Reference Dataset.\n",
      "  warnings.warn('Overriding the parameters from Reference Dataset.')\n",
      "/Users/shimizukeita/opt/anaconda3/lib/python3.9/site-packages/lightgbm/basic.py:1098: UserWarning: categorical_column in param dict is overridden.\n",
      "  warnings.warn('{} in param dict is overridden.'.format(cat_alias))\n",
      "/Users/shimizukeita/opt/anaconda3/lib/python3.9/site-packages/lightgbm/basic.py:1286: UserWarning: Overriding the parameters from Reference Dataset.\n",
      "  warnings.warn('Overriding the parameters from Reference Dataset.')\n",
      "/Users/shimizukeita/opt/anaconda3/lib/python3.9/site-packages/lightgbm/basic.py:1098: UserWarning: categorical_column in param dict is overridden.\n",
      "  warnings.warn('{} in param dict is overridden.'.format(cat_alias))\n"
     ]
    },
    {
     "name": "stdout",
     "output_type": "stream",
     "text": [
      "[LightGBM] [Info] [binary:BoostFromScore]: pavg=0.229115 -> initscore=-1.213314\n",
      "[LightGBM] [Info] Start training from score -1.213314\n",
      "Training until validation scores don't improve for 10 rounds\n"
     ]
    },
    {
     "name": "stderr",
     "output_type": "stream",
     "text": [
      "\n",
      "\n",
      "bagging, val_score: 0.470693:  60%|\u001b[A\u001b[A\n",
      "\n",
      "bagging, val_score: 0.470693:  70%|\u001b[A\u001b[A\u001b[32m[I 2022-05-29 10:30:10,759]\u001b[0m Trial 33 finished with value: 0.4719113946363074 and parameters: {'bagging_fraction': 0.7281255061139594, 'bagging_freq': 7}. Best is trial 27 with value: 0.4709617228224705.\u001b[0m\n",
      "\n",
      "\n",
      "bagging, val_score: 0.470693:  70%|\u001b[A\u001b[A"
     ]
    },
    {
     "name": "stdout",
     "output_type": "stream",
     "text": [
      "Early stopping, best iteration is:\n",
      "[63]\tvalid_0's binary_logloss: 0.465038\tvalid_1's binary_logloss: 0.471911\n",
      "[LightGBM] [Info] Number of positive: 35835, number of negative: 120571\n",
      "[LightGBM] [Warning] Auto-choosing row-wise multi-threading, the overhead of testing was 0.034261 seconds.\n",
      "You can set `force_row_wise=true` to remove the overhead.\n",
      "And if memory is not enough, you can set `force_col_wise=true`.\n",
      "[LightGBM] [Info] Total Bins 70924\n",
      "[LightGBM] [Info] Number of data points in the train set: 156406, number of used features: 185\n"
     ]
    },
    {
     "name": "stderr",
     "output_type": "stream",
     "text": [
      "/Users/shimizukeita/opt/anaconda3/lib/python3.9/site-packages/lightgbm/basic.py:1286: UserWarning: Overriding the parameters from Reference Dataset.\n",
      "  warnings.warn('Overriding the parameters from Reference Dataset.')\n",
      "/Users/shimizukeita/opt/anaconda3/lib/python3.9/site-packages/lightgbm/basic.py:1098: UserWarning: categorical_column in param dict is overridden.\n",
      "  warnings.warn('{} in param dict is overridden.'.format(cat_alias))\n",
      "/Users/shimizukeita/opt/anaconda3/lib/python3.9/site-packages/lightgbm/basic.py:1286: UserWarning: Overriding the parameters from Reference Dataset.\n",
      "  warnings.warn('Overriding the parameters from Reference Dataset.')\n",
      "/Users/shimizukeita/opt/anaconda3/lib/python3.9/site-packages/lightgbm/basic.py:1098: UserWarning: categorical_column in param dict is overridden.\n",
      "  warnings.warn('{} in param dict is overridden.'.format(cat_alias))\n"
     ]
    },
    {
     "name": "stdout",
     "output_type": "stream",
     "text": [
      "[LightGBM] [Info] [binary:BoostFromScore]: pavg=0.229115 -> initscore=-1.213314\n",
      "[LightGBM] [Info] Start training from score -1.213314\n",
      "Training until validation scores don't improve for 10 rounds\n"
     ]
    },
    {
     "name": "stderr",
     "output_type": "stream",
     "text": [
      "\n",
      "\n",
      "bagging, val_score: 0.470693:  70%|\u001b[A\u001b[A\n",
      "\n",
      "bagging, val_score: 0.470693:  80%|\u001b[A\u001b[A\u001b[32m[I 2022-05-29 10:30:14,315]\u001b[0m Trial 34 finished with value: 0.47260647302029607 and parameters: {'bagging_fraction': 0.7093786116715968, 'bagging_freq': 2}. Best is trial 27 with value: 0.4709617228224705.\u001b[0m\n",
      "\n",
      "\n",
      "bagging, val_score: 0.470693:  80%|\u001b[A\u001b[A"
     ]
    },
    {
     "name": "stdout",
     "output_type": "stream",
     "text": [
      "Early stopping, best iteration is:\n",
      "[53]\tvalid_0's binary_logloss: 0.467275\tvalid_1's binary_logloss: 0.472606\n",
      "[LightGBM] [Info] Number of positive: 35835, number of negative: 120571\n",
      "[LightGBM] [Warning] Auto-choosing row-wise multi-threading, the overhead of testing was 0.038251 seconds.\n",
      "You can set `force_row_wise=true` to remove the overhead.\n",
      "And if memory is not enough, you can set `force_col_wise=true`.\n",
      "[LightGBM] [Info] Total Bins 70924\n",
      "[LightGBM] [Info] Number of data points in the train set: 156406, number of used features: 185\n"
     ]
    },
    {
     "name": "stderr",
     "output_type": "stream",
     "text": [
      "/Users/shimizukeita/opt/anaconda3/lib/python3.9/site-packages/lightgbm/basic.py:1286: UserWarning: Overriding the parameters from Reference Dataset.\n",
      "  warnings.warn('Overriding the parameters from Reference Dataset.')\n",
      "/Users/shimizukeita/opt/anaconda3/lib/python3.9/site-packages/lightgbm/basic.py:1098: UserWarning: categorical_column in param dict is overridden.\n",
      "  warnings.warn('{} in param dict is overridden.'.format(cat_alias))\n",
      "/Users/shimizukeita/opt/anaconda3/lib/python3.9/site-packages/lightgbm/basic.py:1286: UserWarning: Overriding the parameters from Reference Dataset.\n",
      "  warnings.warn('Overriding the parameters from Reference Dataset.')\n",
      "/Users/shimizukeita/opt/anaconda3/lib/python3.9/site-packages/lightgbm/basic.py:1098: UserWarning: categorical_column in param dict is overridden.\n",
      "  warnings.warn('{} in param dict is overridden.'.format(cat_alias))\n"
     ]
    },
    {
     "name": "stdout",
     "output_type": "stream",
     "text": [
      "[LightGBM] [Info] [binary:BoostFromScore]: pavg=0.229115 -> initscore=-1.213314\n",
      "[LightGBM] [Info] Start training from score -1.213314\n",
      "Training until validation scores don't improve for 10 rounds\n"
     ]
    },
    {
     "name": "stderr",
     "output_type": "stream",
     "text": [
      "\n",
      "\n",
      "bagging, val_score: 0.470693:  80%|\u001b[A\u001b[A\n",
      "\n",
      "bagging, val_score: 0.470693:  90%|\u001b[A\u001b[A\u001b[32m[I 2022-05-29 10:30:17,757]\u001b[0m Trial 35 finished with value: 0.4730813028253061 and parameters: {'bagging_fraction': 0.6536384372944092, 'bagging_freq': 1}. Best is trial 27 with value: 0.4709617228224705.\u001b[0m\n",
      "\n",
      "\n",
      "bagging, val_score: 0.470693:  90%|\u001b[A\u001b[A"
     ]
    },
    {
     "name": "stdout",
     "output_type": "stream",
     "text": [
      "Early stopping, best iteration is:\n",
      "[49]\tvalid_0's binary_logloss: 0.468061\tvalid_1's binary_logloss: 0.473081\n",
      "[LightGBM] [Info] Number of positive: 35835, number of negative: 120571\n",
      "[LightGBM] [Warning] Auto-choosing row-wise multi-threading, the overhead of testing was 0.040374 seconds.\n",
      "You can set `force_row_wise=true` to remove the overhead.\n",
      "And if memory is not enough, you can set `force_col_wise=true`.\n",
      "[LightGBM] [Info] Total Bins 70924\n",
      "[LightGBM] [Info] Number of data points in the train set: 156406, number of used features: 185\n"
     ]
    },
    {
     "name": "stderr",
     "output_type": "stream",
     "text": [
      "/Users/shimizukeita/opt/anaconda3/lib/python3.9/site-packages/lightgbm/basic.py:1286: UserWarning: Overriding the parameters from Reference Dataset.\n",
      "  warnings.warn('Overriding the parameters from Reference Dataset.')\n",
      "/Users/shimizukeita/opt/anaconda3/lib/python3.9/site-packages/lightgbm/basic.py:1098: UserWarning: categorical_column in param dict is overridden.\n",
      "  warnings.warn('{} in param dict is overridden.'.format(cat_alias))\n",
      "/Users/shimizukeita/opt/anaconda3/lib/python3.9/site-packages/lightgbm/basic.py:1286: UserWarning: Overriding the parameters from Reference Dataset.\n",
      "  warnings.warn('Overriding the parameters from Reference Dataset.')\n",
      "/Users/shimizukeita/opt/anaconda3/lib/python3.9/site-packages/lightgbm/basic.py:1098: UserWarning: categorical_column in param dict is overridden.\n",
      "  warnings.warn('{} in param dict is overridden.'.format(cat_alias))\n"
     ]
    },
    {
     "name": "stdout",
     "output_type": "stream",
     "text": [
      "[LightGBM] [Info] [binary:BoostFromScore]: pavg=0.229115 -> initscore=-1.213314\n",
      "[LightGBM] [Info] Start training from score -1.213314\n",
      "Training until validation scores don't improve for 10 rounds\n"
     ]
    },
    {
     "name": "stderr",
     "output_type": "stream",
     "text": [
      "\n",
      "\n",
      "bagging, val_score: 0.470693:  90%|\u001b[A\u001b[A\n",
      "\n",
      "bagging, val_score: 0.470693: 100%|\u001b[A\u001b[A\u001b[32m[I 2022-05-29 10:30:21,121]\u001b[0m Trial 36 finished with value: 0.47317562652623335 and parameters: {'bagging_fraction': 0.5227172889188467, 'bagging_freq': 4}. Best is trial 27 with value: 0.4709617228224705.\u001b[0m\n",
      "bagging, val_score: 0.470693: 100%|\n"
     ]
    },
    {
     "name": "stdout",
     "output_type": "stream",
     "text": [
      "Early stopping, best iteration is:\n",
      "[44]\tvalid_0's binary_logloss: 0.46957\tvalid_1's binary_logloss: 0.473176\n"
     ]
    },
    {
     "name": "stderr",
     "output_type": "stream",
     "text": [
      "\n",
      "\n",
      "  0%|        | 0/6 [00:00<?, ?it/s]\u001b[A\u001b[A\n",
      "\n",
      "feature_fraction_stage2, val_score:\u001b[A\u001b[A"
     ]
    },
    {
     "name": "stdout",
     "output_type": "stream",
     "text": [
      "[LightGBM] [Info] Number of positive: 35835, number of negative: 120571\n",
      "[LightGBM] [Warning] Auto-choosing row-wise multi-threading, the overhead of testing was 0.036334 seconds.\n",
      "You can set `force_row_wise=true` to remove the overhead.\n",
      "And if memory is not enough, you can set `force_col_wise=true`.\n",
      "[LightGBM] [Info] Total Bins 70924\n",
      "[LightGBM] [Info] Number of data points in the train set: 156406, number of used features: 185\n"
     ]
    },
    {
     "name": "stderr",
     "output_type": "stream",
     "text": [
      "/Users/shimizukeita/opt/anaconda3/lib/python3.9/site-packages/lightgbm/basic.py:1286: UserWarning: Overriding the parameters from Reference Dataset.\n",
      "  warnings.warn('Overriding the parameters from Reference Dataset.')\n",
      "/Users/shimizukeita/opt/anaconda3/lib/python3.9/site-packages/lightgbm/basic.py:1098: UserWarning: categorical_column in param dict is overridden.\n",
      "  warnings.warn('{} in param dict is overridden.'.format(cat_alias))\n",
      "/Users/shimizukeita/opt/anaconda3/lib/python3.9/site-packages/lightgbm/basic.py:1286: UserWarning: Overriding the parameters from Reference Dataset.\n",
      "  warnings.warn('Overriding the parameters from Reference Dataset.')\n",
      "/Users/shimizukeita/opt/anaconda3/lib/python3.9/site-packages/lightgbm/basic.py:1098: UserWarning: categorical_column in param dict is overridden.\n",
      "  warnings.warn('{} in param dict is overridden.'.format(cat_alias))\n"
     ]
    },
    {
     "name": "stdout",
     "output_type": "stream",
     "text": [
      "[LightGBM] [Info] [binary:BoostFromScore]: pavg=0.229115 -> initscore=-1.213314\n",
      "[LightGBM] [Info] Start training from score -1.213314\n",
      "Training until validation scores don't improve for 10 rounds\n"
     ]
    },
    {
     "name": "stderr",
     "output_type": "stream",
     "text": [
      "\n",
      "\n",
      "feature_fraction_stage2, val_score:\u001b[A\u001b[A\n",
      "\n",
      "feature_fraction_stage2, val_score:\u001b[A\u001b[A\u001b[32m[I 2022-05-29 10:30:25,890]\u001b[0m Trial 37 finished with value: 0.47049117995271716 and parameters: {'feature_fraction': 0.948}. Best is trial 37 with value: 0.47049117995271716.\u001b[0m\n",
      "\n",
      "\n",
      "feature_fraction_stage2, val_score:\u001b[A\u001b[A"
     ]
    },
    {
     "name": "stdout",
     "output_type": "stream",
     "text": [
      "Early stopping, best iteration is:\n",
      "[80]\tvalid_0's binary_logloss: 0.461857\tvalid_1's binary_logloss: 0.470491\n",
      "[LightGBM] [Info] Number of positive: 35835, number of negative: 120571\n",
      "[LightGBM] [Warning] Auto-choosing col-wise multi-threading, the overhead of testing was 0.087875 seconds.\n",
      "You can set `force_col_wise=true` to remove the overhead.\n",
      "[LightGBM] [Info] Total Bins 70924\n",
      "[LightGBM] [Info] Number of data points in the train set: 156406, number of used features: 185\n"
     ]
    },
    {
     "name": "stderr",
     "output_type": "stream",
     "text": [
      "/Users/shimizukeita/opt/anaconda3/lib/python3.9/site-packages/lightgbm/basic.py:1286: UserWarning: Overriding the parameters from Reference Dataset.\n",
      "  warnings.warn('Overriding the parameters from Reference Dataset.')\n",
      "/Users/shimizukeita/opt/anaconda3/lib/python3.9/site-packages/lightgbm/basic.py:1098: UserWarning: categorical_column in param dict is overridden.\n",
      "  warnings.warn('{} in param dict is overridden.'.format(cat_alias))\n",
      "/Users/shimizukeita/opt/anaconda3/lib/python3.9/site-packages/lightgbm/basic.py:1286: UserWarning: Overriding the parameters from Reference Dataset.\n",
      "  warnings.warn('Overriding the parameters from Reference Dataset.')\n",
      "/Users/shimizukeita/opt/anaconda3/lib/python3.9/site-packages/lightgbm/basic.py:1098: UserWarning: categorical_column in param dict is overridden.\n",
      "  warnings.warn('{} in param dict is overridden.'.format(cat_alias))\n"
     ]
    },
    {
     "name": "stdout",
     "output_type": "stream",
     "text": [
      "[LightGBM] [Info] [binary:BoostFromScore]: pavg=0.229115 -> initscore=-1.213314\n",
      "[LightGBM] [Info] Start training from score -1.213314\n",
      "Training until validation scores don't improve for 10 rounds\n"
     ]
    },
    {
     "name": "stderr",
     "output_type": "stream",
     "text": [
      "\n",
      "\n",
      "feature_fraction_stage2, val_score:\u001b[A\u001b[A\n",
      "\n",
      "feature_fraction_stage2, val_score:\u001b[A\u001b[A\u001b[32m[I 2022-05-29 10:30:30,205]\u001b[0m Trial 38 finished with value: 0.4707188689546945 and parameters: {'feature_fraction': 0.852}. Best is trial 37 with value: 0.47049117995271716.\u001b[0m\n",
      "\n",
      "\n",
      "feature_fraction_stage2, val_score:\u001b[A\u001b[A"
     ]
    },
    {
     "name": "stdout",
     "output_type": "stream",
     "text": [
      "Early stopping, best iteration is:\n",
      "[70]\tvalid_0's binary_logloss: 0.463438\tvalid_1's binary_logloss: 0.470719\n",
      "[LightGBM] [Info] Number of positive: 35835, number of negative: 120571\n",
      "[LightGBM] [Warning] Auto-choosing row-wise multi-threading, the overhead of testing was 0.037542 seconds.\n",
      "You can set `force_row_wise=true` to remove the overhead.\n",
      "And if memory is not enough, you can set `force_col_wise=true`.\n",
      "[LightGBM] [Info] Total Bins 70924\n",
      "[LightGBM] [Info] Number of data points in the train set: 156406, number of used features: 185\n"
     ]
    },
    {
     "name": "stderr",
     "output_type": "stream",
     "text": [
      "/Users/shimizukeita/opt/anaconda3/lib/python3.9/site-packages/lightgbm/basic.py:1286: UserWarning: Overriding the parameters from Reference Dataset.\n",
      "  warnings.warn('Overriding the parameters from Reference Dataset.')\n",
      "/Users/shimizukeita/opt/anaconda3/lib/python3.9/site-packages/lightgbm/basic.py:1098: UserWarning: categorical_column in param dict is overridden.\n",
      "  warnings.warn('{} in param dict is overridden.'.format(cat_alias))\n",
      "/Users/shimizukeita/opt/anaconda3/lib/python3.9/site-packages/lightgbm/basic.py:1286: UserWarning: Overriding the parameters from Reference Dataset.\n",
      "  warnings.warn('Overriding the parameters from Reference Dataset.')\n",
      "/Users/shimizukeita/opt/anaconda3/lib/python3.9/site-packages/lightgbm/basic.py:1098: UserWarning: categorical_column in param dict is overridden.\n",
      "  warnings.warn('{} in param dict is overridden.'.format(cat_alias))\n"
     ]
    },
    {
     "name": "stdout",
     "output_type": "stream",
     "text": [
      "[LightGBM] [Info] [binary:BoostFromScore]: pavg=0.229115 -> initscore=-1.213314\n",
      "[LightGBM] [Info] Start training from score -1.213314\n",
      "Training until validation scores don't improve for 10 rounds\n"
     ]
    },
    {
     "name": "stderr",
     "output_type": "stream",
     "text": [
      "\n",
      "\n",
      "feature_fraction_stage2, val_score:\u001b[A\u001b[A\n",
      "\n",
      "feature_fraction_stage2, val_score:\u001b[A\u001b[A\u001b[32m[I 2022-05-29 10:30:34,756]\u001b[0m Trial 39 finished with value: 0.47086950444888614 and parameters: {'feature_fraction': 0.9159999999999999}. Best is trial 37 with value: 0.47049117995271716.\u001b[0m\n",
      "\n",
      "\n",
      "feature_fraction_stage2, val_score:\u001b[A\u001b[A"
     ]
    },
    {
     "name": "stdout",
     "output_type": "stream",
     "text": [
      "Early stopping, best iteration is:\n",
      "[58]\tvalid_0's binary_logloss: 0.465642\tvalid_1's binary_logloss: 0.47087\n",
      "[LightGBM] [Info] Number of positive: 35835, number of negative: 120571\n",
      "[LightGBM] [Warning] Auto-choosing row-wise multi-threading, the overhead of testing was 0.042090 seconds.\n",
      "You can set `force_row_wise=true` to remove the overhead.\n",
      "And if memory is not enough, you can set `force_col_wise=true`.\n",
      "[LightGBM] [Info] Total Bins 70924\n",
      "[LightGBM] [Info] Number of data points in the train set: 156406, number of used features: 185\n"
     ]
    },
    {
     "name": "stderr",
     "output_type": "stream",
     "text": [
      "/Users/shimizukeita/opt/anaconda3/lib/python3.9/site-packages/lightgbm/basic.py:1286: UserWarning: Overriding the parameters from Reference Dataset.\n",
      "  warnings.warn('Overriding the parameters from Reference Dataset.')\n",
      "/Users/shimizukeita/opt/anaconda3/lib/python3.9/site-packages/lightgbm/basic.py:1098: UserWarning: categorical_column in param dict is overridden.\n",
      "  warnings.warn('{} in param dict is overridden.'.format(cat_alias))\n",
      "/Users/shimizukeita/opt/anaconda3/lib/python3.9/site-packages/lightgbm/basic.py:1286: UserWarning: Overriding the parameters from Reference Dataset.\n",
      "  warnings.warn('Overriding the parameters from Reference Dataset.')\n",
      "/Users/shimizukeita/opt/anaconda3/lib/python3.9/site-packages/lightgbm/basic.py:1098: UserWarning: categorical_column in param dict is overridden.\n",
      "  warnings.warn('{} in param dict is overridden.'.format(cat_alias))\n"
     ]
    },
    {
     "name": "stdout",
     "output_type": "stream",
     "text": [
      "[LightGBM] [Info] [binary:BoostFromScore]: pavg=0.229115 -> initscore=-1.213314\n",
      "[LightGBM] [Info] Start training from score -1.213314\n",
      "Training until validation scores don't improve for 10 rounds\n"
     ]
    },
    {
     "name": "stderr",
     "output_type": "stream",
     "text": [
      "\n",
      "\n",
      "feature_fraction_stage2, val_score:\u001b[A\u001b[A\n",
      "\n",
      "feature_fraction_stage2, val_score:\u001b[A\u001b[A\u001b[32m[I 2022-05-29 10:30:40,111]\u001b[0m Trial 40 finished with value: 0.47056489364738924 and parameters: {'feature_fraction': 0.9799999999999999}. Best is trial 37 with value: 0.47049117995271716.\u001b[0m\n",
      "\n",
      "\n",
      "feature_fraction_stage2, val_score:\u001b[A\u001b[A"
     ]
    },
    {
     "name": "stdout",
     "output_type": "stream",
     "text": [
      "Early stopping, best iteration is:\n",
      "[77]\tvalid_0's binary_logloss: 0.462336\tvalid_1's binary_logloss: 0.470565\n",
      "[LightGBM] [Info] Number of positive: 35835, number of negative: 120571\n",
      "[LightGBM] [Warning] Auto-choosing row-wise multi-threading, the overhead of testing was 0.037939 seconds.\n",
      "You can set `force_row_wise=true` to remove the overhead.\n",
      "And if memory is not enough, you can set `force_col_wise=true`.\n",
      "[LightGBM] [Info] Total Bins 70924\n",
      "[LightGBM] [Info] Number of data points in the train set: 156406, number of used features: 185\n"
     ]
    },
    {
     "name": "stderr",
     "output_type": "stream",
     "text": [
      "/Users/shimizukeita/opt/anaconda3/lib/python3.9/site-packages/lightgbm/basic.py:1286: UserWarning: Overriding the parameters from Reference Dataset.\n",
      "  warnings.warn('Overriding the parameters from Reference Dataset.')\n",
      "/Users/shimizukeita/opt/anaconda3/lib/python3.9/site-packages/lightgbm/basic.py:1098: UserWarning: categorical_column in param dict is overridden.\n",
      "  warnings.warn('{} in param dict is overridden.'.format(cat_alias))\n",
      "/Users/shimizukeita/opt/anaconda3/lib/python3.9/site-packages/lightgbm/basic.py:1286: UserWarning: Overriding the parameters from Reference Dataset.\n",
      "  warnings.warn('Overriding the parameters from Reference Dataset.')\n",
      "/Users/shimizukeita/opt/anaconda3/lib/python3.9/site-packages/lightgbm/basic.py:1098: UserWarning: categorical_column in param dict is overridden.\n",
      "  warnings.warn('{} in param dict is overridden.'.format(cat_alias))\n"
     ]
    },
    {
     "name": "stdout",
     "output_type": "stream",
     "text": [
      "[LightGBM] [Info] [binary:BoostFromScore]: pavg=0.229115 -> initscore=-1.213314\n",
      "[LightGBM] [Info] Start training from score -1.213314\n",
      "Training until validation scores don't improve for 10 rounds\n"
     ]
    },
    {
     "name": "stderr",
     "output_type": "stream",
     "text": [
      "\n",
      "\n",
      "feature_fraction_stage2, val_score:\u001b[A\u001b[A\n",
      "\n",
      "feature_fraction_stage2, val_score:\u001b[A\u001b[A\u001b[32m[I 2022-05-29 10:30:45,110]\u001b[0m Trial 41 finished with value: 0.47072371261092694 and parameters: {'feature_fraction': 0.8839999999999999}. Best is trial 37 with value: 0.47049117995271716.\u001b[0m\n",
      "\n",
      "\n",
      "feature_fraction_stage2, val_score:\u001b[A\u001b[A"
     ]
    },
    {
     "name": "stdout",
     "output_type": "stream",
     "text": [
      "Early stopping, best iteration is:\n",
      "[82]\tvalid_0's binary_logloss: 0.461684\tvalid_1's binary_logloss: 0.470724\n",
      "[LightGBM] [Info] Number of positive: 35835, number of negative: 120571\n",
      "[LightGBM] [Warning] Auto-choosing row-wise multi-threading, the overhead of testing was 0.032407 seconds.\n",
      "You can set `force_row_wise=true` to remove the overhead.\n",
      "And if memory is not enough, you can set `force_col_wise=true`.\n",
      "[LightGBM] [Info] Total Bins 70924\n",
      "[LightGBM] [Info] Number of data points in the train set: 156406, number of used features: 185\n"
     ]
    },
    {
     "name": "stderr",
     "output_type": "stream",
     "text": [
      "/Users/shimizukeita/opt/anaconda3/lib/python3.9/site-packages/lightgbm/basic.py:1286: UserWarning: Overriding the parameters from Reference Dataset.\n",
      "  warnings.warn('Overriding the parameters from Reference Dataset.')\n",
      "/Users/shimizukeita/opt/anaconda3/lib/python3.9/site-packages/lightgbm/basic.py:1098: UserWarning: categorical_column in param dict is overridden.\n",
      "  warnings.warn('{} in param dict is overridden.'.format(cat_alias))\n",
      "/Users/shimizukeita/opt/anaconda3/lib/python3.9/site-packages/lightgbm/basic.py:1286: UserWarning: Overriding the parameters from Reference Dataset.\n",
      "  warnings.warn('Overriding the parameters from Reference Dataset.')\n",
      "/Users/shimizukeita/opt/anaconda3/lib/python3.9/site-packages/lightgbm/basic.py:1098: UserWarning: categorical_column in param dict is overridden.\n",
      "  warnings.warn('{} in param dict is overridden.'.format(cat_alias))\n"
     ]
    },
    {
     "name": "stdout",
     "output_type": "stream",
     "text": [
      "[LightGBM] [Info] [binary:BoostFromScore]: pavg=0.229115 -> initscore=-1.213314\n",
      "[LightGBM] [Info] Start training from score -1.213314\n",
      "Training until validation scores don't improve for 10 rounds\n",
      "[100]\tvalid_0's binary_logloss: 0.459101\tvalid_1's binary_logloss: 0.470673\n"
     ]
    },
    {
     "name": "stderr",
     "output_type": "stream",
     "text": [
      "\n",
      "\n",
      "feature_fraction_stage2, val_score:\u001b[A\u001b[A\n",
      "\n",
      "feature_fraction_stage2, val_score:\u001b[A\u001b[A\u001b[32m[I 2022-05-29 10:30:50,263]\u001b[0m Trial 42 finished with value: 0.470568298540738 and parameters: {'feature_fraction': 0.82}. Best is trial 37 with value: 0.47049117995271716.\u001b[0m\n",
      "feature_fraction_stage2, val_score:\n"
     ]
    },
    {
     "name": "stdout",
     "output_type": "stream",
     "text": [
      "Early stopping, best iteration is:\n",
      "[104]\tvalid_0's binary_logloss: 0.458554\tvalid_1's binary_logloss: 0.470568\n"
     ]
    },
    {
     "name": "stderr",
     "output_type": "stream",
     "text": [
      "\n",
      "\n",
      "  0%|       | 0/20 [00:00<?, ?it/s]\u001b[A\u001b[A\n",
      "\n",
      "regularization_factors, val_score: \u001b[A\u001b[A"
     ]
    },
    {
     "name": "stdout",
     "output_type": "stream",
     "text": [
      "[LightGBM] [Info] Number of positive: 35835, number of negative: 120571\n",
      "[LightGBM] [Warning] Auto-choosing row-wise multi-threading, the overhead of testing was 0.028275 seconds.\n",
      "You can set `force_row_wise=true` to remove the overhead.\n",
      "And if memory is not enough, you can set `force_col_wise=true`.\n",
      "[LightGBM] [Info] Total Bins 70924\n",
      "[LightGBM] [Info] Number of data points in the train set: 156406, number of used features: 185\n"
     ]
    },
    {
     "name": "stderr",
     "output_type": "stream",
     "text": [
      "/Users/shimizukeita/opt/anaconda3/lib/python3.9/site-packages/lightgbm/basic.py:1286: UserWarning: Overriding the parameters from Reference Dataset.\n",
      "  warnings.warn('Overriding the parameters from Reference Dataset.')\n",
      "/Users/shimizukeita/opt/anaconda3/lib/python3.9/site-packages/lightgbm/basic.py:1098: UserWarning: categorical_column in param dict is overridden.\n",
      "  warnings.warn('{} in param dict is overridden.'.format(cat_alias))\n",
      "/Users/shimizukeita/opt/anaconda3/lib/python3.9/site-packages/lightgbm/basic.py:1286: UserWarning: Overriding the parameters from Reference Dataset.\n",
      "  warnings.warn('Overriding the parameters from Reference Dataset.')\n",
      "/Users/shimizukeita/opt/anaconda3/lib/python3.9/site-packages/lightgbm/basic.py:1098: UserWarning: categorical_column in param dict is overridden.\n",
      "  warnings.warn('{} in param dict is overridden.'.format(cat_alias))\n"
     ]
    },
    {
     "name": "stdout",
     "output_type": "stream",
     "text": [
      "[LightGBM] [Info] [binary:BoostFromScore]: pavg=0.229115 -> initscore=-1.213314\n",
      "[LightGBM] [Info] Start training from score -1.213314\n",
      "Training until validation scores don't improve for 10 rounds\n"
     ]
    },
    {
     "name": "stderr",
     "output_type": "stream",
     "text": [
      "\n",
      "\n",
      "regularization_factors, val_score: \u001b[A\u001b[A\n",
      "\n",
      "regularization_factors, val_score: \u001b[A\u001b[A\u001b[32m[I 2022-05-29 10:30:55,186]\u001b[0m Trial 43 finished with value: 0.4705574448948348 and parameters: {'lambda_l1': 0.0006643062438793945, 'lambda_l2': 1.6625401061522272e-07}. Best is trial 43 with value: 0.4705574448948348.\u001b[0m\n",
      "\n",
      "\n",
      "regularization_factors, val_score: \u001b[A\u001b[A"
     ]
    },
    {
     "name": "stdout",
     "output_type": "stream",
     "text": [
      "Early stopping, best iteration is:\n",
      "[85]\tvalid_0's binary_logloss: 0.461223\tvalid_1's binary_logloss: 0.470557\n",
      "[LightGBM] [Info] Number of positive: 35835, number of negative: 120571\n",
      "[LightGBM] [Warning] Auto-choosing row-wise multi-threading, the overhead of testing was 0.030531 seconds.\n",
      "You can set `force_row_wise=true` to remove the overhead.\n",
      "And if memory is not enough, you can set `force_col_wise=true`.\n",
      "[LightGBM] [Info] Total Bins 70924\n",
      "[LightGBM] [Info] Number of data points in the train set: 156406, number of used features: 185\n"
     ]
    },
    {
     "name": "stderr",
     "output_type": "stream",
     "text": [
      "/Users/shimizukeita/opt/anaconda3/lib/python3.9/site-packages/lightgbm/basic.py:1286: UserWarning: Overriding the parameters from Reference Dataset.\n",
      "  warnings.warn('Overriding the parameters from Reference Dataset.')\n",
      "/Users/shimizukeita/opt/anaconda3/lib/python3.9/site-packages/lightgbm/basic.py:1098: UserWarning: categorical_column in param dict is overridden.\n",
      "  warnings.warn('{} in param dict is overridden.'.format(cat_alias))\n",
      "/Users/shimizukeita/opt/anaconda3/lib/python3.9/site-packages/lightgbm/basic.py:1286: UserWarning: Overriding the parameters from Reference Dataset.\n",
      "  warnings.warn('Overriding the parameters from Reference Dataset.')\n",
      "/Users/shimizukeita/opt/anaconda3/lib/python3.9/site-packages/lightgbm/basic.py:1098: UserWarning: categorical_column in param dict is overridden.\n",
      "  warnings.warn('{} in param dict is overridden.'.format(cat_alias))\n"
     ]
    },
    {
     "name": "stdout",
     "output_type": "stream",
     "text": [
      "[LightGBM] [Info] [binary:BoostFromScore]: pavg=0.229115 -> initscore=-1.213314\n",
      "[LightGBM] [Info] Start training from score -1.213314\n",
      "Training until validation scores don't improve for 10 rounds\n"
     ]
    },
    {
     "name": "stderr",
     "output_type": "stream",
     "text": [
      "\n",
      "\n",
      "regularization_factors, val_score: \u001b[A\u001b[A\n",
      "\n",
      "regularization_factors, val_score: \u001b[A\u001b[A\u001b[32m[I 2022-05-29 10:30:59,778]\u001b[0m Trial 44 finished with value: 0.47049117994919926 and parameters: {'lambda_l1': 8.668004962466359e-07, 'lambda_l2': 2.5252828313271325e-07}. Best is trial 44 with value: 0.47049117994919926.\u001b[0m\n",
      "\n",
      "\n",
      "regularization_factors, val_score: \u001b[A\u001b[A"
     ]
    },
    {
     "name": "stdout",
     "output_type": "stream",
     "text": [
      "Early stopping, best iteration is:\n",
      "[80]\tvalid_0's binary_logloss: 0.461857\tvalid_1's binary_logloss: 0.470491\n",
      "[LightGBM] [Info] Number of positive: 35835, number of negative: 120571\n",
      "[LightGBM] [Warning] Auto-choosing row-wise multi-threading, the overhead of testing was 0.035252 seconds.\n",
      "You can set `force_row_wise=true` to remove the overhead.\n",
      "And if memory is not enough, you can set `force_col_wise=true`.\n",
      "[LightGBM] [Info] Total Bins 70924\n",
      "[LightGBM] [Info] Number of data points in the train set: 156406, number of used features: 185\n"
     ]
    },
    {
     "name": "stderr",
     "output_type": "stream",
     "text": [
      "/Users/shimizukeita/opt/anaconda3/lib/python3.9/site-packages/lightgbm/basic.py:1286: UserWarning: Overriding the parameters from Reference Dataset.\n",
      "  warnings.warn('Overriding the parameters from Reference Dataset.')\n",
      "/Users/shimizukeita/opt/anaconda3/lib/python3.9/site-packages/lightgbm/basic.py:1098: UserWarning: categorical_column in param dict is overridden.\n",
      "  warnings.warn('{} in param dict is overridden.'.format(cat_alias))\n",
      "/Users/shimizukeita/opt/anaconda3/lib/python3.9/site-packages/lightgbm/basic.py:1286: UserWarning: Overriding the parameters from Reference Dataset.\n",
      "  warnings.warn('Overriding the parameters from Reference Dataset.')\n",
      "/Users/shimizukeita/opt/anaconda3/lib/python3.9/site-packages/lightgbm/basic.py:1098: UserWarning: categorical_column in param dict is overridden.\n",
      "  warnings.warn('{} in param dict is overridden.'.format(cat_alias))\n"
     ]
    },
    {
     "name": "stdout",
     "output_type": "stream",
     "text": [
      "[LightGBM] [Info] [binary:BoostFromScore]: pavg=0.229115 -> initscore=-1.213314\n",
      "[LightGBM] [Info] Start training from score -1.213314\n",
      "Training until validation scores don't improve for 10 rounds\n"
     ]
    },
    {
     "name": "stderr",
     "output_type": "stream",
     "text": [
      "\n",
      "\n",
      "regularization_factors, val_score: \u001b[A\u001b[A\n",
      "\n",
      "regularization_factors, val_score: \u001b[A\u001b[A\u001b[32m[I 2022-05-29 10:31:04,464]\u001b[0m Trial 45 finished with value: 0.47041966783525385 and parameters: {'lambda_l1': 0.00150795914111428, 'lambda_l2': 4.405908975640139}. Best is trial 45 with value: 0.47041966783525385.\u001b[0m\n",
      "\n",
      "\n",
      "regularization_factors, val_score: \u001b[A\u001b[A"
     ]
    },
    {
     "name": "stdout",
     "output_type": "stream",
     "text": [
      "Early stopping, best iteration is:\n",
      "[83]\tvalid_0's binary_logloss: 0.46165\tvalid_1's binary_logloss: 0.47042\n",
      "[LightGBM] [Info] Number of positive: 35835, number of negative: 120571\n",
      "[LightGBM] [Warning] Auto-choosing row-wise multi-threading, the overhead of testing was 0.032664 seconds.\n",
      "You can set `force_row_wise=true` to remove the overhead.\n",
      "And if memory is not enough, you can set `force_col_wise=true`.\n",
      "[LightGBM] [Info] Total Bins 70924\n",
      "[LightGBM] [Info] Number of data points in the train set: 156406, number of used features: 185\n"
     ]
    },
    {
     "name": "stderr",
     "output_type": "stream",
     "text": [
      "/Users/shimizukeita/opt/anaconda3/lib/python3.9/site-packages/lightgbm/basic.py:1286: UserWarning: Overriding the parameters from Reference Dataset.\n",
      "  warnings.warn('Overriding the parameters from Reference Dataset.')\n",
      "/Users/shimizukeita/opt/anaconda3/lib/python3.9/site-packages/lightgbm/basic.py:1098: UserWarning: categorical_column in param dict is overridden.\n",
      "  warnings.warn('{} in param dict is overridden.'.format(cat_alias))\n",
      "/Users/shimizukeita/opt/anaconda3/lib/python3.9/site-packages/lightgbm/basic.py:1286: UserWarning: Overriding the parameters from Reference Dataset.\n",
      "  warnings.warn('Overriding the parameters from Reference Dataset.')\n",
      "/Users/shimizukeita/opt/anaconda3/lib/python3.9/site-packages/lightgbm/basic.py:1098: UserWarning: categorical_column in param dict is overridden.\n",
      "  warnings.warn('{} in param dict is overridden.'.format(cat_alias))\n"
     ]
    },
    {
     "name": "stdout",
     "output_type": "stream",
     "text": [
      "[LightGBM] [Info] [binary:BoostFromScore]: pavg=0.229115 -> initscore=-1.213314\n",
      "[LightGBM] [Info] Start training from score -1.213314\n",
      "Training until validation scores don't improve for 10 rounds\n"
     ]
    },
    {
     "name": "stderr",
     "output_type": "stream",
     "text": [
      "\n",
      "\n",
      "regularization_factors, val_score: \u001b[A\u001b[A\n",
      "\n",
      "regularization_factors, val_score: \u001b[A\u001b[A\u001b[32m[I 2022-05-29 10:31:09,403]\u001b[0m Trial 46 finished with value: 0.47058325931355754 and parameters: {'lambda_l1': 8.692460783668849e-08, 'lambda_l2': 0.00026849063772833956}. Best is trial 45 with value: 0.47041966783525385.\u001b[0m\n",
      "\n",
      "\n",
      "regularization_factors, val_score: \u001b[A\u001b[A"
     ]
    },
    {
     "name": "stdout",
     "output_type": "stream",
     "text": [
      "[100]\tvalid_0's binary_logloss: 0.45922\tvalid_1's binary_logloss: 0.4706\n",
      "Early stopping, best iteration is:\n",
      "[92]\tvalid_0's binary_logloss: 0.460181\tvalid_1's binary_logloss: 0.470583\n",
      "[LightGBM] [Info] Number of positive: 35835, number of negative: 120571\n",
      "[LightGBM] [Warning] Auto-choosing row-wise multi-threading, the overhead of testing was 0.033478 seconds.\n",
      "You can set `force_row_wise=true` to remove the overhead.\n",
      "And if memory is not enough, you can set `force_col_wise=true`.\n",
      "[LightGBM] [Info] Total Bins 70924\n",
      "[LightGBM] [Info] Number of data points in the train set: 156406, number of used features: 185\n"
     ]
    },
    {
     "name": "stderr",
     "output_type": "stream",
     "text": [
      "/Users/shimizukeita/opt/anaconda3/lib/python3.9/site-packages/lightgbm/basic.py:1286: UserWarning: Overriding the parameters from Reference Dataset.\n",
      "  warnings.warn('Overriding the parameters from Reference Dataset.')\n",
      "/Users/shimizukeita/opt/anaconda3/lib/python3.9/site-packages/lightgbm/basic.py:1098: UserWarning: categorical_column in param dict is overridden.\n",
      "  warnings.warn('{} in param dict is overridden.'.format(cat_alias))\n",
      "/Users/shimizukeita/opt/anaconda3/lib/python3.9/site-packages/lightgbm/basic.py:1286: UserWarning: Overriding the parameters from Reference Dataset.\n",
      "  warnings.warn('Overriding the parameters from Reference Dataset.')\n",
      "/Users/shimizukeita/opt/anaconda3/lib/python3.9/site-packages/lightgbm/basic.py:1098: UserWarning: categorical_column in param dict is overridden.\n",
      "  warnings.warn('{} in param dict is overridden.'.format(cat_alias))\n"
     ]
    },
    {
     "name": "stdout",
     "output_type": "stream",
     "text": [
      "[LightGBM] [Info] [binary:BoostFromScore]: pavg=0.229115 -> initscore=-1.213314\n",
      "[LightGBM] [Info] Start training from score -1.213314\n",
      "Training until validation scores don't improve for 10 rounds\n"
     ]
    },
    {
     "name": "stderr",
     "output_type": "stream",
     "text": [
      "\n",
      "\n",
      "regularization_factors, val_score: \u001b[A\u001b[A\n",
      "\n",
      "regularization_factors, val_score: \u001b[A\u001b[A\u001b[32m[I 2022-05-29 10:31:14,172]\u001b[0m Trial 47 finished with value: 0.47049044124992584 and parameters: {'lambda_l1': 0.18023613019600065, 'lambda_l2': 0.08124548398431143}. Best is trial 45 with value: 0.47041966783525385.\u001b[0m\n",
      "\n",
      "\n",
      "regularization_factors, val_score: \u001b[A\u001b[A"
     ]
    },
    {
     "name": "stdout",
     "output_type": "stream",
     "text": [
      "Early stopping, best iteration is:\n",
      "[83]\tvalid_0's binary_logloss: 0.46136\tvalid_1's binary_logloss: 0.47049\n",
      "[LightGBM] [Info] Number of positive: 35835, number of negative: 120571\n",
      "[LightGBM] [Warning] Auto-choosing row-wise multi-threading, the overhead of testing was 0.035336 seconds.\n",
      "You can set `force_row_wise=true` to remove the overhead.\n",
      "And if memory is not enough, you can set `force_col_wise=true`.\n",
      "[LightGBM] [Info] Total Bins 70924\n",
      "[LightGBM] [Info] Number of data points in the train set: 156406, number of used features: 185\n"
     ]
    },
    {
     "name": "stderr",
     "output_type": "stream",
     "text": [
      "/Users/shimizukeita/opt/anaconda3/lib/python3.9/site-packages/lightgbm/basic.py:1286: UserWarning: Overriding the parameters from Reference Dataset.\n",
      "  warnings.warn('Overriding the parameters from Reference Dataset.')\n",
      "/Users/shimizukeita/opt/anaconda3/lib/python3.9/site-packages/lightgbm/basic.py:1098: UserWarning: categorical_column in param dict is overridden.\n",
      "  warnings.warn('{} in param dict is overridden.'.format(cat_alias))\n",
      "/Users/shimizukeita/opt/anaconda3/lib/python3.9/site-packages/lightgbm/basic.py:1286: UserWarning: Overriding the parameters from Reference Dataset.\n",
      "  warnings.warn('Overriding the parameters from Reference Dataset.')\n",
      "/Users/shimizukeita/opt/anaconda3/lib/python3.9/site-packages/lightgbm/basic.py:1098: UserWarning: categorical_column in param dict is overridden.\n",
      "  warnings.warn('{} in param dict is overridden.'.format(cat_alias))\n"
     ]
    },
    {
     "name": "stdout",
     "output_type": "stream",
     "text": [
      "[LightGBM] [Info] [binary:BoostFromScore]: pavg=0.229115 -> initscore=-1.213314\n",
      "[LightGBM] [Info] Start training from score -1.213314\n",
      "Training until validation scores don't improve for 10 rounds\n"
     ]
    },
    {
     "name": "stderr",
     "output_type": "stream",
     "text": [
      "\n",
      "\n",
      "regularization_factors, val_score: \u001b[A\u001b[A\n",
      "\n",
      "regularization_factors, val_score: \u001b[A\u001b[A\u001b[32m[I 2022-05-29 10:31:18,799]\u001b[0m Trial 48 finished with value: 0.470491179951569 and parameters: {'lambda_l1': 1.4521562068003195e-07, 'lambda_l2': 1.3065131206933043e-07}. Best is trial 45 with value: 0.47041966783525385.\u001b[0m\n",
      "\n",
      "\n",
      "regularization_factors, val_score: \u001b[A\u001b[A"
     ]
    },
    {
     "name": "stdout",
     "output_type": "stream",
     "text": [
      "Early stopping, best iteration is:\n",
      "[80]\tvalid_0's binary_logloss: 0.461857\tvalid_1's binary_logloss: 0.470491\n",
      "[LightGBM] [Info] Number of positive: 35835, number of negative: 120571\n",
      "[LightGBM] [Warning] Auto-choosing row-wise multi-threading, the overhead of testing was 0.033022 seconds.\n",
      "You can set `force_row_wise=true` to remove the overhead.\n",
      "And if memory is not enough, you can set `force_col_wise=true`.\n",
      "[LightGBM] [Info] Total Bins 70924\n",
      "[LightGBM] [Info] Number of data points in the train set: 156406, number of used features: 185\n"
     ]
    },
    {
     "name": "stderr",
     "output_type": "stream",
     "text": [
      "/Users/shimizukeita/opt/anaconda3/lib/python3.9/site-packages/lightgbm/basic.py:1286: UserWarning: Overriding the parameters from Reference Dataset.\n",
      "  warnings.warn('Overriding the parameters from Reference Dataset.')\n",
      "/Users/shimizukeita/opt/anaconda3/lib/python3.9/site-packages/lightgbm/basic.py:1098: UserWarning: categorical_column in param dict is overridden.\n",
      "  warnings.warn('{} in param dict is overridden.'.format(cat_alias))\n",
      "/Users/shimizukeita/opt/anaconda3/lib/python3.9/site-packages/lightgbm/basic.py:1286: UserWarning: Overriding the parameters from Reference Dataset.\n",
      "  warnings.warn('Overriding the parameters from Reference Dataset.')\n",
      "/Users/shimizukeita/opt/anaconda3/lib/python3.9/site-packages/lightgbm/basic.py:1098: UserWarning: categorical_column in param dict is overridden.\n",
      "  warnings.warn('{} in param dict is overridden.'.format(cat_alias))\n"
     ]
    },
    {
     "name": "stdout",
     "output_type": "stream",
     "text": [
      "[LightGBM] [Info] [binary:BoostFromScore]: pavg=0.229115 -> initscore=-1.213314\n",
      "[LightGBM] [Info] Start training from score -1.213314\n",
      "Training until validation scores don't improve for 10 rounds\n"
     ]
    },
    {
     "name": "stderr",
     "output_type": "stream",
     "text": [
      "\n",
      "\n",
      "regularization_factors, val_score: \u001b[A\u001b[A\n",
      "\n",
      "regularization_factors, val_score: \u001b[A\u001b[A\u001b[32m[I 2022-05-29 10:31:23,408]\u001b[0m Trial 49 finished with value: 0.4704911796924795 and parameters: {'lambda_l1': 7.159233457893974e-05, 'lambda_l2': 1.2346155336532416e-05}. Best is trial 45 with value: 0.47041966783525385.\u001b[0m\n",
      "\n",
      "\n",
      "regularization_factors, val_score: \u001b[A\u001b[A"
     ]
    },
    {
     "name": "stdout",
     "output_type": "stream",
     "text": [
      "Early stopping, best iteration is:\n",
      "[80]\tvalid_0's binary_logloss: 0.461857\tvalid_1's binary_logloss: 0.470491\n",
      "[LightGBM] [Info] Number of positive: 35835, number of negative: 120571\n",
      "[LightGBM] [Warning] Auto-choosing row-wise multi-threading, the overhead of testing was 0.038963 seconds.\n",
      "You can set `force_row_wise=true` to remove the overhead.\n",
      "And if memory is not enough, you can set `force_col_wise=true`.\n",
      "[LightGBM] [Info] Total Bins 70924\n",
      "[LightGBM] [Info] Number of data points in the train set: 156406, number of used features: 185\n"
     ]
    },
    {
     "name": "stderr",
     "output_type": "stream",
     "text": [
      "/Users/shimizukeita/opt/anaconda3/lib/python3.9/site-packages/lightgbm/basic.py:1286: UserWarning: Overriding the parameters from Reference Dataset.\n",
      "  warnings.warn('Overriding the parameters from Reference Dataset.')\n",
      "/Users/shimizukeita/opt/anaconda3/lib/python3.9/site-packages/lightgbm/basic.py:1098: UserWarning: categorical_column in param dict is overridden.\n",
      "  warnings.warn('{} in param dict is overridden.'.format(cat_alias))\n",
      "/Users/shimizukeita/opt/anaconda3/lib/python3.9/site-packages/lightgbm/basic.py:1286: UserWarning: Overriding the parameters from Reference Dataset.\n",
      "  warnings.warn('Overriding the parameters from Reference Dataset.')\n",
      "/Users/shimizukeita/opt/anaconda3/lib/python3.9/site-packages/lightgbm/basic.py:1098: UserWarning: categorical_column in param dict is overridden.\n",
      "  warnings.warn('{} in param dict is overridden.'.format(cat_alias))\n"
     ]
    },
    {
     "name": "stdout",
     "output_type": "stream",
     "text": [
      "[LightGBM] [Info] [binary:BoostFromScore]: pavg=0.229115 -> initscore=-1.213314\n",
      "[LightGBM] [Info] Start training from score -1.213314\n",
      "Training until validation scores don't improve for 10 rounds\n"
     ]
    },
    {
     "name": "stderr",
     "output_type": "stream",
     "text": [
      "\n",
      "\n",
      "regularization_factors, val_score: \u001b[A\u001b[A\n",
      "\n",
      "regularization_factors, val_score: \u001b[A\u001b[A\u001b[32m[I 2022-05-29 10:31:28,190]\u001b[0m Trial 50 finished with value: 0.4704911799283614 and parameters: {'lambda_l1': 5.874792521810582e-07, 'lambda_l2': 4.466655706553804e-06}. Best is trial 45 with value: 0.47041966783525385.\u001b[0m\n",
      "\n",
      "\n",
      "regularization_factors, val_score: \u001b[A\u001b[A"
     ]
    },
    {
     "name": "stdout",
     "output_type": "stream",
     "text": [
      "Early stopping, best iteration is:\n",
      "[80]\tvalid_0's binary_logloss: 0.461857\tvalid_1's binary_logloss: 0.470491\n",
      "[LightGBM] [Info] Number of positive: 35835, number of negative: 120571\n",
      "[LightGBM] [Warning] Auto-choosing row-wise multi-threading, the overhead of testing was 0.040709 seconds.\n",
      "You can set `force_row_wise=true` to remove the overhead.\n",
      "And if memory is not enough, you can set `force_col_wise=true`.\n",
      "[LightGBM] [Info] Total Bins 70924\n",
      "[LightGBM] [Info] Number of data points in the train set: 156406, number of used features: 185\n"
     ]
    },
    {
     "name": "stderr",
     "output_type": "stream",
     "text": [
      "/Users/shimizukeita/opt/anaconda3/lib/python3.9/site-packages/lightgbm/basic.py:1286: UserWarning: Overriding the parameters from Reference Dataset.\n",
      "  warnings.warn('Overriding the parameters from Reference Dataset.')\n",
      "/Users/shimizukeita/opt/anaconda3/lib/python3.9/site-packages/lightgbm/basic.py:1098: UserWarning: categorical_column in param dict is overridden.\n",
      "  warnings.warn('{} in param dict is overridden.'.format(cat_alias))\n",
      "/Users/shimizukeita/opt/anaconda3/lib/python3.9/site-packages/lightgbm/basic.py:1286: UserWarning: Overriding the parameters from Reference Dataset.\n",
      "  warnings.warn('Overriding the parameters from Reference Dataset.')\n",
      "/Users/shimizukeita/opt/anaconda3/lib/python3.9/site-packages/lightgbm/basic.py:1098: UserWarning: categorical_column in param dict is overridden.\n",
      "  warnings.warn('{} in param dict is overridden.'.format(cat_alias))\n"
     ]
    },
    {
     "name": "stdout",
     "output_type": "stream",
     "text": [
      "[LightGBM] [Info] [binary:BoostFromScore]: pavg=0.229115 -> initscore=-1.213314\n",
      "[LightGBM] [Info] Start training from score -1.213314\n",
      "Training until validation scores don't improve for 10 rounds\n"
     ]
    },
    {
     "name": "stderr",
     "output_type": "stream",
     "text": [
      "\n",
      "\n",
      "regularization_factors, val_score: \u001b[A\u001b[A\n",
      "\n",
      "regularization_factors, val_score: \u001b[A\u001b[A\u001b[32m[I 2022-05-29 10:31:33,555]\u001b[0m Trial 51 finished with value: 0.4705414278549877 and parameters: {'lambda_l1': 0.0044913836023032245, 'lambda_l2': 9.10617265609728e-05}. Best is trial 45 with value: 0.47041966783525385.\u001b[0m\n",
      "\n",
      "\n",
      "regularization_factors, val_score: \u001b[A\u001b[A"
     ]
    },
    {
     "name": "stdout",
     "output_type": "stream",
     "text": [
      "[100]\tvalid_0's binary_logloss: 0.459311\tvalid_1's binary_logloss: 0.470613\n",
      "Early stopping, best iteration is:\n",
      "[93]\tvalid_0's binary_logloss: 0.460176\tvalid_1's binary_logloss: 0.470541\n",
      "[LightGBM] [Info] Number of positive: 35835, number of negative: 120571\n",
      "[LightGBM] [Warning] Auto-choosing row-wise multi-threading, the overhead of testing was 0.034472 seconds.\n",
      "You can set `force_row_wise=true` to remove the overhead.\n",
      "And if memory is not enough, you can set `force_col_wise=true`.\n",
      "[LightGBM] [Info] Total Bins 70924\n",
      "[LightGBM] [Info] Number of data points in the train set: 156406, number of used features: 185\n"
     ]
    },
    {
     "name": "stderr",
     "output_type": "stream",
     "text": [
      "/Users/shimizukeita/opt/anaconda3/lib/python3.9/site-packages/lightgbm/basic.py:1286: UserWarning: Overriding the parameters from Reference Dataset.\n",
      "  warnings.warn('Overriding the parameters from Reference Dataset.')\n",
      "/Users/shimizukeita/opt/anaconda3/lib/python3.9/site-packages/lightgbm/basic.py:1098: UserWarning: categorical_column in param dict is overridden.\n",
      "  warnings.warn('{} in param dict is overridden.'.format(cat_alias))\n",
      "/Users/shimizukeita/opt/anaconda3/lib/python3.9/site-packages/lightgbm/basic.py:1286: UserWarning: Overriding the parameters from Reference Dataset.\n",
      "  warnings.warn('Overriding the parameters from Reference Dataset.')\n",
      "/Users/shimizukeita/opt/anaconda3/lib/python3.9/site-packages/lightgbm/basic.py:1098: UserWarning: categorical_column in param dict is overridden.\n",
      "  warnings.warn('{} in param dict is overridden.'.format(cat_alias))\n"
     ]
    },
    {
     "name": "stdout",
     "output_type": "stream",
     "text": [
      "[LightGBM] [Info] [binary:BoostFromScore]: pavg=0.229115 -> initscore=-1.213314\n",
      "[LightGBM] [Info] Start training from score -1.213314\n",
      "Training until validation scores don't improve for 10 rounds\n",
      "[100]\tvalid_0's binary_logloss: 0.459082\tvalid_1's binary_logloss: 0.470414\n"
     ]
    },
    {
     "name": "stderr",
     "output_type": "stream",
     "text": [
      "\n",
      "\n",
      "regularization_factors, val_score: \u001b[A\u001b[A\n",
      "\n",
      "regularization_factors, val_score: \u001b[A\u001b[A\u001b[32m[I 2022-05-29 10:31:39,405]\u001b[0m Trial 52 finished with value: 0.4703713947850825 and parameters: {'lambda_l1': 1.4126960297055042e-08, 'lambda_l2': 0.07262385439629845}. Best is trial 52 with value: 0.4703713947850825.\u001b[0m\n",
      "\n",
      "\n",
      "regularization_factors, val_score: \u001b[A\u001b[A"
     ]
    },
    {
     "name": "stdout",
     "output_type": "stream",
     "text": [
      "Early stopping, best iteration is:\n",
      "[97]\tvalid_0's binary_logloss: 0.45946\tvalid_1's binary_logloss: 0.470371\n",
      "[LightGBM] [Info] Number of positive: 35835, number of negative: 120571\n",
      "[LightGBM] [Warning] Auto-choosing row-wise multi-threading, the overhead of testing was 0.036014 seconds.\n",
      "You can set `force_row_wise=true` to remove the overhead.\n",
      "And if memory is not enough, you can set `force_col_wise=true`.\n",
      "[LightGBM] [Info] Total Bins 70924\n",
      "[LightGBM] [Info] Number of data points in the train set: 156406, number of used features: 185\n"
     ]
    },
    {
     "name": "stderr",
     "output_type": "stream",
     "text": [
      "/Users/shimizukeita/opt/anaconda3/lib/python3.9/site-packages/lightgbm/basic.py:1286: UserWarning: Overriding the parameters from Reference Dataset.\n",
      "  warnings.warn('Overriding the parameters from Reference Dataset.')\n",
      "/Users/shimizukeita/opt/anaconda3/lib/python3.9/site-packages/lightgbm/basic.py:1098: UserWarning: categorical_column in param dict is overridden.\n",
      "  warnings.warn('{} in param dict is overridden.'.format(cat_alias))\n",
      "/Users/shimizukeita/opt/anaconda3/lib/python3.9/site-packages/lightgbm/basic.py:1286: UserWarning: Overriding the parameters from Reference Dataset.\n",
      "  warnings.warn('Overriding the parameters from Reference Dataset.')\n",
      "/Users/shimizukeita/opt/anaconda3/lib/python3.9/site-packages/lightgbm/basic.py:1098: UserWarning: categorical_column in param dict is overridden.\n",
      "  warnings.warn('{} in param dict is overridden.'.format(cat_alias))\n"
     ]
    },
    {
     "name": "stdout",
     "output_type": "stream",
     "text": [
      "[LightGBM] [Info] [binary:BoostFromScore]: pavg=0.229115 -> initscore=-1.213314\n",
      "[LightGBM] [Info] Start training from score -1.213314\n",
      "Training until validation scores don't improve for 10 rounds\n"
     ]
    },
    {
     "name": "stderr",
     "output_type": "stream",
     "text": [
      "\n",
      "\n",
      "regularization_factors, val_score: \u001b[A\u001b[A\n",
      "\n",
      "regularization_factors, val_score: \u001b[A\u001b[A\u001b[32m[I 2022-05-29 10:31:44,441]\u001b[0m Trial 53 finished with value: 0.47048809778586514 and parameters: {'lambda_l1': 5.394549303144396, 'lambda_l2': 0.03599697480232852}. Best is trial 52 with value: 0.4703713947850825.\u001b[0m\n",
      "\n",
      "\n",
      "regularization_factors, val_score: \u001b[A\u001b[A"
     ]
    },
    {
     "name": "stdout",
     "output_type": "stream",
     "text": [
      "Early stopping, best iteration is:\n",
      "[87]\tvalid_0's binary_logloss: 0.461302\tvalid_1's binary_logloss: 0.470488\n",
      "[LightGBM] [Info] Number of positive: 35835, number of negative: 120571\n",
      "[LightGBM] [Warning] Auto-choosing row-wise multi-threading, the overhead of testing was 0.044092 seconds.\n",
      "You can set `force_row_wise=true` to remove the overhead.\n",
      "And if memory is not enough, you can set `force_col_wise=true`.\n",
      "[LightGBM] [Info] Total Bins 70924\n",
      "[LightGBM] [Info] Number of data points in the train set: 156406, number of used features: 185\n"
     ]
    },
    {
     "name": "stderr",
     "output_type": "stream",
     "text": [
      "/Users/shimizukeita/opt/anaconda3/lib/python3.9/site-packages/lightgbm/basic.py:1286: UserWarning: Overriding the parameters from Reference Dataset.\n",
      "  warnings.warn('Overriding the parameters from Reference Dataset.')\n",
      "/Users/shimizukeita/opt/anaconda3/lib/python3.9/site-packages/lightgbm/basic.py:1098: UserWarning: categorical_column in param dict is overridden.\n",
      "  warnings.warn('{} in param dict is overridden.'.format(cat_alias))\n",
      "/Users/shimizukeita/opt/anaconda3/lib/python3.9/site-packages/lightgbm/basic.py:1286: UserWarning: Overriding the parameters from Reference Dataset.\n",
      "  warnings.warn('Overriding the parameters from Reference Dataset.')\n",
      "/Users/shimizukeita/opt/anaconda3/lib/python3.9/site-packages/lightgbm/basic.py:1098: UserWarning: categorical_column in param dict is overridden.\n",
      "  warnings.warn('{} in param dict is overridden.'.format(cat_alias))\n"
     ]
    },
    {
     "name": "stdout",
     "output_type": "stream",
     "text": [
      "[LightGBM] [Info] [binary:BoostFromScore]: pavg=0.229115 -> initscore=-1.213314\n",
      "[LightGBM] [Info] Start training from score -1.213314\n",
      "Training until validation scores don't improve for 10 rounds\n",
      "[100]\tvalid_0's binary_logloss: 0.459508\tvalid_1's binary_logloss: 0.470396\n",
      "Early stopping, best iteration is:\n",
      "[96]\tvalid_0's binary_logloss: 0.46006\tvalid_1's binary_logloss: 0.470384\n"
     ]
    },
    {
     "name": "stderr",
     "output_type": "stream",
     "text": [
      "\n",
      "\n",
      "regularization_factors, val_score: \u001b[A\u001b[A\n",
      "\n",
      "regularization_factors, val_score: \u001b[A\u001b[A\u001b[32m[I 2022-05-29 10:31:49,827]\u001b[0m Trial 54 finished with value: 0.4703839891135436 and parameters: {'lambda_l1': 5.415712077863803e-05, 'lambda_l2': 7.951819099266453}. Best is trial 52 with value: 0.4703713947850825.\u001b[0m\n",
      "\n",
      "\n",
      "regularization_factors, val_score: \u001b[A\u001b[A"
     ]
    },
    {
     "name": "stdout",
     "output_type": "stream",
     "text": [
      "[LightGBM] [Info] Number of positive: 35835, number of negative: 120571\n",
      "[LightGBM] [Warning] Auto-choosing row-wise multi-threading, the overhead of testing was 0.036603 seconds.\n",
      "You can set `force_row_wise=true` to remove the overhead.\n",
      "And if memory is not enough, you can set `force_col_wise=true`.\n",
      "[LightGBM] [Info] Total Bins 70924\n",
      "[LightGBM] [Info] Number of data points in the train set: 156406, number of used features: 185\n"
     ]
    },
    {
     "name": "stderr",
     "output_type": "stream",
     "text": [
      "/Users/shimizukeita/opt/anaconda3/lib/python3.9/site-packages/lightgbm/basic.py:1286: UserWarning: Overriding the parameters from Reference Dataset.\n",
      "  warnings.warn('Overriding the parameters from Reference Dataset.')\n",
      "/Users/shimizukeita/opt/anaconda3/lib/python3.9/site-packages/lightgbm/basic.py:1098: UserWarning: categorical_column in param dict is overridden.\n",
      "  warnings.warn('{} in param dict is overridden.'.format(cat_alias))\n",
      "/Users/shimizukeita/opt/anaconda3/lib/python3.9/site-packages/lightgbm/basic.py:1286: UserWarning: Overriding the parameters from Reference Dataset.\n",
      "  warnings.warn('Overriding the parameters from Reference Dataset.')\n",
      "/Users/shimizukeita/opt/anaconda3/lib/python3.9/site-packages/lightgbm/basic.py:1098: UserWarning: categorical_column in param dict is overridden.\n",
      "  warnings.warn('{} in param dict is overridden.'.format(cat_alias))\n"
     ]
    },
    {
     "name": "stdout",
     "output_type": "stream",
     "text": [
      "[LightGBM] [Info] [binary:BoostFromScore]: pavg=0.229115 -> initscore=-1.213314\n",
      "[LightGBM] [Info] Start training from score -1.213314\n",
      "Training until validation scores don't improve for 10 rounds\n",
      "[100]\tvalid_0's binary_logloss: 0.459292\tvalid_1's binary_logloss: 0.470423\n",
      "Early stopping, best iteration is:\n",
      "[97]\tvalid_0's binary_logloss: 0.459685\tvalid_1's binary_logloss: 0.470394\n"
     ]
    },
    {
     "name": "stderr",
     "output_type": "stream",
     "text": [
      "\n",
      "\n",
      "regularization_factors, val_score: \u001b[A\u001b[A\n",
      "\n",
      "regularization_factors, val_score: \u001b[A\u001b[A\u001b[32m[I 2022-05-29 10:31:55,407]\u001b[0m Trial 55 finished with value: 0.4703943491641998 and parameters: {'lambda_l1': 1.532604382779288e-05, 'lambda_l2': 4.194916120875396}. Best is trial 52 with value: 0.4703713947850825.\u001b[0m\n",
      "\n",
      "\n",
      "regularization_factors, val_score: \u001b[A\u001b[A"
     ]
    },
    {
     "name": "stdout",
     "output_type": "stream",
     "text": [
      "[LightGBM] [Info] Number of positive: 35835, number of negative: 120571\n",
      "[LightGBM] [Warning] Auto-choosing row-wise multi-threading, the overhead of testing was 0.035331 seconds.\n",
      "You can set `force_row_wise=true` to remove the overhead.\n",
      "And if memory is not enough, you can set `force_col_wise=true`.\n",
      "[LightGBM] [Info] Total Bins 70924\n",
      "[LightGBM] [Info] Number of data points in the train set: 156406, number of used features: 185\n"
     ]
    },
    {
     "name": "stderr",
     "output_type": "stream",
     "text": [
      "/Users/shimizukeita/opt/anaconda3/lib/python3.9/site-packages/lightgbm/basic.py:1286: UserWarning: Overriding the parameters from Reference Dataset.\n",
      "  warnings.warn('Overriding the parameters from Reference Dataset.')\n",
      "/Users/shimizukeita/opt/anaconda3/lib/python3.9/site-packages/lightgbm/basic.py:1098: UserWarning: categorical_column in param dict is overridden.\n",
      "  warnings.warn('{} in param dict is overridden.'.format(cat_alias))\n",
      "/Users/shimizukeita/opt/anaconda3/lib/python3.9/site-packages/lightgbm/basic.py:1286: UserWarning: Overriding the parameters from Reference Dataset.\n",
      "  warnings.warn('Overriding the parameters from Reference Dataset.')\n",
      "/Users/shimizukeita/opt/anaconda3/lib/python3.9/site-packages/lightgbm/basic.py:1098: UserWarning: categorical_column in param dict is overridden.\n",
      "  warnings.warn('{} in param dict is overridden.'.format(cat_alias))\n"
     ]
    },
    {
     "name": "stdout",
     "output_type": "stream",
     "text": [
      "[LightGBM] [Info] [binary:BoostFromScore]: pavg=0.229115 -> initscore=-1.213314\n",
      "[LightGBM] [Info] Start training from score -1.213314\n",
      "Training until validation scores don't improve for 10 rounds\n",
      "[100]\tvalid_0's binary_logloss: 0.45909\tvalid_1's binary_logloss: 0.470516\n",
      "Early stopping, best iteration is:\n",
      "[96]\tvalid_0's binary_logloss: 0.459588\tvalid_1's binary_logloss: 0.470462\n"
     ]
    },
    {
     "name": "stderr",
     "output_type": "stream",
     "text": [
      "\n",
      "\n",
      "regularization_factors, val_score: \u001b[A\u001b[A\n",
      "\n",
      "regularization_factors, val_score: \u001b[A\u001b[A\u001b[32m[I 2022-05-29 10:32:00,910]\u001b[0m Trial 56 finished with value: 0.47046219412972884 and parameters: {'lambda_l1': 1.0754826831934851e-08, 'lambda_l2': 0.026369613781979183}. Best is trial 52 with value: 0.4703713947850825.\u001b[0m\n",
      "\n",
      "\n",
      "regularization_factors, val_score: \u001b[A\u001b[A"
     ]
    },
    {
     "name": "stdout",
     "output_type": "stream",
     "text": [
      "[LightGBM] [Info] Number of positive: 35835, number of negative: 120571\n",
      "[LightGBM] [Warning] Auto-choosing row-wise multi-threading, the overhead of testing was 0.037227 seconds.\n",
      "You can set `force_row_wise=true` to remove the overhead.\n",
      "And if memory is not enough, you can set `force_col_wise=true`.\n",
      "[LightGBM] [Info] Total Bins 70924\n",
      "[LightGBM] [Info] Number of data points in the train set: 156406, number of used features: 185\n"
     ]
    },
    {
     "name": "stderr",
     "output_type": "stream",
     "text": [
      "/Users/shimizukeita/opt/anaconda3/lib/python3.9/site-packages/lightgbm/basic.py:1286: UserWarning: Overriding the parameters from Reference Dataset.\n",
      "  warnings.warn('Overriding the parameters from Reference Dataset.')\n",
      "/Users/shimizukeita/opt/anaconda3/lib/python3.9/site-packages/lightgbm/basic.py:1098: UserWarning: categorical_column in param dict is overridden.\n",
      "  warnings.warn('{} in param dict is overridden.'.format(cat_alias))\n",
      "/Users/shimizukeita/opt/anaconda3/lib/python3.9/site-packages/lightgbm/basic.py:1286: UserWarning: Overriding the parameters from Reference Dataset.\n",
      "  warnings.warn('Overriding the parameters from Reference Dataset.')\n",
      "/Users/shimizukeita/opt/anaconda3/lib/python3.9/site-packages/lightgbm/basic.py:1098: UserWarning: categorical_column in param dict is overridden.\n",
      "  warnings.warn('{} in param dict is overridden.'.format(cat_alias))\n"
     ]
    },
    {
     "name": "stdout",
     "output_type": "stream",
     "text": [
      "[LightGBM] [Info] [binary:BoostFromScore]: pavg=0.229115 -> initscore=-1.213314\n",
      "[LightGBM] [Info] Start training from score -1.213314\n",
      "Training until validation scores don't improve for 10 rounds\n",
      "[100]\tvalid_0's binary_logloss: 0.459412\tvalid_1's binary_logloss: 0.470414\n"
     ]
    },
    {
     "name": "stderr",
     "output_type": "stream",
     "text": [
      "\n",
      "\n",
      "regularization_factors, val_score: \u001b[A\u001b[A\n",
      "\n",
      "regularization_factors, val_score: \u001b[A\u001b[A\u001b[32m[I 2022-05-29 10:32:06,729]\u001b[0m Trial 57 finished with value: 0.47040937716957176 and parameters: {'lambda_l1': 7.992294591309489e-06, 'lambda_l2': 0.5136805432693211}. Best is trial 52 with value: 0.4703713947850825.\u001b[0m\n",
      "\n",
      "\n",
      "regularization_factors, val_score: \u001b[A\u001b[A"
     ]
    },
    {
     "name": "stdout",
     "output_type": "stream",
     "text": [
      "Early stopping, best iteration is:\n",
      "[101]\tvalid_0's binary_logloss: 0.459216\tvalid_1's binary_logloss: 0.470409\n",
      "[LightGBM] [Info] Number of positive: 35835, number of negative: 120571\n",
      "[LightGBM] [Warning] Auto-choosing row-wise multi-threading, the overhead of testing was 0.042895 seconds.\n",
      "You can set `force_row_wise=true` to remove the overhead.\n",
      "And if memory is not enough, you can set `force_col_wise=true`.\n",
      "[LightGBM] [Info] Total Bins 70924\n",
      "[LightGBM] [Info] Number of data points in the train set: 156406, number of used features: 185\n"
     ]
    },
    {
     "name": "stderr",
     "output_type": "stream",
     "text": [
      "/Users/shimizukeita/opt/anaconda3/lib/python3.9/site-packages/lightgbm/basic.py:1286: UserWarning: Overriding the parameters from Reference Dataset.\n",
      "  warnings.warn('Overriding the parameters from Reference Dataset.')\n",
      "/Users/shimizukeita/opt/anaconda3/lib/python3.9/site-packages/lightgbm/basic.py:1098: UserWarning: categorical_column in param dict is overridden.\n",
      "  warnings.warn('{} in param dict is overridden.'.format(cat_alias))\n",
      "/Users/shimizukeita/opt/anaconda3/lib/python3.9/site-packages/lightgbm/basic.py:1286: UserWarning: Overriding the parameters from Reference Dataset.\n",
      "  warnings.warn('Overriding the parameters from Reference Dataset.')\n",
      "/Users/shimizukeita/opt/anaconda3/lib/python3.9/site-packages/lightgbm/basic.py:1098: UserWarning: categorical_column in param dict is overridden.\n",
      "  warnings.warn('{} in param dict is overridden.'.format(cat_alias))\n"
     ]
    },
    {
     "name": "stdout",
     "output_type": "stream",
     "text": [
      "[LightGBM] [Info] [binary:BoostFromScore]: pavg=0.229115 -> initscore=-1.213314\n",
      "[LightGBM] [Info] Start training from score -1.213314\n",
      "Training until validation scores don't improve for 10 rounds\n"
     ]
    },
    {
     "name": "stderr",
     "output_type": "stream",
     "text": [
      "\n",
      "\n",
      "regularization_factors, val_score: \u001b[A\u001b[A\n",
      "\n",
      "regularization_factors, val_score: \u001b[A\u001b[A"
     ]
    },
    {
     "name": "stdout",
     "output_type": "stream",
     "text": [
      "[100]\tvalid_0's binary_logloss: 0.459136\tvalid_1's binary_logloss: 0.470451\n",
      "Early stopping, best iteration is:\n",
      "[95]\tvalid_0's binary_logloss: 0.459759\tvalid_1's binary_logloss: 0.47045\n"
     ]
    },
    {
     "name": "stderr",
     "output_type": "stream",
     "text": [
      "\u001b[32m[I 2022-05-29 10:32:12,272]\u001b[0m Trial 58 finished with value: 0.4704500823722084 and parameters: {'lambda_l1': 0.046523373753544935, 'lambda_l2': 0.003104651588740811}. Best is trial 52 with value: 0.4703713947850825.\u001b[0m\n",
      "\n",
      "\n",
      "regularization_factors, val_score: \u001b[A\u001b[A"
     ]
    },
    {
     "name": "stdout",
     "output_type": "stream",
     "text": [
      "[LightGBM] [Info] Number of positive: 35835, number of negative: 120571\n",
      "[LightGBM] [Warning] Auto-choosing row-wise multi-threading, the overhead of testing was 0.039368 seconds.\n",
      "You can set `force_row_wise=true` to remove the overhead.\n",
      "And if memory is not enough, you can set `force_col_wise=true`.\n",
      "[LightGBM] [Info] Total Bins 70924\n",
      "[LightGBM] [Info] Number of data points in the train set: 156406, number of used features: 185\n"
     ]
    },
    {
     "name": "stderr",
     "output_type": "stream",
     "text": [
      "/Users/shimizukeita/opt/anaconda3/lib/python3.9/site-packages/lightgbm/basic.py:1286: UserWarning: Overriding the parameters from Reference Dataset.\n",
      "  warnings.warn('Overriding the parameters from Reference Dataset.')\n",
      "/Users/shimizukeita/opt/anaconda3/lib/python3.9/site-packages/lightgbm/basic.py:1098: UserWarning: categorical_column in param dict is overridden.\n",
      "  warnings.warn('{} in param dict is overridden.'.format(cat_alias))\n",
      "/Users/shimizukeita/opt/anaconda3/lib/python3.9/site-packages/lightgbm/basic.py:1286: UserWarning: Overriding the parameters from Reference Dataset.\n",
      "  warnings.warn('Overriding the parameters from Reference Dataset.')\n",
      "/Users/shimizukeita/opt/anaconda3/lib/python3.9/site-packages/lightgbm/basic.py:1098: UserWarning: categorical_column in param dict is overridden.\n",
      "  warnings.warn('{} in param dict is overridden.'.format(cat_alias))\n"
     ]
    },
    {
     "name": "stdout",
     "output_type": "stream",
     "text": [
      "[LightGBM] [Info] [binary:BoostFromScore]: pavg=0.229115 -> initscore=-1.213314\n",
      "[LightGBM] [Info] Start training from score -1.213314\n",
      "Training until validation scores don't improve for 10 rounds\n"
     ]
    },
    {
     "name": "stderr",
     "output_type": "stream",
     "text": [
      "\n",
      "\n",
      "regularization_factors, val_score: \u001b[A\u001b[A\n",
      "\n",
      "regularization_factors, val_score: \u001b[A\u001b[A\u001b[32m[I 2022-05-29 10:32:17,570]\u001b[0m Trial 59 finished with value: 0.4706242659995654 and parameters: {'lambda_l1': 1.0048411271358993e-08, 'lambda_l2': 0.34448031611366214}. Best is trial 52 with value: 0.4703713947850825.\u001b[0m\n",
      "\n",
      "\n",
      "regularization_factors, val_score: \u001b[A\u001b[A"
     ]
    },
    {
     "name": "stdout",
     "output_type": "stream",
     "text": [
      "Early stopping, best iteration is:\n",
      "[82]\tvalid_0's binary_logloss: 0.461511\tvalid_1's binary_logloss: 0.470624\n",
      "[LightGBM] [Info] Number of positive: 35835, number of negative: 120571\n",
      "[LightGBM] [Warning] Auto-choosing row-wise multi-threading, the overhead of testing was 0.035488 seconds.\n",
      "You can set `force_row_wise=true` to remove the overhead.\n",
      "And if memory is not enough, you can set `force_col_wise=true`.\n",
      "[LightGBM] [Info] Total Bins 70924\n",
      "[LightGBM] [Info] Number of data points in the train set: 156406, number of used features: 185\n"
     ]
    },
    {
     "name": "stderr",
     "output_type": "stream",
     "text": [
      "/Users/shimizukeita/opt/anaconda3/lib/python3.9/site-packages/lightgbm/basic.py:1286: UserWarning: Overriding the parameters from Reference Dataset.\n",
      "  warnings.warn('Overriding the parameters from Reference Dataset.')\n",
      "/Users/shimizukeita/opt/anaconda3/lib/python3.9/site-packages/lightgbm/basic.py:1098: UserWarning: categorical_column in param dict is overridden.\n",
      "  warnings.warn('{} in param dict is overridden.'.format(cat_alias))\n",
      "/Users/shimizukeita/opt/anaconda3/lib/python3.9/site-packages/lightgbm/basic.py:1286: UserWarning: Overriding the parameters from Reference Dataset.\n",
      "  warnings.warn('Overriding the parameters from Reference Dataset.')\n",
      "/Users/shimizukeita/opt/anaconda3/lib/python3.9/site-packages/lightgbm/basic.py:1098: UserWarning: categorical_column in param dict is overridden.\n",
      "  warnings.warn('{} in param dict is overridden.'.format(cat_alias))\n"
     ]
    },
    {
     "name": "stdout",
     "output_type": "stream",
     "text": [
      "[LightGBM] [Info] [binary:BoostFromScore]: pavg=0.229115 -> initscore=-1.213314\n",
      "[LightGBM] [Info] Start training from score -1.213314\n",
      "Training until validation scores don't improve for 10 rounds\n"
     ]
    },
    {
     "name": "stderr",
     "output_type": "stream",
     "text": [
      "\n",
      "\n",
      "regularization_factors, val_score: \u001b[A\u001b[A\n",
      "\n",
      "regularization_factors, val_score: \u001b[A\u001b[A\u001b[32m[I 2022-05-29 10:32:23,134]\u001b[0m Trial 60 finished with value: 0.47054143814337884 and parameters: {'lambda_l1': 3.4432782864980773e-06, 'lambda_l2': 0.0024163538085277283}. Best is trial 52 with value: 0.4703713947850825.\u001b[0m\n",
      "\n",
      "\n",
      "regularization_factors, val_score: \u001b[A\u001b[A"
     ]
    },
    {
     "name": "stdout",
     "output_type": "stream",
     "text": [
      "[100]\tvalid_0's binary_logloss: 0.459311\tvalid_1's binary_logloss: 0.470613\n",
      "Early stopping, best iteration is:\n",
      "[93]\tvalid_0's binary_logloss: 0.460176\tvalid_1's binary_logloss: 0.470541\n",
      "[LightGBM] [Info] Number of positive: 35835, number of negative: 120571\n",
      "[LightGBM] [Warning] Auto-choosing col-wise multi-threading, the overhead of testing was 0.090416 seconds.\n",
      "You can set `force_col_wise=true` to remove the overhead.\n",
      "[LightGBM] [Info] Total Bins 70924\n",
      "[LightGBM] [Info] Number of data points in the train set: 156406, number of used features: 185\n"
     ]
    },
    {
     "name": "stderr",
     "output_type": "stream",
     "text": [
      "/Users/shimizukeita/opt/anaconda3/lib/python3.9/site-packages/lightgbm/basic.py:1286: UserWarning: Overriding the parameters from Reference Dataset.\n",
      "  warnings.warn('Overriding the parameters from Reference Dataset.')\n",
      "/Users/shimizukeita/opt/anaconda3/lib/python3.9/site-packages/lightgbm/basic.py:1098: UserWarning: categorical_column in param dict is overridden.\n",
      "  warnings.warn('{} in param dict is overridden.'.format(cat_alias))\n",
      "/Users/shimizukeita/opt/anaconda3/lib/python3.9/site-packages/lightgbm/basic.py:1286: UserWarning: Overriding the parameters from Reference Dataset.\n",
      "  warnings.warn('Overriding the parameters from Reference Dataset.')\n",
      "/Users/shimizukeita/opt/anaconda3/lib/python3.9/site-packages/lightgbm/basic.py:1098: UserWarning: categorical_column in param dict is overridden.\n",
      "  warnings.warn('{} in param dict is overridden.'.format(cat_alias))\n"
     ]
    },
    {
     "name": "stdout",
     "output_type": "stream",
     "text": [
      "[LightGBM] [Info] [binary:BoostFromScore]: pavg=0.229115 -> initscore=-1.213314\n",
      "[LightGBM] [Info] Start training from score -1.213314\n",
      "Training until validation scores don't improve for 10 rounds\n"
     ]
    },
    {
     "name": "stderr",
     "output_type": "stream",
     "text": [
      "\n",
      "\n",
      "regularization_factors, val_score: \u001b[A\u001b[A\n",
      "\n",
      "regularization_factors, val_score: \u001b[A\u001b[A\u001b[32m[I 2022-05-29 10:32:28,323]\u001b[0m Trial 61 finished with value: 0.470553929006411 and parameters: {'lambda_l1': 0.018978377433276468, 'lambda_l2': 9.285510082372108}. Best is trial 52 with value: 0.4703713947850825.\u001b[0m\n",
      "\n",
      "\n",
      "regularization_factors, val_score: \u001b[A\u001b[A"
     ]
    },
    {
     "name": "stdout",
     "output_type": "stream",
     "text": [
      "Early stopping, best iteration is:\n",
      "[81]\tvalid_0's binary_logloss: 0.462031\tvalid_1's binary_logloss: 0.470554\n",
      "[LightGBM] [Info] Number of positive: 35835, number of negative: 120571\n",
      "[LightGBM] [Warning] Auto-choosing row-wise multi-threading, the overhead of testing was 0.039543 seconds.\n",
      "You can set `force_row_wise=true` to remove the overhead.\n",
      "And if memory is not enough, you can set `force_col_wise=true`.\n",
      "[LightGBM] [Info] Total Bins 70924\n",
      "[LightGBM] [Info] Number of data points in the train set: 156406, number of used features: 185\n"
     ]
    },
    {
     "name": "stderr",
     "output_type": "stream",
     "text": [
      "/Users/shimizukeita/opt/anaconda3/lib/python3.9/site-packages/lightgbm/basic.py:1286: UserWarning: Overriding the parameters from Reference Dataset.\n",
      "  warnings.warn('Overriding the parameters from Reference Dataset.')\n",
      "/Users/shimizukeita/opt/anaconda3/lib/python3.9/site-packages/lightgbm/basic.py:1098: UserWarning: categorical_column in param dict is overridden.\n",
      "  warnings.warn('{} in param dict is overridden.'.format(cat_alias))\n",
      "/Users/shimizukeita/opt/anaconda3/lib/python3.9/site-packages/lightgbm/basic.py:1286: UserWarning: Overriding the parameters from Reference Dataset.\n",
      "  warnings.warn('Overriding the parameters from Reference Dataset.')\n",
      "/Users/shimizukeita/opt/anaconda3/lib/python3.9/site-packages/lightgbm/basic.py:1098: UserWarning: categorical_column in param dict is overridden.\n",
      "  warnings.warn('{} in param dict is overridden.'.format(cat_alias))\n"
     ]
    },
    {
     "name": "stdout",
     "output_type": "stream",
     "text": [
      "[LightGBM] [Info] [binary:BoostFromScore]: pavg=0.229115 -> initscore=-1.213314\n",
      "[LightGBM] [Info] Start training from score -1.213314\n",
      "Training until validation scores don't improve for 10 rounds\n",
      "[100]\tvalid_0's binary_logloss: 0.459439\tvalid_1's binary_logloss: 0.470457\n"
     ]
    },
    {
     "name": "stderr",
     "output_type": "stream",
     "text": [
      "\n",
      "\n",
      "regularization_factors, val_score: \u001b[A\u001b[A\n",
      "\n",
      "regularization_factors, val_score: \u001b[A\u001b[A\u001b[32m[I 2022-05-29 10:32:34,471]\u001b[0m Trial 62 finished with value: 0.4704568327458367 and parameters: {'lambda_l1': 5.626551573945836e-05, 'lambda_l2': 0.5344673725172115}. Best is trial 52 with value: 0.4703713947850825.\u001b[0m\n",
      "regularization_factors, val_score: \n"
     ]
    },
    {
     "name": "stdout",
     "output_type": "stream",
     "text": [
      "Early stopping, best iteration is:\n",
      "[100]\tvalid_0's binary_logloss: 0.459439\tvalid_1's binary_logloss: 0.470457\n"
     ]
    },
    {
     "name": "stderr",
     "output_type": "stream",
     "text": [
      "\n",
      "\n",
      "  0%|        | 0/5 [00:00<?, ?it/s]\u001b[A\u001b[A\n",
      "\n",
      "min_data_in_leaf, val_score: 0.4703\u001b[A\u001b[A"
     ]
    },
    {
     "name": "stdout",
     "output_type": "stream",
     "text": [
      "[LightGBM] [Info] Number of positive: 35835, number of negative: 120571\n",
      "[LightGBM] [Warning] Auto-choosing row-wise multi-threading, the overhead of testing was 0.037291 seconds.\n",
      "You can set `force_row_wise=true` to remove the overhead.\n",
      "And if memory is not enough, you can set `force_col_wise=true`.\n",
      "[LightGBM] [Info] Total Bins 70924\n",
      "[LightGBM] [Info] Number of data points in the train set: 156406, number of used features: 185\n"
     ]
    },
    {
     "name": "stderr",
     "output_type": "stream",
     "text": [
      "/Users/shimizukeita/opt/anaconda3/lib/python3.9/site-packages/lightgbm/basic.py:1286: UserWarning: Overriding the parameters from Reference Dataset.\n",
      "  warnings.warn('Overriding the parameters from Reference Dataset.')\n",
      "/Users/shimizukeita/opt/anaconda3/lib/python3.9/site-packages/lightgbm/basic.py:1098: UserWarning: categorical_column in param dict is overridden.\n",
      "  warnings.warn('{} in param dict is overridden.'.format(cat_alias))\n",
      "/Users/shimizukeita/opt/anaconda3/lib/python3.9/site-packages/lightgbm/basic.py:1286: UserWarning: Overriding the parameters from Reference Dataset.\n",
      "  warnings.warn('Overriding the parameters from Reference Dataset.')\n",
      "/Users/shimizukeita/opt/anaconda3/lib/python3.9/site-packages/lightgbm/basic.py:1098: UserWarning: categorical_column in param dict is overridden.\n",
      "  warnings.warn('{} in param dict is overridden.'.format(cat_alias))\n"
     ]
    },
    {
     "name": "stdout",
     "output_type": "stream",
     "text": [
      "[LightGBM] [Info] [binary:BoostFromScore]: pavg=0.229115 -> initscore=-1.213314\n",
      "[LightGBM] [Info] Start training from score -1.213314\n",
      "Training until validation scores don't improve for 10 rounds\n",
      "[100]\tvalid_0's binary_logloss: 0.459082\tvalid_1's binary_logloss: 0.470414\n",
      "Early stopping, best iteration is:\n",
      "[97]\tvalid_0's binary_logloss: 0.45946\tvalid_1's binary_logloss: 0.470371\n"
     ]
    },
    {
     "name": "stderr",
     "output_type": "stream",
     "text": [
      "\n",
      "\n",
      "min_data_in_leaf, val_score: 0.4703\u001b[A\u001b[A\n",
      "\n",
      "min_data_in_leaf, val_score: 0.4703\u001b[A\u001b[A\u001b[32m[I 2022-05-29 10:32:40,650]\u001b[0m Trial 63 finished with value: 0.4703713947850825 and parameters: {'min_child_samples': 10}. Best is trial 63 with value: 0.4703713947850825.\u001b[0m\n",
      "\n",
      "\n",
      "min_data_in_leaf, val_score: 0.4703\u001b[A\u001b[A"
     ]
    },
    {
     "name": "stdout",
     "output_type": "stream",
     "text": [
      "[LightGBM] [Info] Number of positive: 35835, number of negative: 120571\n",
      "[LightGBM] [Warning] Auto-choosing row-wise multi-threading, the overhead of testing was 0.042461 seconds.\n",
      "You can set `force_row_wise=true` to remove the overhead.\n",
      "And if memory is not enough, you can set `force_col_wise=true`.\n",
      "[LightGBM] [Info] Total Bins 70924\n",
      "[LightGBM] [Info] Number of data points in the train set: 156406, number of used features: 185\n"
     ]
    },
    {
     "name": "stderr",
     "output_type": "stream",
     "text": [
      "/Users/shimizukeita/opt/anaconda3/lib/python3.9/site-packages/lightgbm/basic.py:1286: UserWarning: Overriding the parameters from Reference Dataset.\n",
      "  warnings.warn('Overriding the parameters from Reference Dataset.')\n",
      "/Users/shimizukeita/opt/anaconda3/lib/python3.9/site-packages/lightgbm/basic.py:1098: UserWarning: categorical_column in param dict is overridden.\n",
      "  warnings.warn('{} in param dict is overridden.'.format(cat_alias))\n",
      "/Users/shimizukeita/opt/anaconda3/lib/python3.9/site-packages/lightgbm/basic.py:1286: UserWarning: Overriding the parameters from Reference Dataset.\n",
      "  warnings.warn('Overriding the parameters from Reference Dataset.')\n",
      "/Users/shimizukeita/opt/anaconda3/lib/python3.9/site-packages/lightgbm/basic.py:1098: UserWarning: categorical_column in param dict is overridden.\n",
      "  warnings.warn('{} in param dict is overridden.'.format(cat_alias))\n"
     ]
    },
    {
     "name": "stdout",
     "output_type": "stream",
     "text": [
      "[LightGBM] [Info] [binary:BoostFromScore]: pavg=0.229115 -> initscore=-1.213314\n",
      "[LightGBM] [Info] Start training from score -1.213314\n",
      "Training until validation scores don't improve for 10 rounds\n",
      "[100]\tvalid_0's binary_logloss: 0.459082\tvalid_1's binary_logloss: 0.470414\n"
     ]
    },
    {
     "name": "stderr",
     "output_type": "stream",
     "text": [
      "\n",
      "\n",
      "min_data_in_leaf, val_score: 0.4703\u001b[A\u001b[A\n",
      "\n",
      "min_data_in_leaf, val_score: 0.4703\u001b[A\u001b[A\u001b[32m[I 2022-05-29 10:32:46,117]\u001b[0m Trial 64 finished with value: 0.4703713947850825 and parameters: {'min_child_samples': 100}. Best is trial 63 with value: 0.4703713947850825.\u001b[0m\n",
      "\n",
      "\n",
      "min_data_in_leaf, val_score: 0.4703\u001b[A\u001b[A"
     ]
    },
    {
     "name": "stdout",
     "output_type": "stream",
     "text": [
      "Early stopping, best iteration is:\n",
      "[97]\tvalid_0's binary_logloss: 0.45946\tvalid_1's binary_logloss: 0.470371\n",
      "[LightGBM] [Info] Number of positive: 35835, number of negative: 120571\n",
      "[LightGBM] [Warning] Auto-choosing row-wise multi-threading, the overhead of testing was 0.028926 seconds.\n",
      "You can set `force_row_wise=true` to remove the overhead.\n",
      "And if memory is not enough, you can set `force_col_wise=true`.\n",
      "[LightGBM] [Info] Total Bins 70924\n",
      "[LightGBM] [Info] Number of data points in the train set: 156406, number of used features: 185\n"
     ]
    },
    {
     "name": "stderr",
     "output_type": "stream",
     "text": [
      "/Users/shimizukeita/opt/anaconda3/lib/python3.9/site-packages/lightgbm/basic.py:1286: UserWarning: Overriding the parameters from Reference Dataset.\n",
      "  warnings.warn('Overriding the parameters from Reference Dataset.')\n",
      "/Users/shimizukeita/opt/anaconda3/lib/python3.9/site-packages/lightgbm/basic.py:1098: UserWarning: categorical_column in param dict is overridden.\n",
      "  warnings.warn('{} in param dict is overridden.'.format(cat_alias))\n",
      "/Users/shimizukeita/opt/anaconda3/lib/python3.9/site-packages/lightgbm/basic.py:1286: UserWarning: Overriding the parameters from Reference Dataset.\n",
      "  warnings.warn('Overriding the parameters from Reference Dataset.')\n",
      "/Users/shimizukeita/opt/anaconda3/lib/python3.9/site-packages/lightgbm/basic.py:1098: UserWarning: categorical_column in param dict is overridden.\n",
      "  warnings.warn('{} in param dict is overridden.'.format(cat_alias))\n"
     ]
    },
    {
     "name": "stdout",
     "output_type": "stream",
     "text": [
      "[LightGBM] [Info] [binary:BoostFromScore]: pavg=0.229115 -> initscore=-1.213314\n",
      "[LightGBM] [Info] Start training from score -1.213314\n",
      "Training until validation scores don't improve for 10 rounds\n",
      "[100]\tvalid_0's binary_logloss: 0.459082\tvalid_1's binary_logloss: 0.470414\n",
      "Early stopping, best iteration is:\n",
      "[97]\tvalid_0's binary_logloss: 0.45946\tvalid_1's binary_logloss: 0.470371\n"
     ]
    },
    {
     "name": "stderr",
     "output_type": "stream",
     "text": [
      "\n",
      "\n",
      "min_data_in_leaf, val_score: 0.4703\u001b[A\u001b[A\n",
      "\n",
      "min_data_in_leaf, val_score: 0.4703\u001b[A\u001b[A\u001b[32m[I 2022-05-29 10:32:51,419]\u001b[0m Trial 65 finished with value: 0.4703713947850825 and parameters: {'min_child_samples': 5}. Best is trial 63 with value: 0.4703713947850825.\u001b[0m\n",
      "\n",
      "\n",
      "min_data_in_leaf, val_score: 0.4703\u001b[A\u001b[A"
     ]
    },
    {
     "name": "stdout",
     "output_type": "stream",
     "text": [
      "[LightGBM] [Info] Number of positive: 35835, number of negative: 120571\n",
      "[LightGBM] [Warning] Auto-choosing col-wise multi-threading, the overhead of testing was 0.098647 seconds.\n",
      "You can set `force_col_wise=true` to remove the overhead.\n",
      "[LightGBM] [Info] Total Bins 70924\n",
      "[LightGBM] [Info] Number of data points in the train set: 156406, number of used features: 185\n"
     ]
    },
    {
     "name": "stderr",
     "output_type": "stream",
     "text": [
      "/Users/shimizukeita/opt/anaconda3/lib/python3.9/site-packages/lightgbm/basic.py:1286: UserWarning: Overriding the parameters from Reference Dataset.\n",
      "  warnings.warn('Overriding the parameters from Reference Dataset.')\n",
      "feature_fraction, val_score: inf:  \n",
      "/Users/shimizukeita/opt/anaconda3/lib/python3.9/site-packages/lightgbm/basic.py:1098: UserWarning: categorical_column in param dict is overridden.\n",
      "  warnings.warn('{} in param dict is overridden.'.format(cat_alias))\n",
      "/Users/shimizukeita/opt/anaconda3/lib/python3.9/site-packages/lightgbm/basic.py:1286: UserWarning: Overriding the parameters from Reference Dataset.\n",
      "  warnings.warn('Overriding the parameters from Reference Dataset.')\n",
      "/Users/shimizukeita/opt/anaconda3/lib/python3.9/site-packages/lightgbm/basic.py:1098: UserWarning: categorical_column in param dict is overridden.\n",
      "  warnings.warn('{} in param dict is overridden.'.format(cat_alias))\n"
     ]
    },
    {
     "name": "stdout",
     "output_type": "stream",
     "text": [
      "[LightGBM] [Info] [binary:BoostFromScore]: pavg=0.229115 -> initscore=-1.213314\n",
      "[LightGBM] [Info] Start training from score -1.213314\n",
      "Training until validation scores don't improve for 10 rounds\n",
      "[100]\tvalid_0's binary_logloss: 0.459082\tvalid_1's binary_logloss: 0.470414\n",
      "Early stopping, best iteration is:\n",
      "[97]\tvalid_0's binary_logloss: 0.45946\tvalid_1's binary_logloss: 0.470371\n"
     ]
    },
    {
     "name": "stderr",
     "output_type": "stream",
     "text": [
      "\n",
      "\n",
      "min_data_in_leaf, val_score: 0.4703\u001b[A\u001b[A\n",
      "\n",
      "min_data_in_leaf, val_score: 0.4703\u001b[A\u001b[A\u001b[32m[I 2022-05-29 10:32:57,138]\u001b[0m Trial 66 finished with value: 0.4703713947850825 and parameters: {'min_child_samples': 50}. Best is trial 63 with value: 0.4703713947850825.\u001b[0m\n",
      "\n",
      "\n",
      "min_data_in_leaf, val_score: 0.4703\u001b[A\u001b[A"
     ]
    },
    {
     "name": "stdout",
     "output_type": "stream",
     "text": [
      "[LightGBM] [Info] Number of positive: 35835, number of negative: 120571\n",
      "[LightGBM] [Warning] Auto-choosing row-wise multi-threading, the overhead of testing was 0.034167 seconds.\n",
      "You can set `force_row_wise=true` to remove the overhead.\n",
      "And if memory is not enough, you can set `force_col_wise=true`.\n",
      "[LightGBM] [Info] Total Bins 70924\n",
      "[LightGBM] [Info] Number of data points in the train set: 156406, number of used features: 185\n"
     ]
    },
    {
     "name": "stderr",
     "output_type": "stream",
     "text": [
      "/Users/shimizukeita/opt/anaconda3/lib/python3.9/site-packages/lightgbm/basic.py:1286: UserWarning: Overriding the parameters from Reference Dataset.\n",
      "  warnings.warn('Overriding the parameters from Reference Dataset.')\n",
      "/Users/shimizukeita/opt/anaconda3/lib/python3.9/site-packages/lightgbm/basic.py:1098: UserWarning: categorical_column in param dict is overridden.\n",
      "  warnings.warn('{} in param dict is overridden.'.format(cat_alias))\n",
      "/Users/shimizukeita/opt/anaconda3/lib/python3.9/site-packages/lightgbm/basic.py:1286: UserWarning: Overriding the parameters from Reference Dataset.\n",
      "  warnings.warn('Overriding the parameters from Reference Dataset.')\n",
      "/Users/shimizukeita/opt/anaconda3/lib/python3.9/site-packages/lightgbm/basic.py:1098: UserWarning: categorical_column in param dict is overridden.\n",
      "  warnings.warn('{} in param dict is overridden.'.format(cat_alias))\n"
     ]
    },
    {
     "name": "stdout",
     "output_type": "stream",
     "text": [
      "[LightGBM] [Info] [binary:BoostFromScore]: pavg=0.229115 -> initscore=-1.213314\n",
      "[LightGBM] [Info] Start training from score -1.213314\n",
      "Training until validation scores don't improve for 10 rounds\n",
      "[100]\tvalid_0's binary_logloss: 0.459082\tvalid_1's binary_logloss: 0.470414\n",
      "Early stopping, best iteration is:\n",
      "[97]\tvalid_0's binary_logloss: 0.45946\tvalid_1's binary_logloss: 0.470371\n"
     ]
    },
    {
     "name": "stderr",
     "output_type": "stream",
     "text": [
      "\n",
      "\n",
      "min_data_in_leaf, val_score: 0.4703\u001b[A\u001b[A\n",
      "\n",
      "min_data_in_leaf, val_score: 0.4703\u001b[A\u001b[A\u001b[32m[I 2022-05-29 10:33:02,336]\u001b[0m Trial 67 finished with value: 0.4703713947850825 and parameters: {'min_child_samples': 25}. Best is trial 63 with value: 0.4703713947850825.\u001b[0m\n",
      "min_data_in_leaf, val_score: 0.4703\n"
     ]
    }
   ],
   "source": [
    "lgb_train = lgb_o.Dataset(X_train, y_train)\n",
    "lgb_valid = lgb_o.Dataset(X_valid, y_valid)\n",
    "\n",
    "params = {\n",
    "    'objective': 'binary',\n",
    "    'random_state': 100\n",
    "}\n",
    "\n",
    "lgb_clf_o = lgb_o.train(params, lgb_train, valid_sets=(lgb_train, lgb_valid),  verbose_eval=100, early_stopping_rounds=10)"
   ]
  },
  {
   "cell_type": "code",
   "execution_count": 24,
   "id": "40b6e0be",
   "metadata": {},
   "outputs": [
    {
     "data": {
      "text/plain": [
       "{'objective': 'binary',\n",
       " 'random_state': 100,\n",
       " 'feature_pre_filter': False,\n",
       " 'lambda_l1': 1.4126960297055042e-08,\n",
       " 'lambda_l2': 0.07262385439629845,\n",
       " 'num_leaves': 4,\n",
       " 'feature_fraction': 0.948,\n",
       " 'bagging_fraction': 1.0,\n",
       " 'bagging_freq': 0,\n",
       " 'min_child_samples': 20,\n",
       " 'num_iterations': 1000,\n",
       " 'early_stopping_round': 10,\n",
       " 'categorical_column': [67,\n",
       "  68,\n",
       "  69,\n",
       "  70,\n",
       "  71,\n",
       "  72,\n",
       "  73,\n",
       "  74,\n",
       "  75,\n",
       "  76,\n",
       "  77,\n",
       "  78,\n",
       "  79,\n",
       "  80,\n",
       "  81,\n",
       "  82,\n",
       "  83,\n",
       "  84,\n",
       "  85,\n",
       "  86,\n",
       "  87,\n",
       "  88,\n",
       "  89,\n",
       "  90,\n",
       "  91,\n",
       "  92,\n",
       "  93,\n",
       "  94,\n",
       "  95,\n",
       "  96,\n",
       "  97,\n",
       "  98,\n",
       "  99,\n",
       "  100,\n",
       "  101,\n",
       "  102,\n",
       "  103,\n",
       "  104,\n",
       "  105,\n",
       "  106,\n",
       "  107,\n",
       "  108,\n",
       "  109,\n",
       "  110,\n",
       "  111,\n",
       "  112,\n",
       "  113,\n",
       "  114,\n",
       "  115,\n",
       "  116,\n",
       "  117,\n",
       "  118,\n",
       "  119,\n",
       "  120,\n",
       "  121,\n",
       "  122,\n",
       "  123,\n",
       "  124,\n",
       "  125,\n",
       "  126,\n",
       "  127,\n",
       "  128,\n",
       "  129]}"
      ]
     },
     "execution_count": 24,
     "metadata": {},
     "output_type": "execute_result"
    }
   ],
   "source": [
    "lgb_clf_o.params"
   ]
  },
  {
   "cell_type": "code",
   "execution_count": 267,
   "id": "1af8d07e",
   "metadata": {},
   "outputs": [
    {
     "name": "stdout",
     "output_type": "stream",
     "text": [
      "[LightGBM] [Warning] bagging_freq is set=0, subsample_freq=0 will be ignored. Current value: bagging_freq=0\n",
      "[LightGBM] [Warning] feature_fraction is set=0.948, colsample_bytree=1.0 will be ignored. Current value: feature_fraction=0.948\n",
      "[LightGBM] [Warning] bagging_fraction is set=1.0, subsample=1.0 will be ignored. Current value: bagging_fraction=1.0\n",
      "[LightGBM] [Warning] lambda_l2 is set=0.07262385439629845, reg_lambda=0.0 will be ignored. Current value: lambda_l2=0.07262385439629845\n",
      "[LightGBM] [Warning] lambda_l1 is set=1.4126960297055042e-08, reg_alpha=0.0 will be ignored. Current value: lambda_l1=1.4126960297055042e-08\n"
     ]
    },
    {
     "data": {
      "text/plain": [
       "LGBMClassifier(bagging_fraction=1.0, bagging_freq=0, feature_fraction=0.948,\n",
       "               feature_pre_filter=False, lambda_l1=1.4126960297055042e-08,\n",
       "               lambda_l2=0.07262385439629845, num_leaves=4, objective='binary',\n",
       "               random_state=100)"
      ]
     },
     "execution_count": 267,
     "metadata": {},
     "output_type": "execute_result"
    }
   ],
   "source": [
    "import lightgbm as lgb\n",
    "\n",
    "params = {\n",
    "'objective': 'binary',\n",
    " 'random_state': 100,\n",
    " 'feature_pre_filter': False,\n",
    " 'lambda_l1': 1.4126960297055042e-08,\n",
    " 'lambda_l2': 0.07262385439629845,\n",
    " 'num_leaves': 4,\n",
    " 'feature_fraction': 0.948,\n",
    " 'bagging_fraction': 1.0,\n",
    " 'bagging_freq': 0,\n",
    " 'min_child_samples': 20,\n",
    "}\n",
    "\n",
    "lgb_clf = lgb.LGBMClassifier(**params)\n",
    "lgb_clf.fit(X_train.values, y_train.values)"
   ]
  },
  {
   "cell_type": "code",
   "execution_count": 280,
   "id": "94d26df4",
   "metadata": {},
   "outputs": [],
   "source": [
    "haitou = pd.read_pickle('haito.pickle')\n",
    "me = ModelEvaluator(lgb_clf, haitou, False)"
   ]
  },
  {
   "cell_type": "code",
   "execution_count": 281,
   "id": "79808c77",
   "metadata": {},
   "outputs": [
    {
     "data": {
      "text/plain": [
       "0.7393843976879386"
      ]
     },
     "execution_count": 281,
     "metadata": {},
     "output_type": "execute_result"
    }
   ],
   "source": [
    "me.score(y_test, X_test)"
   ]
  },
  {
   "cell_type": "code",
   "execution_count": 240,
   "id": "3458fbef",
   "metadata": {},
   "outputs": [
    {
     "name": "stderr",
     "output_type": "stream",
     "text": [
      "100%|█| 100/100 [04:04<00:00,  2.45\n"
     ]
    }
   ],
   "source": [
    "gp = gain(me.tansho_return_proper, X_test)"
   ]
  },
  {
   "cell_type": "code",
   "execution_count": 241,
   "id": "2eb060f9",
   "metadata": {},
   "outputs": [
    {
     "name": "stderr",
     "output_type": "stream",
     "text": [
      "100%|█| 100/100 [04:07<00:00,  2.48\n"
     ]
    }
   ],
   "source": [
    "g = gain(me.tansho_return, X_test)"
   ]
  },
  {
   "cell_type": "code",
   "execution_count": 243,
   "id": "5d37ed10",
   "metadata": {},
   "outputs": [
    {
     "data": {
      "image/png": "[encoded data removed]",
      "text/plain": [
       "<Figure size 432x288 with 1 Axes>"
      ]
     },
     "metadata": {
      "needs_background": "light"
     },
     "output_type": "display_data"
    }
   ],
   "source": [
    "plt.plot(g.index, (g['return_rate'] - 1) / g['std'], label='tansho')\n",
    "plt.plot(g.index, (gp['return_rate'] - 1) / gp['std'], label='proper')\n",
    "\n",
    "plt.xlim(0, 1000)\n",
    "plt.legend()\n",
    "plt.grid()"
   ]
  },
  {
   "cell_type": "code",
   "execution_count": 244,
   "id": "713ce507",
   "metadata": {},
   "outputs": [
    {
     "data": {
      "text/html": [
       "<div>\n",
       "<style scoped>\n",
       "    .dataframe tbody tr th:only-of-type {\n",
       "        vertical-align: middle;\n",
       "    }\n",
       "\n",
       "    .dataframe tbody tr th {\n",
       "        vertical-align: top;\n",
       "    }\n",
       "\n",
       "    .dataframe thead th {\n",
       "        text-align: right;\n",
       "    }\n",
       "</style>\n",
       "<table border=\"1\" class=\"dataframe\">\n",
       "  <thead>\n",
       "    <tr style=\"text-align: right;\">\n",
       "      <th></th>\n",
       "      <th>return_rate</th>\n",
       "      <th>n_hits</th>\n",
       "      <th>std</th>\n",
       "    </tr>\n",
       "  </thead>\n",
       "  <tbody>\n",
       "    <tr>\n",
       "      <th>32769</th>\n",
       "      <td>0.723071</td>\n",
       "      <td>4841.0</td>\n",
       "      <td>0.011764</td>\n",
       "    </tr>\n",
       "    <tr>\n",
       "      <th>32171</th>\n",
       "      <td>0.723869</td>\n",
       "      <td>4791.0</td>\n",
       "      <td>0.011809</td>\n",
       "    </tr>\n",
       "    <tr>\n",
       "      <th>31611</th>\n",
       "      <td>0.723365</td>\n",
       "      <td>4739.0</td>\n",
       "      <td>0.011859</td>\n",
       "    </tr>\n",
       "    <tr>\n",
       "      <th>31040</th>\n",
       "      <td>0.721234</td>\n",
       "      <td>4680.0</td>\n",
       "      <td>0.011919</td>\n",
       "    </tr>\n",
       "    <tr>\n",
       "      <th>30474</th>\n",
       "      <td>0.715295</td>\n",
       "      <td>4612.0</td>\n",
       "      <td>0.011875</td>\n",
       "    </tr>\n",
       "    <tr>\n",
       "      <th>...</th>\n",
       "      <td>...</td>\n",
       "      <td>...</td>\n",
       "      <td>...</td>\n",
       "    </tr>\n",
       "    <tr>\n",
       "      <th>1188</th>\n",
       "      <td>0.665404</td>\n",
       "      <td>110.0</td>\n",
       "      <td>0.091659</td>\n",
       "    </tr>\n",
       "    <tr>\n",
       "      <th>1186</th>\n",
       "      <td>0.663238</td>\n",
       "      <td>108.0</td>\n",
       "      <td>0.091798</td>\n",
       "    </tr>\n",
       "    <tr>\n",
       "      <th>1185</th>\n",
       "      <td>0.663797</td>\n",
       "      <td>108.0</td>\n",
       "      <td>0.091874</td>\n",
       "    </tr>\n",
       "    <tr>\n",
       "      <th>1184</th>\n",
       "      <td>0.664358</td>\n",
       "      <td>108.0</td>\n",
       "      <td>0.091950</td>\n",
       "    </tr>\n",
       "    <tr>\n",
       "      <th>1183</th>\n",
       "      <td>0.664920</td>\n",
       "      <td>108.0</td>\n",
       "      <td>0.092026</td>\n",
       "    </tr>\n",
       "  </tbody>\n",
       "</table>\n",
       "<p>98 rows × 3 columns</p>\n",
       "</div>"
      ],
      "text/plain": [
       "       return_rate  n_hits       std\n",
       "32769     0.723071  4841.0  0.011764\n",
       "32171     0.723869  4791.0  0.011809\n",
       "31611     0.723365  4739.0  0.011859\n",
       "31040     0.721234  4680.0  0.011919\n",
       "30474     0.715295  4612.0  0.011875\n",
       "...            ...     ...       ...\n",
       "1188      0.665404   110.0  0.091659\n",
       "1186      0.663238   108.0  0.091798\n",
       "1185      0.663797   108.0  0.091874\n",
       "1184      0.664358   108.0  0.091950\n",
       "1183      0.664920   108.0  0.092026\n",
       "\n",
       "[98 rows x 3 columns]"
      ]
     },
     "execution_count": 244,
     "metadata": {},
     "output_type": "execute_result"
    }
   ],
   "source": [
    "g"
   ]
  },
  {
   "cell_type": "code",
   "execution_count": 254,
   "id": "302396df",
   "metadata": {},
   "outputs": [
    {
     "data": {
      "image/png": "[encoded data removed]",
      "text/plain": [
       "<Figure size 432x288 with 1 Axes>"
      ]
     },
     "metadata": {
      "needs_background": "light"
     },
     "output_type": "display_data"
    }
   ],
   "source": [
    "# (tansho_gain3['n_hits' ] / tansho_gain3.index).plot()\n",
    "plt.plot(g.index, g['return_rate'], label='tansho')\n",
    "plt.plot(gp.index, gp['return_rate'], label='proper')\n",
    "plt.grid()"
   ]
  },
  {
   "cell_type": "code",
   "execution_count": 190,
   "id": "c48a4d36",
   "metadata": {},
   "outputs": [
    {
     "data": {
      "text/plain": [
       "return_rate       0.995278\n",
       "n_hits         1349.000000\n",
       "dtype: float64"
      ]
     },
     "execution_count": 190,
     "metadata": {},
     "output_type": "execute_result"
    }
   ],
   "source": [
    "tansho_gain3.max()"
   ]
  },
  {
   "cell_type": "code",
   "execution_count": 189,
   "id": "27483941",
   "metadata": {},
   "outputs": [
    {
     "data": {
      "text/plain": [
       "return_rate       1.003636\n",
       "n_hits         1349.000000\n",
       "dtype: float64"
      ]
     },
     "execution_count": 189,
     "metadata": {},
     "output_type": "execute_result"
    }
   ],
   "source": [
    "g.max()"
   ]
  },
  {
   "cell_type": "code",
   "execution_count": 137,
   "id": "d76381d4",
   "metadata": {},
   "outputs": [
    {
     "data": {
      "text/plain": [
       "<AxesSubplot:>"
      ]
     },
     "execution_count": 137,
     "metadata": {},
     "output_type": "execute_result"
    },
    {
     "data": {
      "image/png": "[encoded data removed]",
      "text/plain": [
       "<Figure size 432x288 with 1 Axes>"
      ]
     },
     "metadata": {
      "needs_background": "light"
     },
     "output_type": "display_data"
    }
   ],
   "source": [
    "fukusho_gain.rename('baseline').plot(legend=True)\n",
    "tansho_gain.rename('tansho').plot(legend=True)\n",
    "fukusho_gain3.rename('baseline2').plot(legend=True)\n",
    "tansho_gain3.rename('tansho2').plot(legend=True)"
   ]
  },
  {
   "cell_type": "code",
   "execution_count": 69,
   "id": "a5226f3a",
   "metadata": {},
   "outputs": [
    {
     "data": {
      "text/plain": [
       "1.3190258671283415"
      ]
     },
     "execution_count": 69,
     "metadata": {},
     "output_type": "execute_result"
    }
   ],
   "source": [
    "tansho_gain.max()"
   ]
  },
  {
   "cell_type": "code",
   "execution_count": 41,
   "id": "44d8ee8a",
   "metadata": {},
   "outputs": [],
   "source": [
    "import lightgbm as lgb\n",
    "\n",
    "params = {\n",
    "    'num_leaves': 4,\n",
    "    'n_estimators': 80,\n",
    "    'class_weight': 'balanced',\n",
    "    'random_state': 100\n",
    "}\n",
    "\n",
    "lgb_clf = lgb.LGBMClassifier(**params)\n",
    "lgb_clf.fit(X_train.values, y_train.values)\n",
    "y_pred_train = lgb_clf.predict_proba(X_train)[:, 1]\n",
    "y_pred = lgb_clf.predict_proba(X_test)[:, 1]"
   ]
  },
  {
   "cell_type": "code",
   "execution_count": 92,
   "id": "a05d7805",
   "metadata": {},
   "outputs": [
    {
     "data": {
      "text/html": [
       "<div>\n",
       "<style scoped>\n",
       "    .dataframe tbody tr th:only-of-type {\n",
       "        vertical-align: middle;\n",
       "    }\n",
       "\n",
       "    .dataframe tbody tr th {\n",
       "        vertical-align: top;\n",
       "    }\n",
       "\n",
       "    .dataframe thead th {\n",
       "        text-align: right;\n",
       "    }\n",
       "</style>\n",
       "<table border=\"1\" class=\"dataframe\">\n",
       "  <thead>\n",
       "    <tr style=\"text-align: right;\">\n",
       "      <th></th>\n",
       "      <th>単勝配当</th>\n",
       "      <th>馬連</th>\n",
       "      <th>馬単</th>\n",
       "      <th>３連複</th>\n",
       "      <th>３連単</th>\n",
       "      <th>複勝_1</th>\n",
       "      <th>複勝_2</th>\n",
       "      <th>複勝_3</th>\n",
       "      <th>馬番_1</th>\n",
       "      <th>馬番_2</th>\n",
       "      <th>馬番_3</th>\n",
       "      <th>複勝_4</th>\n",
       "      <th>馬番_4</th>\n",
       "      <th>馬番</th>\n",
       "    </tr>\n",
       "    <tr>\n",
       "      <th>レースID(新/馬番無)</th>\n",
       "      <th></th>\n",
       "      <th></th>\n",
       "      <th></th>\n",
       "      <th></th>\n",
       "      <th></th>\n",
       "      <th></th>\n",
       "      <th></th>\n",
       "      <th></th>\n",
       "      <th></th>\n",
       "      <th></th>\n",
       "      <th></th>\n",
       "      <th></th>\n",
       "      <th></th>\n",
       "      <th></th>\n",
       "    </tr>\n",
       "  </thead>\n",
       "  <tbody>\n",
       "    <tr>\n",
       "      <th>2017090909040104</th>\n",
       "      <td>730</td>\n",
       "      <td>850</td>\n",
       "      <td>2090</td>\n",
       "      <td>2230</td>\n",
       "      <td>13880</td>\n",
       "      <td>210</td>\n",
       "      <td>120</td>\n",
       "      <td>200</td>\n",
       "      <td>10</td>\n",
       "      <td>8</td>\n",
       "      <td>16</td>\n",
       "      <td>0</td>\n",
       "      <td>0</td>\n",
       "      <td>8</td>\n",
       "    </tr>\n",
       "    <tr>\n",
       "      <th>2017090909040110</th>\n",
       "      <td>300</td>\n",
       "      <td>590</td>\n",
       "      <td>1100</td>\n",
       "      <td>380</td>\n",
       "      <td>2230</td>\n",
       "      <td>110</td>\n",
       "      <td>110</td>\n",
       "      <td>110</td>\n",
       "      <td>5</td>\n",
       "      <td>1</td>\n",
       "      <td>7</td>\n",
       "      <td>0</td>\n",
       "      <td>0</td>\n",
       "      <td>1</td>\n",
       "    </tr>\n",
       "    <tr>\n",
       "      <th>2017090909040110</th>\n",
       "      <td>300</td>\n",
       "      <td>590</td>\n",
       "      <td>1100</td>\n",
       "      <td>380</td>\n",
       "      <td>2230</td>\n",
       "      <td>110</td>\n",
       "      <td>110</td>\n",
       "      <td>110</td>\n",
       "      <td>5</td>\n",
       "      <td>1</td>\n",
       "      <td>7</td>\n",
       "      <td>0</td>\n",
       "      <td>0</td>\n",
       "      <td>7</td>\n",
       "    </tr>\n",
       "    <tr>\n",
       "      <th>2017090909040112</th>\n",
       "      <td>2230</td>\n",
       "      <td>1100</td>\n",
       "      <td>4240</td>\n",
       "      <td>2890</td>\n",
       "      <td>32190</td>\n",
       "      <td>280</td>\n",
       "      <td>110</td>\n",
       "      <td>250</td>\n",
       "      <td>9</td>\n",
       "      <td>11</td>\n",
       "      <td>5</td>\n",
       "      <td>0</td>\n",
       "      <td>0</td>\n",
       "      <td>10</td>\n",
       "    </tr>\n",
       "    <tr>\n",
       "      <th>2017091006040203</th>\n",
       "      <td>500</td>\n",
       "      <td>370</td>\n",
       "      <td>990</td>\n",
       "      <td>1210</td>\n",
       "      <td>6250</td>\n",
       "      <td>160</td>\n",
       "      <td>110</td>\n",
       "      <td>260</td>\n",
       "      <td>14</td>\n",
       "      <td>1</td>\n",
       "      <td>2</td>\n",
       "      <td>0</td>\n",
       "      <td>0</td>\n",
       "      <td>1</td>\n",
       "    </tr>\n",
       "    <tr>\n",
       "      <th>...</th>\n",
       "      <td>...</td>\n",
       "      <td>...</td>\n",
       "      <td>...</td>\n",
       "      <td>...</td>\n",
       "      <td>...</td>\n",
       "      <td>...</td>\n",
       "      <td>...</td>\n",
       "      <td>...</td>\n",
       "      <td>...</td>\n",
       "      <td>...</td>\n",
       "      <td>...</td>\n",
       "      <td>...</td>\n",
       "      <td>...</td>\n",
       "      <td>...</td>\n",
       "    </tr>\n",
       "    <tr>\n",
       "      <th>2022051505020812</th>\n",
       "      <td>410</td>\n",
       "      <td>1410</td>\n",
       "      <td>2700</td>\n",
       "      <td>3870</td>\n",
       "      <td>17210</td>\n",
       "      <td>180</td>\n",
       "      <td>230</td>\n",
       "      <td>260</td>\n",
       "      <td>5</td>\n",
       "      <td>12</td>\n",
       "      <td>7</td>\n",
       "      <td>0</td>\n",
       "      <td>0</td>\n",
       "      <td>6</td>\n",
       "    </tr>\n",
       "    <tr>\n",
       "      <th>2022051507030404</th>\n",
       "      <td>540</td>\n",
       "      <td>6060</td>\n",
       "      <td>11240</td>\n",
       "      <td>1500</td>\n",
       "      <td>20400</td>\n",
       "      <td>140</td>\n",
       "      <td>300</td>\n",
       "      <td>110</td>\n",
       "      <td>2</td>\n",
       "      <td>1</td>\n",
       "      <td>8</td>\n",
       "      <td>0</td>\n",
       "      <td>0</td>\n",
       "      <td>8</td>\n",
       "    </tr>\n",
       "    <tr>\n",
       "      <th>2022051507030406</th>\n",
       "      <td>630</td>\n",
       "      <td>14010</td>\n",
       "      <td>21000</td>\n",
       "      <td>25320</td>\n",
       "      <td>140940</td>\n",
       "      <td>290</td>\n",
       "      <td>660</td>\n",
       "      <td>320</td>\n",
       "      <td>14</td>\n",
       "      <td>11</td>\n",
       "      <td>12</td>\n",
       "      <td>0</td>\n",
       "      <td>0</td>\n",
       "      <td>4</td>\n",
       "    </tr>\n",
       "    <tr>\n",
       "      <th>2022051507030408</th>\n",
       "      <td>1550</td>\n",
       "      <td>3410</td>\n",
       "      <td>8980</td>\n",
       "      <td>8190</td>\n",
       "      <td>74040</td>\n",
       "      <td>420</td>\n",
       "      <td>300</td>\n",
       "      <td>440</td>\n",
       "      <td>6</td>\n",
       "      <td>1</td>\n",
       "      <td>4</td>\n",
       "      <td>0</td>\n",
       "      <td>0</td>\n",
       "      <td>3</td>\n",
       "    </tr>\n",
       "    <tr>\n",
       "      <th>2022051507030409</th>\n",
       "      <td>760</td>\n",
       "      <td>1780</td>\n",
       "      <td>3360</td>\n",
       "      <td>640</td>\n",
       "      <td>6190</td>\n",
       "      <td>140</td>\n",
       "      <td>130</td>\n",
       "      <td>110</td>\n",
       "      <td>3</td>\n",
       "      <td>2</td>\n",
       "      <td>1</td>\n",
       "      <td>0</td>\n",
       "      <td>0</td>\n",
       "      <td>1</td>\n",
       "    </tr>\n",
       "  </tbody>\n",
       "</table>\n",
       "<p>5491 rows × 14 columns</p>\n",
       "</div>"
      ],
      "text/plain": [
       "                  単勝配当     馬連     馬単    ３連複     ３連単  複勝_1  複勝_2  複勝_3  馬番_1  \\\n",
       "レースID(新/馬番無)                                                                  \n",
       "2017090909040104   730    850   2090   2230   13880   210   120   200    10   \n",
       "2017090909040110   300    590   1100    380    2230   110   110   110     5   \n",
       "2017090909040110   300    590   1100    380    2230   110   110   110     5   \n",
       "2017090909040112  2230   1100   4240   2890   32190   280   110   250     9   \n",
       "2017091006040203   500    370    990   1210    6250   160   110   260    14   \n",
       "...                ...    ...    ...    ...     ...   ...   ...   ...   ...   \n",
       "2022051505020812   410   1410   2700   3870   17210   180   230   260     5   \n",
       "2022051507030404   540   6060  11240   1500   20400   140   300   110     2   \n",
       "2022051507030406   630  14010  21000  25320  140940   290   660   320    14   \n",
       "2022051507030408  1550   3410   8980   8190   74040   420   300   440     6   \n",
       "2022051507030409   760   1780   3360    640    6190   140   130   110     3   \n",
       "\n",
       "                  馬番_2  馬番_3  複勝_4  馬番_4  馬番  \n",
       "レースID(新/馬番無)                                  \n",
       "2017090909040104     8    16     0     0   8  \n",
       "2017090909040110     1     7     0     0   1  \n",
       "2017090909040110     1     7     0     0   7  \n",
       "2017090909040112    11     5     0     0  10  \n",
       "2017091006040203     1     2     0     0   1  \n",
       "...                ...   ...   ...   ...  ..  \n",
       "2022051505020812    12     7     0     0   6  \n",
       "2022051507030404     1     8     0     0   8  \n",
       "2022051507030406    11    12     0     0   4  \n",
       "2022051507030408     1     4     0     0   3  \n",
       "2022051507030409     2     1     0     0   1  \n",
       "\n",
       "[5491 rows x 14 columns]"
      ]
     },
     "execution_count": 92,
     "metadata": {},
     "output_type": "execute_result"
    }
   ],
   "source": [
    "haitou = pd.read_pickle('haito.pickle')\n",
    "me = ModelEvaluator(lgb_clf, haitou, False)\n",
    "me.tansho_return_proper(X_test)"
   ]
  },
  {
   "cell_type": "code",
   "execution_count": 288,
   "id": "69a8b166",
   "metadata": {},
   "outputs": [
    {
     "name": "stderr",
     "output_type": "stream",
     "text": [
      "100%|█| 100/100 [04:20<00:00,  2.61\n",
      "100%|█| 100/100 [04:25<00:00,  2.66\n"
     ]
    }
   ],
   "source": [
    "haitou = pd.read_pickle('haito.pickle')\n",
    "me = ModelEvaluator(lgb_clf, haitou, True)\n",
    "fukusho_gain2 = gain(me.fukusho_return, X_test)\n",
    "tansho_gain2 = gain(me.tansho_return, X_test)"
   ]
  },
  {
   "cell_type": "code",
   "execution_count": 289,
   "id": "9540d5a7",
   "metadata": {},
   "outputs": [
    {
     "data": {
      "text/plain": [
       "<AxesSubplot:>"
      ]
     },
     "execution_count": 289,
     "metadata": {},
     "output_type": "execute_result"
    },
    {
     "data": {
      "image/png": "[encoded data removed]",
      "text/plain": [
       "<Figure size 432x288 with 1 Axes>"
      ]
     },
     "metadata": {
      "needs_background": "light"
     },
     "output_type": "display_data"
    }
   ],
   "source": [
    "fukusho_gain.rename('baseline').plot(legend=True)\n",
    "tansho_gain.rename('tansho').plot(legend=True)\n",
    "fukusho_gain2.rename('baseline2').plot(legend=True)\n",
    "tansho_gain2.rename('tansho2').plot(legend=True)"
   ]
  },
  {
   "cell_type": "code",
   "execution_count": 290,
   "id": "26aefe9c",
   "metadata": {},
   "outputs": [
    {
     "data": {
      "text/plain": [
       "0.8296296296296296"
      ]
     },
     "execution_count": 290,
     "metadata": {},
     "output_type": "execute_result"
    }
   ],
   "source": [
    "tansho_gain2.max()"
   ]
  },
  {
   "cell_type": "code",
   "execution_count": 151,
   "id": "105dbf3d",
   "metadata": {},
   "outputs": [
    {
     "data": {
      "text/html": [
       "<div>\n",
       "<style scoped>\n",
       "    .dataframe tbody tr th:only-of-type {\n",
       "        vertical-align: middle;\n",
       "    }\n",
       "\n",
       "    .dataframe tbody tr th {\n",
       "        vertical-align: top;\n",
       "    }\n",
       "\n",
       "    .dataframe thead th {\n",
       "        text-align: right;\n",
       "    }\n",
       "</style>\n",
       "<table border=\"1\" class=\"dataframe\">\n",
       "  <thead>\n",
       "    <tr style=\"text-align: right;\">\n",
       "      <th></th>\n",
       "      <th>horse_id</th>\n",
       "      <th>proba</th>\n",
       "    </tr>\n",
       "    <tr>\n",
       "      <th>レースID(新/馬番無)</th>\n",
       "      <th></th>\n",
       "      <th></th>\n",
       "    </tr>\n",
       "  </thead>\n",
       "  <tbody>\n",
       "    <tr>\n",
       "      <th>2021082810040506</th>\n",
       "      <td>8550</td>\n",
       "      <td>0.427769</td>\n",
       "    </tr>\n",
       "    <tr>\n",
       "      <th>2021082810040506</th>\n",
       "      <td>8819</td>\n",
       "      <td>0.640520</td>\n",
       "    </tr>\n",
       "    <tr>\n",
       "      <th>2021082810040506</th>\n",
       "      <td>6649</td>\n",
       "      <td>0.379609</td>\n",
       "    </tr>\n",
       "    <tr>\n",
       "      <th>2021082810040506</th>\n",
       "      <td>6886</td>\n",
       "      <td>0.455145</td>\n",
       "    </tr>\n",
       "    <tr>\n",
       "      <th>2021082810040506</th>\n",
       "      <td>9130</td>\n",
       "      <td>0.544732</td>\n",
       "    </tr>\n",
       "    <tr>\n",
       "      <th>...</th>\n",
       "      <td>...</td>\n",
       "      <td>...</td>\n",
       "    </tr>\n",
       "    <tr>\n",
       "      <th>2022051504010401</th>\n",
       "      <td>9844</td>\n",
       "      <td>0.472437</td>\n",
       "    </tr>\n",
       "    <tr>\n",
       "      <th>2022051504010401</th>\n",
       "      <td>9326</td>\n",
       "      <td>0.416658</td>\n",
       "    </tr>\n",
       "    <tr>\n",
       "      <th>2022051504010401</th>\n",
       "      <td>9647</td>\n",
       "      <td>0.419073</td>\n",
       "    </tr>\n",
       "    <tr>\n",
       "      <th>2022051504010401</th>\n",
       "      <td>10338</td>\n",
       "      <td>0.474616</td>\n",
       "    </tr>\n",
       "    <tr>\n",
       "      <th>2022051504010401</th>\n",
       "      <td>9765</td>\n",
       "      <td>0.520072</td>\n",
       "    </tr>\n",
       "  </tbody>\n",
       "</table>\n",
       "<p>18973 rows × 2 columns</p>\n",
       "</div>"
      ],
      "text/plain": [
       "                 horse_id     proba\n",
       "レースID(新/馬番無)                       \n",
       "2021082810040506     8550  0.427769\n",
       "2021082810040506     8819  0.640520\n",
       "2021082810040506     6649  0.379609\n",
       "2021082810040506     6886  0.455145\n",
       "2021082810040506     9130  0.544732\n",
       "...                   ...       ...\n",
       "2022051504010401     9844  0.472437\n",
       "2022051504010401     9326  0.416658\n",
       "2022051504010401     9647  0.419073\n",
       "2022051504010401    10338  0.474616\n",
       "2022051504010401     9765  0.520072\n",
       "\n",
       "[18973 rows x 2 columns]"
      ]
     },
     "execution_count": 151,
     "metadata": {},
     "output_type": "execute_result"
    }
   ],
   "source": [
    "proba_table = X_test[['horse_id']].copy()\n",
    "proba_table['proba'] = me.predict_proba(X_test)\n",
    "proba_table"
   ]
  },
  {
   "cell_type": "code",
   "execution_count": 153,
   "id": "0153fe58",
   "metadata": {},
   "outputs": [
    {
     "data": {
      "text/plain": [
       "R\n",
       "01    0.429840\n",
       "02    0.431239\n",
       "03    0.446786\n",
       "04    0.462838\n",
       "05    0.447174\n",
       "06    0.464697\n",
       "07    0.473948\n",
       "08    0.471670\n",
       "09    0.488015\n",
       "10    0.479552\n",
       "11    0.477764\n",
       "12    0.452387\n",
       "Name: proba, dtype: float64"
      ]
     },
     "execution_count": 153,
     "metadata": {},
     "output_type": "execute_result"
    }
   ],
   "source": [
    "proba_table['R'] = proba_table.index.map(lambda x: str(x)[-2:])\n",
    "proba_table.groupby('R')['proba'].mean()"
   ]
  },
  {
   "cell_type": "code",
   "execution_count": 158,
   "id": "960cede5",
   "metadata": {},
   "outputs": [
    {
     "data": {
      "text/plain": [
       "0.4429979070774773"
      ]
     },
     "execution_count": 158,
     "metadata": {},
     "output_type": "execute_result"
    }
   ],
   "source": [
    "a = proba_table.loc[2021082810040506]['proba']\n",
    "a.mean()"
   ]
  },
  {
   "cell_type": "code",
   "execution_count": 159,
   "id": "a9be406c",
   "metadata": {},
   "outputs": [
    {
     "data": {
      "text/plain": [
       "0.03655172173273936"
      ]
     },
     "execution_count": 159,
     "metadata": {},
     "output_type": "execute_result"
    }
   ],
   "source": [
    "a.var()"
   ]
  },
  {
   "cell_type": "code",
   "execution_count": 160,
   "id": "757627d6",
   "metadata": {},
   "outputs": [
    {
     "data": {
      "text/plain": [
       "0.19118504578742385"
      ]
     },
     "execution_count": 160,
     "metadata": {},
     "output_type": "execute_result"
    }
   ],
   "source": [
    "a.std()"
   ]
  },
  {
   "cell_type": "code",
   "execution_count": 162,
   "id": "8a407732",
   "metadata": {},
   "outputs": [
    {
     "data": {
      "text/plain": [
       "レースID(新/馬番無)\n",
       "2021082810040506   -0.079655\n",
       "2021082810040506    1.033147\n",
       "2021082810040506   -0.331555\n",
       "2021082810040506    0.063537\n",
       "2021082810040506    0.532126\n",
       "2021082810040506    1.170947\n",
       "2021082810040506   -1.520903\n",
       "2021082810040506   -1.439651\n",
       "2021082810040506    1.182855\n",
       "2021082810040506   -0.610848\n",
       "Name: proba, dtype: float64"
      ]
     },
     "execution_count": 162,
     "metadata": {},
     "output_type": "execute_result"
    }
   ],
   "source": [
    "a_std = (a - a.mean())/a.std()\n",
    "a_std"
   ]
  },
  {
   "cell_type": "code",
   "execution_count": 164,
   "id": "e17225fa",
   "metadata": {},
   "outputs": [
    {
     "data": {
      "text/plain": [
       "1.0"
      ]
     },
     "execution_count": 164,
     "metadata": {},
     "output_type": "execute_result"
    }
   ],
   "source": [
    "a_std.var()"
   ]
  },
  {
   "cell_type": "code",
   "execution_count": 167,
   "id": "2cb7e7f8",
   "metadata": {},
   "outputs": [
    {
     "data": {
      "text/plain": [
       "レースID(新/馬番無)\n",
       "2021082804040502    3.774320\n",
       "2021082804040503    4.194427\n",
       "2021082804040504    5.035987\n",
       "2021082804040507    4.325438\n",
       "2021082804040508    3.105871\n",
       "                      ...   \n",
       "2022051507030408    3.356085\n",
       "2022051507030409    5.285214\n",
       "2022051507030410    3.993036\n",
       "2022051507030411    6.472230\n",
       "2022051507030412    2.537162\n",
       "Name: proba, Length: 2095, dtype: float64"
      ]
     },
     "execution_count": 167,
     "metadata": {},
     "output_type": "execute_result"
    }
   ],
   "source": [
    "import numpy as np\n",
    "proba_table.groupby(level=0)['proba'].apply(np.sum)"
   ]
  },
  {
   "cell_type": "code",
   "execution_count": 169,
   "id": "5695c608",
   "metadata": {},
   "outputs": [
    {
     "data": {
      "text/plain": [
       "レースID(新/馬番無)\n",
       "2021082810040506    4.429979\n",
       "2021082810040506    4.429979\n",
       "2021082810040506    4.429979\n",
       "2021082810040506    4.429979\n",
       "2021082810040506    4.429979\n",
       "2021082810040506    4.429979\n",
       "2021082810040506    4.429979\n",
       "2021082810040506    4.429979\n",
       "2021082810040506    4.429979\n",
       "2021082810040506    4.429979\n",
       "Name: proba, dtype: float64"
      ]
     },
     "execution_count": 169,
     "metadata": {},
     "output_type": "execute_result"
    }
   ],
   "source": [
    "proba_table.groupby(level=0)['proba'].transform(np.sum).loc[2021082810040506]"
   ]
  },
  {
   "cell_type": "code",
   "execution_count": 171,
   "id": "0a019664",
   "metadata": {},
   "outputs": [],
   "source": [
    "standard_scaler = lambda x: (x - x.mean()) / x.std()\n",
    "proba_std = proba_table.groupby(level=0)['proba'].transform(standard_scaler)"
   ]
  },
  {
   "cell_type": "code",
   "execution_count": 172,
   "id": "6efc59f4",
   "metadata": {},
   "outputs": [
    {
     "data": {
      "text/plain": [
       "<AxesSubplot:>"
      ]
     },
     "execution_count": 172,
     "metadata": {},
     "output_type": "execute_result"
    },
    {
     "data": {
      "image/png": "[encoded data removed]",
      "text/plain": [
       "<Figure size 432x288 with 1 Axes>"
      ]
     },
     "metadata": {
      "needs_background": "light"
     },
     "output_type": "display_data"
    }
   ],
   "source": [
    "proba_std.hist()"
   ]
  },
  {
   "cell_type": "code",
   "execution_count": 175,
   "id": "a754b27f",
   "metadata": {},
   "outputs": [
    {
     "data": {
      "text/plain": [
       "<AxesSubplot:>"
      ]
     },
     "execution_count": 175,
     "metadata": {},
     "output_type": "execute_result"
    },
    {
     "data": {
      "image/png": "[encoded data removed]",
      "text/plain": [
       "<Figure size 432x288 with 1 Axes>"
      ]
     },
     "metadata": {
      "needs_background": "light"
     },
     "output_type": "display_data"
    }
   ],
   "source": [
    "proba_minmax = (proba_std - proba_std.min()) / (proba_std.max() - proba_std.min())\n",
    "proba_minmax.hist()"
   ]
  },
  {
   "cell_type": "code",
   "execution_count": null,
   "id": "827ef08c",
   "metadata": {},
   "outputs": [],
   "source": []
  }
 ],
 "metadata": {
  "kernelspec": {
   "display_name": "vir_env",
   "language": "python",
   "name": "vir_env"
  },
  "language_info": {
   "codemirror_mode": {
    "name": "ipython",
    "version": 3
   },
   "file_extension": ".py",
   "mimetype": "text/x-python",
   "name": "python",
   "nbconvert_exporter": "python",
   "pygments_lexer": "ipython3",
   "version": "3.9.13"
  }
 },
 "nbformat": 4,
 "nbformat_minor": 5
}
